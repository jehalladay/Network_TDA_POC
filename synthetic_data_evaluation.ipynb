{
 "cells": [
  {
   "cell_type": "markdown",
   "metadata": {},
   "source": [
    "\n",
    "Here we load data from the [CIC-Darknet2020](https://www.unb.ca/cic/datasets/darknet2020.html) dataset to explore methods of converting tabular data into image data using the Identity-oriented Tabular Image Transformation method."
   ]
  },
  {
   "cell_type": "code",
   "execution_count": 1,
   "metadata": {},
   "outputs": [
    {
     "data": {
      "text/html": [
       "        <script type=\"text/javascript\">\n",
       "        window.PlotlyConfig = {MathJaxConfig: 'local'};\n",
       "        if (window.MathJax) {MathJax.Hub.Config({SVG: {font: \"STIX-Web\"}});}\n",
       "        if (typeof require !== 'undefined') {\n",
       "        require.undef(\"plotly\");\n",
       "        requirejs.config({\n",
       "            paths: {\n",
       "                'plotly': ['https://cdn.plot.ly/plotly-2.9.0.min']\n",
       "            }\n",
       "        });\n",
       "        require(['plotly'], function(Plotly) {\n",
       "            window._Plotly = Plotly;\n",
       "        });\n",
       "        }\n",
       "        </script>\n",
       "        "
      ]
     },
     "metadata": {},
     "output_type": "display_data"
    },
    {
     "name": "stdout",
     "output_type": "stream",
     "text": [
      "\n",
      "    Last Execution: 2022-06-05 19:19:15.164811\n",
      "    python:\t3.7.10\n",
      "\n",
      "    \tfastai:\t\t2.4.1\n",
      "    \tgiotto-tda:\t0.5.1\n",
      "    \tmatplotlib:\t3.5.1\n",
      "    \tnumpy:\t\t1.20.3\n",
      "    \tpandas:\t\t1.3.4\n",
      "    \tplotly:\t\t5.6.0\n",
      "    \tseaborn:\t0.11.2\n",
      "    \tsdv:\t\t0.13.1\n",
      "    \tsklearn:\t1.0.2\n",
      "    \ttorch:\t\t1.9.0\n",
      "    \tyellowbrick:\t1.3.post1\n",
      "\n",
      "    \tdevice:\t\tcpu\n",
      "    \n"
     ]
    }
   ],
   "source": [
    "import colorsys, contextlib, datetime, os, pathlib, platform, pprint, sys\n",
    "import gtda\n",
    "import ipywidgets as widgets\n",
    "import matplotlib as mpl\n",
    "import matplotlib.pyplot as plt\n",
    "import numpy as np\n",
    "import pandas as pd\n",
    "import PIL\n",
    "import PIL.Image as Image\n",
    "import plotly as py\n",
    "import plotly.graph_objs as go\n",
    "import plotly.io as pio\n",
    "import pomegranate as pg\n",
    "import seaborn as sns\n",
    "import sdv\n",
    "import sklearn\n",
    "import torch\n",
    "import torch.nn as nn\n",
    "import torch.nn.functional as F\n",
    "import yellowbrick as yb\n",
    "\n",
    "fastai_gpu_conflict = True\n",
    "if(fastai_gpu_conflict):\n",
    "    torch.cuda.is_available = lambda : False\n",
    "\n",
    "\n",
    "from collections import namedtuple, ChainMap\n",
    "\n",
    "import fastai\n",
    "from fastai.basics import Tensor\n",
    "from fastai.callback.all import CollectDataCallback, Callback, ProgressCallback\n",
    "from fastai.callback.all import LRFinder, EarlyStoppingCallback, SaveModelCallback, ShowGraphCallback, CSVLogger, slide, steep, minimum, valley\n",
    "from fastai.data.all import Transform, DisplayedTransform\n",
    "from fastai.layers import Cat, Identity\n",
    "from fastai.metrics import MatthewsCorrCoef, F1Score, Recall, Precision, RocAuc, BalancedAccuracy\n",
    "from fastai.optimizer import ranger, Adam\n",
    "from fastai.tabular.data import TabularDataLoaders, TabularPandas, MultiCategoryBlock\n",
    "from fastai.tabular.all import delegates, tabular_config, TabularLearner, get_c, ifnone, is_listy, LinBnDrop, SigmoidRange \n",
    "from fastai.tabular.all import FillMissing, Categorify, Normalize, tabular_learner, accuracy, ClassificationInterpretation, range_of\n",
    "from fastai.tabular.all import get_emb_sz, Module, Learner, Embedding, CrossEntropyLossFlat, IndexSplitter, ColSplitter, RandomSplitter\n",
    "from fastai.test_utils import synth_learner, VerboseCallback\n",
    "from fastai.torch_core import Enum\n",
    "\n",
    "from fastcore.all import Transform, store_attr, L\n",
    "\n",
    "from pytorch_tabnet.tab_network import TabNetNoEmbeddings\n",
    "from fast_tabnet.core import TabNetModel as TabNet, tabnet_feature_importances, tabnet_explain\n",
    "\n",
    "from gtda.curves import Derivative, StandardFeatures\n",
    "from gtda.diagrams import PersistenceEntropy, Amplitude, NumberOfPoints, ComplexPolynomial, PersistenceLandscape, PersistenceImage, BettiCurve, Silhouette, HeatKernel\n",
    "from gtda.homology import VietorisRipsPersistence, EuclideanCechPersistence\n",
    "from gtda.plotting import plot_diagram, plot_point_cloud, plot_betti_curves, plot_betti_surfaces\n",
    "\n",
    "from plotly.offline import download_plotlyjs, init_notebook_mode, plot, iplot\n",
    "from plotly.subplots import make_subplots\n",
    "\n",
    "from sdv.metrics.tabular import MulticlassDecisionTreeClassifier, CSTest, KSTest, ContinuousKLDivergence, BNLikelihood, GMLogLikelihood, LogisticDetection, MulticlassMLPClassifier, BNLogLikelihood\n",
    "from sdv.tabular import TVAE, CopulaGAN, CTGAN, GaussianCopula\n",
    "from sdv.evaluation import evaluate\n",
    "\n",
    "from sklearn.base import BaseEstimator\n",
    "from sklearn.cluster import KMeans\n",
    "from sklearn.decomposition import PCA\n",
    "from sklearn.ensemble import RandomForestClassifier\n",
    "from sklearn.feature_selection import SelectKBest\n",
    "from sklearn.manifold import TSNE\n",
    "from sklearn.metrics import accuracy_score, classification_report\n",
    "from sklearn.model_selection import train_test_split, StratifiedShuffleSplit, KFold, cross_val_score\n",
    "from sklearn.neighbors import KNeighborsClassifier\n",
    "from sklearn.linear_model import LogisticRegression\n",
    "from sklearn.pipeline import Pipeline, FeatureUnion\n",
    "from sklearn.preprocessing import StandardScaler, MinMaxScaler, RobustScaler\n",
    "\n",
    "from torch.utils.data import Dataset, DataLoader\n",
    "\n",
    "from yellowbrick.model_selection import CVScores, LearningCurve, ValidationCurve\n",
    "\n",
    "seed: int = 14\n",
    "\n",
    "# allow plots to be shown in the notebook\n",
    "init_notebook_mode(connected=True)\n",
    "# pio.renderers.default = \"iframe\"\n",
    "\n",
    "\n",
    "\n",
    "device = 'cuda' if torch.cuda.is_available() else 'cpu'\n",
    "\n",
    "# set up pandas display options\n",
    "pd.set_option('display.max_colwidth', None)\n",
    "pd.set_option('display.max_columns', None)\n",
    "pd.set_option('display.max_rows', 50)\n",
    "\n",
    "# set up pretty printer for easier data evaluation\n",
    "pretty = pprint.PrettyPrinter(indent=4, width=30).pprint\n",
    "\n",
    "\n",
    "# print library and python versions for reproducibility\n",
    "print(\n",
    "    f'''\n",
    "    Last Execution: {datetime.datetime.now()}\n",
    "    python:\\t{platform.python_version()}\n",
    "\n",
    "    \\tfastai:\\t\\t{fastai.__version__}\n",
    "    \\tgiotto-tda:\\t{gtda.__version__}\n",
    "    \\tmatplotlib:\\t{mpl.__version__}\n",
    "    \\tnumpy:\\t\\t{np.__version__}\n",
    "    \\tpandas:\\t\\t{pd.__version__}\n",
    "    \\tplotly:\\t\\t{py.__version__}\n",
    "    \\tseaborn:\\t{sns.__version__}\n",
    "    \\tsdv:\\t\\t{sdv.__version__}\n",
    "    \\tsklearn:\\t{sklearn.__version__}\n",
    "    \\ttorch:\\t\\t{torch.__version__}\n",
    "    \\tyellowbrick:\\t{yb.__version__}\n",
    "\n",
    "    \\tdevice:\\t\\t{device}\n",
    "    '''\n",
    ")"
   ]
  },
  {
   "cell_type": "markdown",
   "metadata": {},
   "source": [
    "First we create some helper functions to load and process the data"
   ]
  },
  {
   "cell_type": "code",
   "execution_count": 2,
   "metadata": {},
   "outputs": [],
   "source": [
    "def get_file_path(directory: str) -> callable:\n",
    "    '''\n",
    "        Closure that will return a function. \n",
    "        Function will return the filepath to the directory given to the closure\n",
    "    '''\n",
    "\n",
    "    def func(file: str) -> str:\n",
    "        return os.path.join(directory, file)\n",
    "\n",
    "    return func\n",
    "\n",
    "\n",
    "\n",
    "def load_data(filePath: str) -> pd.DataFrame:\n",
    "    '''\n",
    "        Loads the Dataset from the given filepath and caches it for quick access in the future\n",
    "        Function will only work when filepath is a .csv file\n",
    "    '''\n",
    "\n",
    "    p = pathlib.Path(filePath)\n",
    "\n",
    "    filePathClean: str = str(p.parts[-1])\n",
    "    pickleDump   : str = f'./cache/{filePathClean}.pickle'\n",
    "\n",
    "    print(f'Loading Dataset: {filePath}')\n",
    "    print(f'\\tTo Dataset Cache: {pickleDump}\\n')\n",
    "\n",
    "\n",
    "    # check if data already exists within cache\n",
    "    if os.path.exists(pickleDump):\n",
    "        df = pd.read_pickle(pickleDump)\n",
    " \n",
    "    # if not, load data and clean it before caching it\n",
    "    else:\n",
    "        df: pd.DataFrame = pd.read_csv(filePath, low_memory=True)\n",
    "        df.to_pickle(pickleDump)\n",
    "    \n",
    "    return df\n",
    "\n",
    "\n",
    "\n",
    "def features_with_bad_values(df: pd.DataFrame, datasetName: str) -> pd.DataFrame:\n",
    "    '''\n",
    "        Function will scan the dataframe for features with Inf, NaN, or Zero values.\n",
    "        Returns a new dataframe describing the distribution of these values in the original dataframe\n",
    "    '''\n",
    "\n",
    "    # Inf and NaN values can take different forms so we screen for every one of them\n",
    "    invalid_values: list = [ np.inf, np.nan, 'Infinity', 'inf', 'NaN', 'nan', 0 ]\n",
    "    infs          : list = [ np.inf, 'Infinity', 'inf' ]\n",
    "    NaNs          : list = [ np.nan, 'NaN', 'nan' ]\n",
    "\n",
    "    # We will collect stats on the dataset, specifically how many instances of Infs, NaNs, and 0s are present.\n",
    "    # using a dictionary that will be converted into a (3, n) dataframe where n is the number of features in the dataset\n",
    "    stats: dict = {\n",
    "        'Dataset':[ datasetName, datasetName, datasetName ],\n",
    "        'Value'  :['Inf', 'NaN', 'Zero']\n",
    "    }\n",
    "\n",
    "    i = 0\n",
    "    for col in df.columns:\n",
    "        \n",
    "        i += 1\n",
    "        feature = np.zeros(3)\n",
    "        \n",
    "        for value in invalid_values:\n",
    "            if value in infs:\n",
    "                j = 0\n",
    "            elif value in NaNs:\n",
    "                j = 1\n",
    "            else:\n",
    "                j = 2\n",
    "            indexNames = df[df[col] == value].index\n",
    "            if not indexNames.empty:\n",
    "                feature[j] += len(indexNames)\n",
    "                \n",
    "        stats[col] = feature\n",
    "\n",
    "    return pd.DataFrame(stats)\n",
    "\n",
    "\n",
    "\n",
    "def clean_data(df: pd.DataFrame, prune: list) -> pd.DataFrame:\n",
    "    '''\n",
    "        Function will take a dataframe and remove the columns that match a value in prune \n",
    "        Inf and Nan values will also be removed once appropriate rows and columns \n",
    "        have been removed, \n",
    "        we will return the dataframe with the appropriate values\n",
    "    '''\n",
    "\n",
    "    # remove the features in the prune list    \n",
    "    for col in prune:\n",
    "        if col in df.columns:\n",
    "            df.drop(columns=[col], inplace=True)\n",
    "\n",
    "    \n",
    "    # drop missing values/NaN etc.\n",
    "    df.dropna(inplace=True)\n",
    "\n",
    "    \n",
    "    # Search through dataframe for any Infinite or NaN values in various forms that were not picked up previously\n",
    "    invalid_values: list = [\n",
    "        np.inf, np.nan, 'Infinity', 'inf', 'NaN', 'nan'\n",
    "    ]\n",
    "    \n",
    "    for col in df.columns:\n",
    "        for value in invalid_values:\n",
    "            indexNames = df[df[col] == value].index\n",
    "            if not indexNames.empty:\n",
    "                print(f'deleting {len(indexNames)} rows with Infinity in column {col}')\n",
    "                df.drop(indexNames, inplace=True)\n",
    "\n",
    "    return df\n",
    "\n",
    "\n",
    "\n",
    "def examine_dataset(job_id: int, files: str or None = None, datasets: str or None = None) -> ChainMap:\n",
    "    '''\n",
    "        Function will return a dictionary containing dataframe of the job_id passed in as well as that dataframe's\n",
    "        feature stats, data composition, and file name.\n",
    "\n",
    "        This dictionary is expected as the input for all of the other helper functions\n",
    "    '''\n",
    "    if files is None and 'file_set' in tuple(globals()):\n",
    "        files = file_set\n",
    "\n",
    "    if datasets is None and 'data_set' in tuple(globals()):\n",
    "        datasets = data_set\n",
    "\n",
    "\n",
    "    job_id = job_id - 1  # adjusts for indexing while enumerating jobs from 1\n",
    "    print(f'Dataset {job_id+1}/{len(datasets)}: We now look at {files[job_id]}\\n\\n')\n",
    "\n",
    "    # Load the dataset\n",
    "    df: pd.DataFrame = load_data(files[job_id])\n",
    " \n",
    "\n",
    "    # print the data composition\n",
    "    print(f'''\n",
    "        File:\\t\\t\\t\\t{files[job_id]}  \n",
    "        Job Number:\\t\\t\\t{job_id+1}\n",
    "        Shape:\\t\\t\\t\\t{df.shape}\n",
    "        Samples:\\t\\t\\t{df.shape[0]} \n",
    "        Features:\\t\\t\\t{df.shape[1]}\n",
    "    ''')\n",
    "    \n",
    "\n",
    "    # return the dataframe and the feature stats in a chainmap. This is a dictionary that can be\n",
    "    #     updated by other functions, grouping together dictionaries and only showing the keys\n",
    "    #     that appear first in the chainmap. This is useful for transforming the dataset and \n",
    "    #     performing experiments, so we can keep track of the history and do not need to reload\n",
    "    #     the dataset.\n",
    "    data_summary: ChainMap =  ChainMap({\n",
    "        'File':             files[job_id],\n",
    "        'Dataset':          df,\n",
    "        'Feature_stats':    features_with_bad_values(df, files[job_id]), \n",
    "    })\n",
    "    \n",
    "    return data_summary\n",
    "\n",
    "\n",
    "\n",
    "def package_data_for_inspection(df: pd.DataFrame) -> ChainMap:\n",
    "    '''\n",
    "        Function will return a dictionary containing dataframe passed in as well as that dataframe's feature stats.\n",
    "    '''\n",
    "\n",
    "    # print the data composition\n",
    "    print(f'''\n",
    "    Packaging Data:\n",
    "\n",
    "    Dataset statistics:\n",
    "        Shape:\\t\\t\\t\\t{df.shape}\n",
    "        Samples:\\t\\t\\t{df.shape[0]} \n",
    "        Features:\\t\\t\\t{df.shape[1]}\n",
    "    ''')\n",
    "    \n",
    "\n",
    "    # return the dataframe and the feature stats\n",
    "    data_summary: ChainMap =  ChainMap({\n",
    "        'File':             '',\n",
    "        'Dataset':          df,\n",
    "        'Feature_stats':    features_with_bad_values(df, ''), \n",
    "    })\n",
    "    \n",
    "    return data_summary\n",
    "\n",
    "\n",
    "\n",
    "def package_data_for_inspection_with_label(df: pd.DataFrame, label: str) -> ChainMap:\n",
    "    '''\n",
    "        Function will return a dictionary containing dataframe passed in as well as that dataframe's feature stats.\n",
    "    '''\n",
    "\n",
    "    # print the data composition\n",
    "    print(f'''\n",
    "    Packaging Data {label}:\n",
    "\n",
    "    Dataset statistics:\n",
    "        Shape:\\t\\t\\t\\t{df.shape}\n",
    "        Samples:\\t\\t\\t{df.shape[0]} \n",
    "        Features:\\t\\t\\t{df.shape[1]}\n",
    "    ''')\n",
    "    \n",
    "\n",
    "    # return the dataframe and the feature stats\n",
    "    data_summary: ChainMap =  ChainMap({\n",
    "        'File':             f'{label}',\n",
    "        'Dataset':          df,\n",
    "        'Feature_stats':    features_with_bad_values(df, f'{label}'),\n",
    "    })\n",
    "    \n",
    "    return data_summary\n",
    "\n",
    "\n",
    "\n",
    "def rename_columns(data_summary: ChainMap, columns: list, new_names: list) -> ChainMap:\n",
    "    '''\n",
    "        Function will return the data_summary dict with the names of the columns in the dataframe changed\n",
    "    '''\n",
    "\n",
    "    df: pd.DataFrame = data_summary['Dataset'].copy()\n",
    "    for x, i in enumerate(columns):\n",
    "        df.rename(columns={i: new_names[x]}, inplace=True)\n",
    "\n",
    "    out: dict = {'Dataset': df}\n",
    "\n",
    "    return data_summary.new_child(out)\n",
    "\n",
    "\n",
    "\n",
    "def rename_values_in_column(data_summary: ChainMap, replace: list) -> pd.DataFrame:\n",
    "    '''\n",
    "        Function will return a dataframe with the names of the columns changed\n",
    "\n",
    "        replace: [('column', {'old_name': 'new_name', ...}), ...]\n",
    "    '''\n",
    "    length: int = len(replace)\n",
    "\n",
    "    df: pd.DataFrame = data_summary['Dataset'].copy()\n",
    "    for i in range(length):\n",
    "        df[replace[i][0]].replace(replace[i][1], inplace=True)\n",
    "\n",
    "\n",
    "    return df\n",
    "\n",
    "\n",
    "\n",
    "def rename_values_in_column_df(df: pd.DataFrame, replace: list) -> pd.DataFrame:\n",
    "    '''\n",
    "        Function will return a dataframe with the names of the columns changed\n",
    "\n",
    "        replace: [('column', {'old_name': 'new_name', ...}), ...]\n",
    "    '''\n",
    "    length: int = len(replace)\n",
    "\n",
    "    df1: pd.DataFrame = df.copy()\n",
    "    for i in range(length):\n",
    "        df1[replace[i][0]].replace(replace[i][1], inplace=True)\n",
    "\n",
    "\n",
    "    return df1\n",
    "\n",
    "\n",
    "\n",
    "def prune_dataset(data_summary: ChainMap, prune: list) -> pd.DataFrame:\n",
    "    '''\n",
    "        Function will return the dataset with all the columns in the prune list removed.\n",
    "    '''\n",
    "\n",
    "    df: pd.DataFrame = data_summary['Dataset'].copy()\n",
    "    df = clean_data(df, prune)\n",
    "\n",
    "    return df\n",
    "\n",
    "\n",
    "\n",
    "def prune_feature_by_values(df: pd.DataFrame, column: str, value: list) -> pd.DataFrame:\n",
    "    '''\n",
    "        Function takes a dataframe, a column name, and a list of values and returns a dataframe\n",
    "        with all rows that do not have the values in the column removed\n",
    "\n",
    "        Deprecated, use reduce_feature_to_values:\n",
    "            ambiguous name implied it is removing values, not keeping them\n",
    "    '''\n",
    "    new_df = pd.DataFrame()\n",
    "    for v in value:\n",
    "        new_df = new_df.append(df[df[column] == v].copy())\n",
    "\n",
    "    return new_df\n",
    "\n",
    "\n",
    "\n",
    "def reduce_feature_to_values(df: pd.DataFrame, column: str, value: list) -> pd.DataFrame:\n",
    "    '''\n",
    "        Function takes a dataframe, a column name, and a list of values and returns a dataframe\n",
    "        with all rows that do not have the values in the column removed\n",
    "    '''\n",
    "    new_df = pd.DataFrame()\n",
    "    for v in value:\n",
    "        new_df = new_df.append(df[df[column] == v].copy())\n",
    "\n",
    "    return new_df\n",
    "\n",
    "\n",
    "\n",
    "color_list: list = [\n",
    "    'aggrnyl', 'agsunset', 'algae', 'amp', 'armyrose', 'balance',\n",
    "    'blackbody', 'bluered', 'blues', 'blugrn', 'bluyl', 'brbg',\n",
    "    'brwnyl', 'bugn', 'bupu', 'burg', 'burgyl', 'cividis', 'curl',\n",
    "    'darkmint', 'deep', 'delta', 'dense', 'earth', 'edge', 'electric',\n",
    "    'emrld', 'fall', 'geyser', 'gnbu', 'gray', 'greens', 'greys',\n",
    "    'haline', 'hot', 'hsv', 'ice', 'icefire', 'inferno', 'jet',\n",
    "    'magenta', 'magma', 'matter', 'mint', 'mrybm', 'mygbm', 'oranges',\n",
    "    'orrd', 'oryel', 'oxy', 'peach', 'phase', 'picnic', 'pinkyl',\n",
    "    'piyg', 'plasma', 'plotly3', 'portland', 'prgn', 'pubu', 'pubugn',\n",
    "    'puor', 'purd', 'purp', 'purples', 'purpor', 'rainbow', 'rdbu',\n",
    "    'rdgy', 'rdpu', 'rdylbu', 'rdylgn', 'redor', 'reds', 'solar',\n",
    "    'spectral', 'speed', 'sunset', 'sunsetdark', 'teal', 'tealgrn',\n",
    "    'tealrose', 'tempo', 'temps', 'thermal', 'tropic', 'turbid',\n",
    "    'turbo', 'twilight', 'viridis', 'ylgn', 'ylgnbu', 'ylorbr',\n",
    "    'ylorrd'\n",
    "]\n",
    "\n",
    "\n",
    "def get_n_color_list(n: int, opacity=.8, luminosity=.5, saturation=.5) -> list:\n",
    "    '''\n",
    "        Function creates a list of n distinct colors, formatted for use in a plotly graph\n",
    "    '''\n",
    "\n",
    "    colors = []\n",
    "\n",
    "    for i in range(n):\n",
    "        color = colorsys.hls_to_rgb(\n",
    "                i / n,\n",
    "                luminosity,\n",
    "                saturation,\n",
    "        )\n",
    "        \n",
    "        colors.append(f'rgba({color[0] * 255}, {color[1] * 255}, {color[2] * 255}, {opacity})')\n",
    "\n",
    "    return colors\n"
   ]
  },
  {
   "cell_type": "markdown",
   "metadata": {},
   "source": [
    "Now, we specify what datasets we want to load."
   ]
  },
  {
   "cell_type": "code",
   "execution_count": 3,
   "metadata": {},
   "outputs": [],
   "source": [
    "# This code is used to scale to processing numerous datasets, even though we currently are only looking at one now\n",
    "data_path_1: str = './'   \n",
    "data_set_1: list = [\n",
    "    'Darknet_experiments_base.csv',\n",
    "]\n",
    "\n",
    "data_set: list   = data_set_1\n",
    "file_path_1      = get_file_path(data_path_1)\n",
    "file_set: list   = list(map(file_path_1, data_set_1))\n",
    "current_job: int = 0\n"
   ]
  },
  {
   "cell_type": "markdown",
   "metadata": {},
   "source": [
    "Classes and Wrappers"
   ]
  },
  {
   "cell_type": "code",
   "execution_count": 4,
   "metadata": {},
   "outputs": [],
   "source": [
    "# Sklearn classes\n",
    "\n",
    "class SklearnWrapper(BaseEstimator):\n",
    "    '''\n",
    "        A wrapper for fastai learners for creating visualizations using yellowbrick\n",
    "        code sourced from: \n",
    "        forums.fast.ai/t/fastai-with-yellowbrics-how-to-get-roc-curves-more/79408\n",
    "    '''\n",
    "    _estimator_type = \"classifier\"\n",
    "        \n",
    "    def __init__(self, model):\n",
    "        self.model = model\n",
    "        self.classes_ = list(self.model.dls.y.unique())\n",
    "        self._calls = [] \n",
    "    \n",
    "    def fit(self, X, y):\n",
    "        self._calls.append(('fit', X, y))\n",
    "        pass\n",
    "        \n",
    "    def score(self, X, y):\n",
    "        self._calls.append(('score', X, y))\n",
    "        return accuracy_score(y, self.predict(X))\n",
    "    \n",
    "    def get_new_preds(self, X):\n",
    "        self._calls.append(('get_new_preds', X))\n",
    "        new_to = self.model.dls.valid_ds.new(X)\n",
    "        new_to.conts = new_to.conts.astype(np.float32)\n",
    "        new_dl = self.model.dls.valid.new(new_to)\n",
    "        with self.model.no_bar():\n",
    "            preds,_,dec_preds = self.model.get_preds(dl=new_dl, with_decoded=True)\n",
    "        return (preds, dec_preds)\n",
    "\n",
    "    def predict_proba(self, X):\n",
    "        self._calls.append(('predict_proba', X))\n",
    "        return self.get_new_preds(X)[0].numpy()\n",
    "    \n",
    "    def predict(self, X):\n",
    "        self._calls.append(('predict', X))\n",
    "        return self.get_new_preds(X)[1].numpy()\n",
    "\n",
    "\n",
    "# fastai classes\n",
    "\n",
    "# transforms for the dataloaders pipeline\n",
    "\n",
    "class PCA_tabular(Transform):\n",
    "    '''\n",
    "        Class will implement a PCA feature extraction method for tabular data\n",
    "        On setup, we train a pca on the training data, then extract n_comps from the entire dataset \n",
    "            the components are then added to the dataframe as new columns\n",
    "    '''\n",
    "    def __init__(self, n_comps=3, add_col=True):\n",
    "        store_attr() # core function in the fastai library that stores all passed in parameters\n",
    "\n",
    "    def setups(self, to, **kwargs):\n",
    "\n",
    "        self.pca = PCA(n_components=self.n_comps)\n",
    "        self.pca.fit(to.train.conts)\n",
    "        pca = pd.DataFrame(self.pca.transform(to.conts))\n",
    "        pca.columns = [f'pca_{i+1}' for i in range(self.n_comps)]\n",
    "\n",
    "        for col in pca.columns:\n",
    "            to.items[col] = pca[col].values.astype('float32')\n",
    "        \n",
    "\n",
    "        if self.add_col:\n",
    "            for i in range(self.n_comps):\n",
    "                if f'pca_{i+1}' not in to.cont_names: to.cont_names.append(f'pca_{i+1}')\n",
    "        \n",
    "        return self(to)\n",
    "\n",
    "\n",
    "\n",
    "class Normal(DisplayedTransform):\n",
    "    '''\n",
    "        A data processing tool inherited from the fastai library. \n",
    "        This is a modified version of the normalize function that performs MinMax scaling and is able to be\n",
    "            used in our preprocessing pipeline. \n",
    "        The original normalizes the data to have a mean centered at 0 and a standard deviation of 1.\n",
    "    '''\n",
    "    def setups(self, to, **kwargs):\n",
    "        self.mins = getattr(to, 'train', to).conts.min()\n",
    "        self.maxs = getattr(to, 'train', to).conts.max()\n",
    "        \n",
    "        return self(to)\n",
    "        \n",
    "    def encodes(self, to, **kwargs):\n",
    "        to.conts = (to.conts-self.mins) / (self.maxs - self.mins)\n",
    "        return to\n",
    "\n",
    "    def decodes(self, to, **kwargs):\n",
    "        to.conts = (to.conts) * (to.maxs - to.mins) + to.mins\n",
    "        return to\n",
    "\n",
    "\n",
    "# callbacks for the fastai training schedule\n",
    "\n",
    "class DFLogger(Callback):\n",
    "    '''\n",
    "        Class defines a callback that is passed to the fastai learner that\n",
    "            will save the recorded metrics for each epoch to a dataframe. \n",
    "            Also saves results from predictions with negative epochs\n",
    "    '''\n",
    "    order=60\n",
    "    def __init__(self, fname='history.csv', append=False):\n",
    "        self.fname,self.append = pathlib.Path(fname),append\n",
    "        self.df = pd.DataFrame()\n",
    "        self.np = np.array([])\n",
    "        self.flag = True\n",
    "        self.pred_count = 0\n",
    "\n",
    "    def to_csv(self, file: str or None = None):\n",
    "        if file is None:\n",
    "            self.df.to_csv(self.path/self.fname, index=False)\n",
    "        else:\n",
    "            self.df.to_csv(file, index=False)\n",
    "\n",
    "    def before_fit(self):\n",
    "        \"Prepare file with metric names.\"\n",
    "        self.path.parent.mkdir(parents=True, exist_ok=True)\n",
    "        self.old_logger,self.learn.logger = self.logger,self.add_row\n",
    "\n",
    "    def add_row(self, log):\n",
    "        \"Write a line with `log` and call the old logger.\"\n",
    "        if(self.flag):\n",
    "            if not hasattr(self, \"gather_preds\"):\n",
    "                self.df = pd.DataFrame([log], columns=self.recorder.metric_names)\n",
    "            else:\n",
    "                self.pred_count += 1\n",
    "                print('predicting')\n",
    "                self.df = pd.DataFrame([[-self.pred_count] + log], columns=self.recorder.metric_names)\n",
    "            self.np = np.append(self.np, [log])\n",
    "            self.flag = False\n",
    "        else:\n",
    "            if (len(log) == len(self.df.columns)):\n",
    "                self.new_row = pd.DataFrame([log], columns=self.recorder.metric_names)\n",
    "                self.df = pd.concat([self.df, self.new_row], ignore_index=True)\n",
    "                self.np = np.append(self.np, log, axis=0)\n",
    "            elif (len(log) < len(self.df.columns)):\n",
    "                self.pred_count += 1\n",
    "                self.new_row = pd.DataFrame([[-self.pred_count] + log], columns=self.recorder.metric_names)\n",
    "                self.df = pd.concat([self.df, self.new_row], ignore_index=True)\n",
    "                self.np = np.append(self.np, [-self.pred_count] + log, axis=0)\n",
    "\n",
    "    def after_fit(self):\n",
    "        \"Close the file and clean up.\"\n",
    "        self.learn.logger = self.old_logger\n",
    "\n",
    "\n",
    "\n",
    "class LazyGraphCallback(Callback):\n",
    "    '''\n",
    "        Class defines a callback that is passed to the fastai learner that\n",
    "            saves the validation and training loss metrics to graph when\n",
    "            calling the .plot_graph() method\n",
    "        \n",
    "        This allows us to display the train/validation loss graph after the    \n",
    "            experiment is run, even if it is run in no_bar mode\n",
    "    '''\n",
    "    order: int = 65\n",
    "    run_valid: bool = False\n",
    "    \n",
    "    def __init__(self):\n",
    "        self.graph_params: list = []\n",
    "        self.graphs: list = []\n",
    "\n",
    "    def before_fit(self):\n",
    "        self.run = not hasattr(self.learn, 'lr_finder') and not hasattr(self, \"gather_preds\")\n",
    "        if not self.run: return\n",
    "        self.nb_batches: list = []\n",
    "\n",
    "    def after_train(self): self.nb_batches.append(self.train_iter)\n",
    "\n",
    "    def after_epoch(self):\n",
    "        \"Plot validation loss in the pbar graph\"\n",
    "        if not self.nb_batches: return\n",
    "        rec = self.learn.recorder\n",
    "        iters = range_of(rec.losses)\n",
    "        val_losses = [v[1] for v in rec.values]\n",
    "        x_bounds = (0, (self.n_epoch - len(self.nb_batches)) * self.nb_batches[0] + len(rec.losses))\n",
    "        y_bounds = (0, max((max(Tensor(rec.losses)), max(Tensor(val_losses)))))\n",
    "        self.graph_params.append(([(iters, rec.losses), (self.nb_batches, val_losses)], x_bounds, y_bounds))\n",
    "\n",
    "\n",
    "    def plot_graph(self, ax: plt.Axes or None = None, title: str = 'Loss'):\n",
    "\n",
    "        params = self.graph_params[-1]\n",
    "        \n",
    "        if ax is None:\n",
    "            fig, ax = plt.subplots(figsize=(8, 4))\n",
    "        ax.set_title(title)\n",
    "        ax.set_xlabel('Iterations')\n",
    "        ax.set_ylabel('Loss')\n",
    "        ax.plot(params[0][0][0], params[0][0][1], label='Training')\n",
    "        ax.plot(params[0][1][0], params[0][1][1], label='Validation')\n",
    "        ax.legend()\n",
    "\n",
    "\n",
    "\n",
    "class ModelStatsCallback(Callback):\n",
    "    '''\n",
    "        Collect all batches, along with `pred` and `loss`, into `self.datum`.\n",
    "        This allows the data to be used after the model is used.\n",
    "    '''\n",
    "    order=60 # mysterious param we need to investigate\n",
    "    def __init__(self):\n",
    "        self.datum: list = []\n",
    "        self.records: list = []\n",
    "        self.c_idx: int  = -1\n",
    "\n",
    "    def before_fit(self):\n",
    "        self.datum.append(L())\n",
    "        self.records.append({'loss': [], 'predictions': []})\n",
    "        self.c_idx += 1\n",
    "\n",
    "\n",
    "    def after_batch(self):\n",
    "        vals = self.learn.to_detach((self.xb,self.yb,self.pred,self.loss))\n",
    "        self.datum[self.c_idx].append(vals)\n",
    "        self.records[self.c_idx]['predictions'].append(vals[2])\n",
    "        self.records[self.c_idx]['loss'].append(vals[3])\n",
    "        self.records[self.c_idx]['iters'] = range_of(self.recorder.losses)\n"
   ]
  },
  {
   "cell_type": "markdown",
   "metadata": {},
   "source": [
    "Different Learning Models"
   ]
  },
  {
   "cell_type": "markdown",
   "metadata": {},
   "source": [
    "Functions to run classification experiments or to transform and split the data"
   ]
  },
  {
   "cell_type": "code",
   "execution_count": 5,
   "metadata": {},
   "outputs": [],
   "source": [
    "Model_data = namedtuple(\n",
    "    'model_data', \n",
    "    ['name', 'model', 'classes', 'X_train', 'y_train', 'X_test', 'y_test', 'to', 'dls', 'model_type']\n",
    ")\n",
    "\n",
    "\n",
    "def run_deep_nn_experiment(\n",
    "    df: pd.DataFrame, \n",
    "    file_name: str, \n",
    "    target_label: str, \n",
    "    shape: tuple, \n",
    "    split=0.2, \n",
    "    categorical: list = ['Protocol'],\n",
    "    procs = [FillMissing, Categorify, Normalize], \n",
    "    leave_out: list = [],\n",
    "    epochs: int = 10,\n",
    "    batch_size: int = 64,\n",
    "    metrics: list or None = None,\n",
    "    callbacks: list = [ShowGraphCallback],\n",
    "    lr_choice: str = 'valley',\n",
    "    name: str or None = None,\n",
    "    fit_choice: str = 'one_cycle',\n",
    "    no_bar: bool = False,\n",
    ") -> Model_data:\n",
    "    '''\n",
    "        Function trains a deep neural network model on the given data. \n",
    "\n",
    "        Parameters:\n",
    "            df: pandas dataframe containing the data\n",
    "            file_name: name of the file the dataset came from\n",
    "            target_label: the label to predict\n",
    "            shape: the shape of the neural network, the i-th value in the tuple represents the number of nodes in the i+1 layer\n",
    "                    and the number of entries in the tuple represent the number of layers\n",
    "            name: name of the experiment, if none a default is given\n",
    "            split: the percentage of the data to use for testing\n",
    "            categorical: list of the categorical columns\n",
    "            procs: list of preprocessing functions to apply in the dataloaders pipeline\n",
    "                    additional options are: \n",
    "                        PCA_tabular (generate n principal components) \n",
    "                        Normal (features are scaled to the interval [0,1])\n",
    "            leave_out: list of columns to leave out of the experiment\n",
    "            epochs: number of epochs to train for\n",
    "            batch_size: number of samples processed in one forward and backward pass of the model\n",
    "            metrics: list of metrics to calculate and display during training\n",
    "            callbacks: list of callbacks to apply during training\n",
    "            lr_choice: where the learning rate sampling function should find the optimal learning rate\n",
    "                        choices are: 'valley', 'steep', 'slide', and 'minimum'\n",
    "            fit_choice: choice of function that controls the learning schedule choices are:\n",
    "                                'fit': a standard learning schedule \n",
    "                                'flat_cos': a learning schedule that starts high before annealing to a low value\n",
    "                                'one_cyle': a learning schedule that warms up for the first epochs, continues at a high\n",
    "                                                learning rate, and then cools down for the last epochs\n",
    "                                the default is 'one_cycle'\n",
    "         \n",
    "        \n",
    "        returns a model data named tuple\n",
    "            model_data: tuple = (file_name, model, classes, X_train, y_train, X_test, y_test, model_type)\n",
    "    '''\n",
    "    shape = tuple(shape)\n",
    "\n",
    "    if name is None:\n",
    "        width: int = shape[0]\n",
    "        for x in shape:\n",
    "            width = x if (x > width) else width\n",
    "        name = f'Deep_NN_{len(shape)}x{width}'\n",
    "\n",
    "    lr_choice = {'valley': 0, 'slide': 1, 'steep': 2, 'minimum': 3}[lr_choice]\n",
    "\n",
    "\n",
    "    categorical_features: list = []\n",
    "    untouched_features  : list = []\n",
    "\n",
    "    for x in leave_out:\n",
    "        if x in df.columns:\n",
    "            untouched_features.append(x)\n",
    "\n",
    "    for x in categorical:\n",
    "        if x in df.columns:\n",
    "            categorical_features.append(x)\n",
    "\n",
    "        \n",
    "    if metrics is None:\n",
    "        metrics = [accuracy, BalancedAccuracy(), RocAuc(), MatthewsCorrCoef(), F1Score(average='macro'), Precision(average='macro'), Recall(average='macro')]\n",
    "\n",
    "\n",
    "    continuous_features = list(set(df) - set(categorical_features) - set([target_label]) - set(untouched_features))\n",
    "\n",
    "    splits = RandomSplitter(valid_pct=split, seed=seed)(range_of(df))\n",
    "    \n",
    "\n",
    "    # The dataframe is loaded into a fastai datastructure now that \n",
    "    # the feature engineering pipeline has been set up\n",
    "    to = TabularPandas(\n",
    "        df            , y_names=target_label                , \n",
    "        splits=splits , cat_names=categorical_features ,\n",
    "        procs=procs   , cont_names=continuous_features , \n",
    "    )\n",
    "\n",
    "    # The dataframe is then converted into a fastai dataset\n",
    "    dls = to.dataloaders(bs=batch_size)\n",
    "\n",
    "    # extract the file_name from the path\n",
    "    p = pathlib.Path(file_name)\n",
    "    file_name: str = str(p.parts[-1])\n",
    "\n",
    "\n",
    "    learner = tabular_learner(\n",
    "        dls, \n",
    "        layers=list(shape), \n",
    "        metrics = metrics,\n",
    "        cbs=callbacks,\n",
    "    )\n",
    "\n",
    "    with learner.no_bar() if no_bar else contextlib.ExitStack() as gs:\n",
    "\n",
    "        lr = learner.lr_find(suggest_funcs=[valley, slide, steep, minimum])\n",
    "\n",
    "            # fitting functions, they give different results, some networks perform better with different learning schedule during fitting\n",
    "        if(fit_choice == 'fit'):\n",
    "            learner.fit(epochs, lr[lr_choice])\n",
    "        elif(fit_choice == 'flat_cos'):\n",
    "            learner.fit_flat_cos(epochs, lr[lr_choice])\n",
    "        elif(fit_choice == 'one_cycle'):\n",
    "            learner.fit_one_cycle(epochs, lr_max=lr[lr_choice])\n",
    "        else:\n",
    "            assert False, f'{fit_choice} is not a valid fit_choice'\n",
    "\n",
    "        learner.recorder.plot_sched() \n",
    "        results = learner.validate()\n",
    "        interp = ClassificationInterpretation.from_learner(learner)\n",
    "        interp.plot_confusion_matrix()\n",
    "                \n",
    "\n",
    "    print(f'loss: {results[0]}, accuracy: {results[1]*100: .2f}%')\n",
    "    learner.save(f'{file_name}.model')\n",
    "\n",
    "    X_train = to.train.xs.reset_index(drop=True)\n",
    "    X_test = to.valid.xs.reset_index(drop=True)\n",
    "    y_train = to.train.ys.values.ravel()\n",
    "    y_test = to.valid.ys.values.ravel()\n",
    "\n",
    "    wrapped_model = SklearnWrapper(learner)\n",
    "\n",
    "    classes = list(learner.dls.vocab)\n",
    "    if len(classes) == 2:\n",
    "        wrapped_model.target_type_ = 'binary'\n",
    "    elif len(classes) > 2:  \n",
    "        wrapped_model.target_type_ = 'multiclass'\n",
    "    else:\n",
    "        print('Must be more than one class to perform classification')\n",
    "        raise ValueError('Wrong number of classes')\n",
    "    \n",
    "    wrapped_model._target_labels = target_label\n",
    "    \n",
    "    model_data: Model_data = Model_data(file_name, wrapped_model, classes, X_train, y_train, X_test, y_test, to, dls, name)\n",
    "\n",
    "\n",
    "    return model_data\n",
    "\n",
    "\n",
    "def run_knn_experiment(df: pd.DataFrame, name: str, target_label: str, split=0.2, categorical : list = ['Protocol'], leave_out: list = [], model = None) -> Model_data:\n",
    "    '''\n",
    "        Run binary classification using K-Nearest Neighbors\n",
    "        returns the 10-tuple Model_data\n",
    "    '''\n",
    "\n",
    "    # First we split the features into the dependent variable and \n",
    "    # continous and categorical features\n",
    "    dep_var: str = target_label\n",
    "    print(df.shape)\n",
    "\n",
    " \n",
    "    categorical_features: list = []\n",
    "    untouched_features  : list = []\n",
    "\n",
    "\n",
    "    for x in categorical:\n",
    "        if x in df.columns:\n",
    "            categorical_features.append(x)\n",
    "\n",
    "    for x in leave_out:\n",
    "        if x in df.columns:\n",
    "            untouched_features.append(x)\n",
    "        \n",
    "    continuous_features = list(set(df) - set(categorical_features) - set([dep_var]) - set(untouched_features))\n",
    "\n",
    "\n",
    "    # Next, we set up the feature engineering pipeline, namely filling missing values\n",
    "    # encoding categorical features, and normalizing the continuous features\n",
    "    # all within a pipeline to prevent the normalization from leaking details\n",
    "    # about the test sets through the normalized mapping of the training sets\n",
    "    procs = [FillMissing, Categorify, Normalize]\n",
    "    splits = RandomSplitter(valid_pct=split, seed=seed)(range_of(df))\n",
    "    \n",
    "    \n",
    "    # The dataframe is loaded into a fastai datastructure now that \n",
    "    # the feature engineering pipeline has been set up\n",
    "    to = TabularPandas(\n",
    "        df            , y_names=dep_var                , \n",
    "        splits=splits , cat_names=categorical_features ,\n",
    "        procs=procs   , cont_names=continuous_features , \n",
    "    )\n",
    "\n",
    "\n",
    "    # We use fastai to quickly extract the names of the classes as they are mapped to the encodings\n",
    "    dls = to.dataloaders(bs=64)\n",
    "    temp_model = tabular_learner(dls)\n",
    "    classes : list = list(temp_model.dls.vocab)\n",
    "\n",
    "\n",
    "    # extract the name from the path\n",
    "    p = pathlib.Path(name)\n",
    "    name: str = str(p.parts[-1])\n",
    "\n",
    "\n",
    "    # We extract the training and test datasets from the dataframe\n",
    "    X_train = to.train.xs.reset_index(drop=True)\n",
    "    X_test = to.valid.xs.reset_index(drop=True)\n",
    "    y_train = to.train.ys.values.ravel()\n",
    "    y_test = to.valid.ys.values.ravel()\n",
    "\n",
    "\n",
    "    # Now that we have the train and test datasets, we set up a gridsearch of the K-NN classifier\n",
    "    # using SciKitLearn and print the results \n",
    "    # params = {\"n_neighbors\": range(1, 50)}\n",
    "    # model = GridSearchCV(KNeighborsClassifier(), params)\n",
    "    \n",
    "    if( model == None ):\n",
    "        model = KNeighborsClassifier()\n",
    "\n",
    "    model.fit(X_train, y_train)\n",
    "    prediction = model.predict(X_test)\n",
    "    report = classification_report(y_test, prediction)\n",
    "    print(report)\n",
    "    print(f'\\tAccuracy: {accuracy_score(y_test, prediction)}\\n')\n",
    "\n",
    "    # print(\"Best Parameters found by gridsearch:\")\n",
    "    # print(model.best_params_)\n",
    "\n",
    "\n",
    "   # we add a target_type_ attribute to our model so yellowbrick knows how to make the visualizations\n",
    "    if len(classes) == 2:\n",
    "        model.target_type_ = 'binary'\n",
    "    elif len(classes) > 2:  \n",
    "        model.target_type_ = 'multiclass'\n",
    "    else:\n",
    "        print('Must be more than one class to perform classification')\n",
    "        raise ValueError('Wrong number of classes')\n",
    "\n",
    "    model_data: Model_data = Model_data(name, model, classes, X_train, y_train, X_test, y_test, to, dls, f'K_Nearest_Neighbors')\n",
    "\n",
    "    # Now that the classifier has been created and trained, we pass out our training values\n",
    "    # for analysis and further experimentation\n",
    "    return model_data\n",
    "\n",
    "\n",
    "\n",
    "\n",
    "def transform_and_split_data(df: pd.DataFrame, target_label: str, split=0, name='', categorical : list = ['Protocol'], scale:bool = False, leave_out: list = []) -> Model_data:\n",
    "    '''\n",
    "        Transform and split the data into a train and test set\n",
    "        returns the 10-tuple with the following indicies:\n",
    "        results: tuple = (name, model, classes, X_train, y_train, X_test, y_test, to, dls, model_type)\n",
    "    '''\n",
    "\n",
    "    # First we split the features into the dependent variable and \n",
    "    # continous and categorical features\n",
    "    dep_var             : str  = target_label\n",
    "    categorical_features: list = []\n",
    "    untouched_features  : list = []\n",
    "\n",
    "    print(df.shape)\n",
    "\n",
    "    for x in categorical:\n",
    "        if x in df.columns:\n",
    "            categorical_features.append(x)\n",
    "\n",
    "    for x in leave_out:\n",
    "        if x in df.columns:\n",
    "            untouched_features.append(x)\n",
    "\n",
    "    continuous_features = list(set(df) - set(categorical_features) - set([dep_var]) - set(untouched_features))\n",
    "\n",
    "\n",
    "    # Next, we set up the feature engineering pipeline, namely filling missing values\n",
    "    # encoding categorical features, and normalizing the continuous features\n",
    "    # all within a pipeline to prevent the normalization from leaking details\n",
    "    # about the test sets through the normalized mapping of the training sets\n",
    "    procs = [FillMissing, Categorify, Normalize]\n",
    "    if(scale): \n",
    "        procs.append(Normal)\n",
    "\n",
    "    splits = RandomSplitter(valid_pct=split, seed=seed)(range_of(df))\n",
    "    \n",
    "    \n",
    "    # The dataframe is loaded into a fastai datastructure now that \n",
    "    # the feature engineering pipeline has been set up\n",
    "    to = TabularPandas(\n",
    "        df            , y_names=dep_var                , \n",
    "        splits=splits , cat_names=categorical_features ,\n",
    "        procs=procs   , cont_names=continuous_features , \n",
    "    )\n",
    "\n",
    "\n",
    "    # We use fastai to quickly extract the names of the classes as they are mapped to the encodings\n",
    "    dls = to.dataloaders(bs=64)\n",
    "    model = tabular_learner(dls)\n",
    "    classes : list = list(model.dls.vocab)\n",
    "\n",
    "\n",
    "    # We extract the training and test datasets from the dataframe\n",
    "    X_train = to.train.xs.reset_index(drop=True)\n",
    "    X_test = to.valid.xs.reset_index(drop=True)\n",
    "    y_train = to.train.ys.values.ravel()\n",
    "    y_test = to.valid.ys.values.ravel()\n",
    "\n",
    "\n",
    "   # we add a target_type_ attribute to our model so yellowbrick knows how to make the visualizations\n",
    "    if len(classes) == 2:\n",
    "        model.target_type_ = 'binary'\n",
    "    elif len(classes) > 2:  \n",
    "        model.target_type_ = 'multiclass'\n",
    "    else:\n",
    "        model.target_type_ = 'single'\n",
    "        \n",
    "    model_data: Model_data = Model_data(name, model, classes, X_train, y_train, X_test, y_test, to, dls, 'Transformed_and_Split_data')\n",
    "\n",
    "    # Now that the classifier has been created and trained, we pass out our training values\n",
    "    # for analysis and further experimentation\n",
    "    return model_data"
   ]
  },
  {
   "cell_type": "markdown",
   "metadata": {},
   "source": [
    "Cross-Validated Experiment Functions"
   ]
  },
  {
   "cell_type": "markdown",
   "metadata": {},
   "source": [
    "Dataset Preparation Tools\n"
   ]
  },
  {
   "cell_type": "code",
   "execution_count": 6,
   "metadata": {},
   "outputs": [],
   "source": [
    "def decode_classes_and_create_Xy_df(model_data: Model_data, target_label: str):\n",
    "    \"\"\"\n",
    "        Function takes a Model_data namedtuple and returns a dataframe with the X and decoded y data\n",
    "    \"\"\"\n",
    "    X = model_data.X_train\n",
    "    y = model_data.y_train\n",
    "    classes = model_data.classes\n",
    "\n",
    "    Xy_df = pd.DataFrame(X)\n",
    "    y_s: list = []\n",
    "    for x in y:\n",
    "        y_s.append(classes[x])\n",
    "    Xy_df[target_label] = y_s\n",
    "\n",
    "    return Xy_df\n",
    "\n",
    "\n",
    "def normalize_bilabel_dataset_between_0_1(df: pd.DataFrame, labels = ['Traffic Type', 'Application Type']) -> pd.DataFrame:\n",
    "    '''\n",
    "        Function takes a dataframe and merges its labels before normalizing data. \n",
    "        The labels are then split back into their original form, but the merged label is kept for verification purposes.\n",
    "\n",
    "        returns a trilabel dataframe with the new label under the 'Merged Type' column\n",
    "    '''\n",
    "    inter_df = df.copy()\n",
    "\n",
    "    d1_y = inter_df[labels[0]]\n",
    "    d2_y = inter_df[labels[1]]\n",
    "\n",
    "    merged_y = pd.concat([d1_y, d2_y], axis=1)\n",
    "\n",
    "    merged: list = []\n",
    "    for x in zip(d1_y, d2_y):\n",
    "        merged.append(f'{x[0]}_{x[1]}')\n",
    "\n",
    "    inter_df['Merged Type'] = merged\n",
    "\n",
    "    normalized_model_data = transform_and_split_data(\n",
    "        inter_df,\n",
    "        'Merged Type',\n",
    "        split=0,\n",
    "        scale=True,\n",
    "        categorical=[],\n",
    "        leave_out=labels\n",
    "    )\n",
    "\n",
    "    merged_df = decode_classes_and_create_Xy_df(normalized_model_data, 'Merged Type')\n",
    "\n",
    "    merged_y = merged_df['Merged Type']\n",
    "    new_labels: list = []\n",
    "\n",
    "    for l in labels:\n",
    "        new_labels.append([])\n",
    "\n",
    "    for x in merged_y:\n",
    "        split_label = x.split('_')\n",
    "\n",
    "        for i in range(len(split_label)):\n",
    "            new_labels[i].append(split_label[i])\n",
    "\n",
    "    for i, x in enumerate(labels):\n",
    "        merged_df[x] = new_labels[i]\n",
    "\n",
    "    total_df = merged_df.copy()\n",
    "    total_df['Merged Type'] = merged_y\n",
    "\n",
    "\n",
    "    return total_df\n",
    "\n",
    "    \n",
    "\n",
    "def create_n_cloud_from_dataset(df: pd.DataFrame, n_points: int = 100, target_label: str = 'label', allow_partial: bool = False, segmented=True):\n",
    "    '''\n",
    "        Function takes a dataframe and splits it into point clouds with n_points each. \n",
    "            The generated clouds will all have the indicated number of points, discarding the remainder if allow_partial is False.\n",
    "            The generated clouds will be partitioned by the classes contained within the target_label column.\n",
    "            Each cloud will be labeled with the class it was generated from.\n",
    "\n",
    "            If the segmented parameter is true, the clouds will be split into df.shape[0]/n_points number of clouds.\n",
    "                This is because we segment the dataframe to produce the clouds.\n",
    "            if the segmented parameter is false, the clouds will be split into df.shape[0] - n_points number of clouds.\n",
    "                This is because we will be using a sliding interval to construct the clouds.\n",
    "\n",
    "        returns a numpy array of point clouds as well as a numpy array with class labels and class mappings.\n",
    "    '''\n",
    "\n",
    "    data = transform_and_split_data(df, target_label=target_label, split=0)\n",
    "    X = data.X_train.copy()\n",
    "    X[target_label] = data.y_train.copy()\n",
    "\n",
    "    classes = data.classes\n",
    "\n",
    "    # create n clouds by class\n",
    "    clouds          : list = []\n",
    "    clouds_y        : list = []\n",
    "    clouds_y_decoded: list = []\n",
    "\n",
    "    for i, x in enumerate(classes):\n",
    "        temp_df = X[X[target_label] == i]\n",
    "        if(segmented):\n",
    "            iterations: int = int(temp_df.shape[0]/n_points)\n",
    "        else:\n",
    "            iterations: int = temp_df.shape[0] - n_points\n",
    "\n",
    "\n",
    "        for j in range(int(iterations)):\n",
    "            if(segmented):\n",
    "                cloud = temp_df[j*n_points:(j+1)*n_points].drop(target_label, axis=1).values\n",
    "            else:\n",
    "                cloud = temp_df[j:j+n_points].drop(target_label, axis=1).values\n",
    "            \n",
    "            keep: bool = allow_partial and not segmented\n",
    "            if(len(cloud) == n_points or keep):\n",
    "                clouds.append(cloud)\n",
    "                clouds_y.append(i)\n",
    "                clouds_y_decoded.append(x)\n",
    "\n",
    "    clouds = np.array(clouds)\n",
    "    clouds_y = np.array(clouds_y)\n",
    "    clouds_y_decoded = np.array(clouds_y_decoded)\n",
    "\n",
    "    return clouds, clouds_y, classes, clouds_y_decoded\n",
    "\n"
   ]
  },
  {
   "cell_type": "markdown",
   "metadata": {},
   "source": [
    "##### Clustering Functions"
   ]
  },
  {
   "cell_type": "markdown",
   "metadata": {},
   "source": [
    "Clustering using Linear Feature Reduction through Principal Component Analysis"
   ]
  },
  {
   "cell_type": "code",
   "execution_count": 7,
   "metadata": {},
   "outputs": [],
   "source": [
    "PCA_data = namedtuple(\n",
    "    'pca_data',\n",
    "    ['title', 'X_train', 'y_train', 'Xy', 'components', 'n_components', 'classes', 'target_label']\n",
    ")\n",
    "\n",
    "\n",
    "\n",
    "def show_clusters_by_label_1D_pca(model_data: tuple, samples=25000, title='Clusters by Label') -> None:\n",
    "    '''\n",
    "        Takes the 10-tuple model_data from the transform and split function and uses Principal component analysis\n",
    "            to break up the feature dimensions into a single dimension for cluster analysis.\n",
    "            Displays a graph of the clusters colored by label\n",
    "\n",
    "        model_data: tuple = (name, model, classes, X_train, y_train, X_test, y_test, to, dls, model_type)\n",
    "    '''\n",
    "\n",
    "    X            = model_data.X_train.copy()\n",
    "    X['label']   = model_data.y_train.copy()\n",
    "    classes      = model_data.classes\n",
    "    num_labels   = len(X.groupby('label').size())\n",
    "    label_colors = get_n_color_list(num_labels, opacity=.4)\n",
    "\n",
    "\n",
    "    pca               = PCA(n_components=1)\n",
    "    component         = pd.DataFrame(pca.fit_transform(X.drop(['label'], axis=1)))\n",
    "    component.columns = [\"component_1\"]\n",
    "\n",
    "    _X              = pd.concat([X, component], axis=1, join='inner')\n",
    "    new_X           = pd.DataFrame(np.array(_X.sample(samples)))\n",
    "    new_X.columns   = _X.columns\n",
    "    new_X[\"filler\"] = 0\n",
    "\n",
    "\n",
    "    traces: list = []\n",
    "    for i in range(num_labels):\n",
    "        cluster = new_X[new_X['label'] == i]\n",
    "        traces.append(\n",
    "            go.Scatter(\n",
    "                x=cluster[\"component_1\"],\n",
    "                y=cluster[\"filler\"],\n",
    "                mode='markers',\n",
    "                marker = dict(color = label_colors[i]),\n",
    "                name=classes[i],\n",
    "            )\n",
    "        )\n",
    "\n",
    "    layout = dict(\n",
    "        title = title,\n",
    "        xaxis= dict(\n",
    "            title= 'Component 1',\n",
    "            ticklen= 5,zeroline= False\n",
    "        ),\n",
    "        yaxis= dict(\n",
    "            title= '',\n",
    "            ticklen= 5,\n",
    "            zeroline= False\n",
    "        )\n",
    "    )\n",
    "\n",
    "\n",
    "    iplot({'data': traces, 'layout': layout})\n",
    "\n",
    "\n",
    "\n",
    "def show_clusters_by_label_2D_pca(model_data: tuple, samples=25000, title='Clusters by Label') -> None:\n",
    "    '''\n",
    "        Takes a 10-tuple from the run_experiments function and uses Principal component analysis\n",
    "            to break up the feature dimensions into two dimension  for cluster analysis.\n",
    "            Displays a graph of the clusters colored by label\n",
    "\n",
    "        model_data: tuple = (name, model, classes, X_train, y_train, X_test, y_test, to, dls, model_type)\n",
    "    '''\n",
    "\n",
    "    X            = model_data.X_train.copy()\n",
    "    X['label']   = model_data.y_train.copy()\n",
    "    classes      = model_data.classes\n",
    "    num_labels   = len(X.groupby('label').size())\n",
    "    label_colors = get_n_color_list(num_labels, opacity=.4)\n",
    "\n",
    "\n",
    "    pca               = PCA(n_components=2)\n",
    "    component         = pd.DataFrame(pca.fit_transform(X.drop(['label'], axis=1)))\n",
    "    component.columns = [\"component_1\", \"component_2\"]\n",
    "\n",
    "\n",
    "    _X            = pd.concat([X, component], axis=1, join='inner')\n",
    "    new_X         = pd.DataFrame(np.array(_X.sample(samples)))\n",
    "    new_X.columns = _X.columns\n",
    "\n",
    "\n",
    "    traces: list = []\n",
    "    for i in range(num_labels):\n",
    "        cluster = new_X[new_X['label'] == i]\n",
    "        traces.append(\n",
    "            go.Scatter(\n",
    "                x      = cluster[\"component_1\"]    ,\n",
    "                y      = cluster[\"component_2\"]    ,\n",
    "                marker = {'color': label_colors[i]},\n",
    "                mode   = 'markers'                 ,\n",
    "                name   = classes[i]                ,\n",
    "            )\n",
    "        )\n",
    "\n",
    "\n",
    "    layout = dict(\n",
    "        title = title,\n",
    "        xaxis= dict(\n",
    "            title= 'Component 1',\n",
    "            ticklen= 5          ,\n",
    "            zeroline= False     ,\n",
    "        ),\n",
    "        yaxis= dict(\n",
    "            title= 'Component 2',\n",
    "            ticklen= 5          ,\n",
    "            zeroline= False     ,\n",
    "        )\n",
    "    )\n",
    "\n",
    "\n",
    "    iplot({'data': traces, 'layout': layout})\n",
    "\n",
    "\n",
    "\n",
    "def show_clusters_by_label_3D_pca(model_data: tuple, samples=25000, title='Clusters by Label') -> None:\n",
    "    '''\n",
    "        Takes a 10-tuple from the run_experiments function and uses Principal component analysis\n",
    "            to break up the feature dimensions into three dimensions for cluster analysis.\n",
    "            Displays a graph of the clusters colored by label\n",
    "\n",
    "        model_data: tuple = (name, model, classes, X_train, y_train, X_test, y_test, to, dls, model_type)\n",
    "    '''\n",
    "\n",
    "    X            = model_data.X_train.copy()\n",
    "    X['label']   = model_data.y_train.copy()\n",
    "    classes      = model_data.classes\n",
    "    num_labels   = len(X.groupby('label').size())\n",
    "    label_colors = get_n_color_list(num_labels, opacity=.4)\n",
    "\n",
    "\n",
    "    pca               = PCA(n_components=3)\n",
    "    component         = pd.DataFrame(pca.fit_transform(X.drop(['label'], axis=1)))\n",
    "    component.columns = [\"component_1\", \"component_2\", \"component_3\"]\n",
    "\n",
    "\n",
    "    _X            = pd.concat([X, component], axis=1, join='inner')\n",
    "    new_X         = pd.DataFrame(np.array(_X.sample(samples)))\n",
    "    new_X.columns = _X.columns\n",
    "\n",
    "\n",
    "    traces: list = []\n",
    "    for i in range(num_labels):\n",
    "        cluster = new_X[new_X['label'] == i]\n",
    "        traces.append(\n",
    "            go.Scatter3d(\n",
    "                x      = cluster[\"component_1\"]    ,\n",
    "                y      = cluster[\"component_2\"]    ,\n",
    "                z      = cluster[\"component_3\"]    ,\n",
    "                marker = {'color': label_colors[i]},\n",
    "                mode   = 'markers'                 ,\n",
    "                name   = classes[i]                ,\n",
    "            )\n",
    "        )\n",
    "\n",
    "\n",
    "    layout = dict(\n",
    "        title = title,\n",
    "        xaxis= dict(\n",
    "            title= 'Component 1',\n",
    "            ticklen= 5          ,\n",
    "            zeroline= False     ,\n",
    "        ),\n",
    "        yaxis= dict(\n",
    "            title= 'Component 2',\n",
    "            ticklen= 5          ,\n",
    "            zeroline= False     ,\n",
    "        )\n",
    "    )\n",
    "\n",
    "\n",
    "    iplot({'data': traces, 'layout': layout})\n",
    "\n",
    "\n",
    "\n",
    "def show_clusters_by_label_4D_pca(model_data: tuple, samples=25000, title='Clusters by Label') -> None:\n",
    "    '''\n",
    "        Takes a 10-tuple from the run_experiments function and uses Principal component analysis\n",
    "            to break up the feature dimensions into four dimensions for cluster analysis.\n",
    "            Displays a 2 two-dimensional graphs of the clusters colored by label\n",
    "\n",
    "        model_data: tuple = (name, model, classes, X_train, y_train, X_test, y_test, to, dls, model_type)\n",
    "    '''\n",
    "\n",
    "    X            = model_data.X_train.copy()\n",
    "    X['label']   = model_data.y_train.copy()\n",
    "    classes      = model_data.classes\n",
    "    num_labels   = len(X.groupby('label').size())\n",
    "    label_colors = get_n_color_list(num_labels, opacity=.4)\n",
    "\n",
    "\n",
    "    pca               = PCA(n_components=4)\n",
    "    component         = pd.DataFrame(pca.fit_transform(X.drop(['label'], axis=1)))\n",
    "    component.columns = [\"component_1\", \"component_2\", \"component_3\", \"component_4\"]\n",
    "\n",
    "\n",
    "    _X            = pd.concat([X, component], axis=1, join='inner')\n",
    "    new_X         = pd.DataFrame(np.array(_X.sample(samples)))\n",
    "    new_X.columns = _X.columns\n",
    "\n",
    "\n",
    "    traces1: list = []\n",
    "    traces2: list = []\n",
    "    for i in range(num_labels):\n",
    "        cluster = new_X[new_X['label'] == i]\n",
    "        traces1.append(\n",
    "            go.Scatter(\n",
    "                x      = cluster[\"component_1\"]    ,\n",
    "                y      = cluster[\"component_2\"]    ,\n",
    "                marker = {'color': label_colors[i]},\n",
    "                mode   = 'markers'                 ,\n",
    "                name   = classes[i]                ,\n",
    "            )\n",
    "        )\n",
    "        traces2.append(\n",
    "            go.Scatter(\n",
    "                x      = cluster[\"component_3\"]    ,\n",
    "                y      = cluster[\"component_4\"]    ,\n",
    "                marker = {'color': label_colors[i]},\n",
    "                mode   = 'markers'                 ,\n",
    "                name   = classes[i]                ,\n",
    "            )\n",
    "        )\n",
    "\n",
    "\n",
    "    layout1 = dict(\n",
    "        title = title,\n",
    "        xaxis= dict(\n",
    "            title= 'Component 1',\n",
    "            ticklen= 5          ,\n",
    "            zeroline= False     ,\n",
    "        ),\n",
    "        yaxis= dict(\n",
    "            title= 'Component 2',\n",
    "            ticklen= 5          ,\n",
    "            zeroline= False     ,\n",
    "        )\n",
    "    )\n",
    "\n",
    "    layout2 = dict(\n",
    "        title = title,\n",
    "        xaxis= dict(\n",
    "            title= 'Component 3',\n",
    "            ticklen= 5          ,\n",
    "            zeroline= False     ,\n",
    "        ),\n",
    "        yaxis= dict(\n",
    "            title= 'Component 4',\n",
    "            ticklen= 5          ,\n",
    "            zeroline= False     ,\n",
    "        )\n",
    "    )\n",
    "\n",
    "\n",
    "    iplot({'data': traces1, 'layout': layout1})\n",
    "    iplot({'data': traces2, 'layout': layout2})\n",
    "\n",
    "\n",
    "def pca_to_model_data(pca_data: PCA_data) -> Model_data:\n",
    "    '''\n",
    "        Takes a PCA_data namedtuple and returns a model_data namedtuple\n",
    "    '''\n",
    "\n",
    "    model_data: Model_data = Model_data(\n",
    "        pca_data.title,\n",
    "        None,\n",
    "        pca_data.classes,\n",
    "        pca_data.X_train,\n",
    "        pca_data.y_train,\n",
    "        None,\n",
    "        None,\n",
    "        None,\n",
    "        None,\n",
    "        'pca'\n",
    "    )\n",
    "\n",
    "    return model_data\n",
    "\n",
    "\n",
    "def run_pca_on_dataset(model_data: tuple, target_label: str = 'label',  title='PCA data', components: int = 6) -> PCA_data:\n",
    "\n",
    "\n",
    "    X            = model_data.X_train.copy()\n",
    "    classes      = model_data.classes\n",
    "    # num_labels   = len(X.groupby(target_label).size())\n",
    "\n",
    "\n",
    "    pca               = PCA(n_components=components)\n",
    "    component         = pd.DataFrame(pca.fit_transform(X))\n",
    "    component.columns = ['PCA_' + str(i+1) for i in range(components)]\n",
    "\n",
    "    for col in component.columns:\n",
    "        X[col] = component[col]\n",
    "\n",
    "\n",
    "    Xy = decode_classes_and_create_Xy_df(Model_data(None, None, classes, component.copy(), model_data.y_train, None, None, None, None, 'pca'), target_label)\n",
    "    component[target_label] = model_data.y_train\n",
    "\n",
    "    pca_data: PCA_data = PCA_data(title, X, model_data.y_train, Xy, component, components, classes, target_label)\n",
    "\n",
    "\n",
    "\n",
    "    return pca_data\n"
   ]
  },
  {
   "cell_type": "markdown",
   "metadata": {},
   "source": [
    "Clustering using tools built using Topological Data Analysis"
   ]
  },
  {
   "cell_type": "code",
   "execution_count": 8,
   "metadata": {},
   "outputs": [],
   "source": [
    "Topology_data = namedtuple(\n",
    "    'topology_data',\n",
    "    ['title', 'clouds', 'clouds_y', 'persistence', 'fig', 'features', 'classes', 'target_label', 'clouds_y_decoded', 'Xy']\n",
    ")\n",
    "\n",
    "\n",
    "\n",
    "def calculate_single_batch_dataset_topology(model_data: tuple, samples: int or None = 1000, dimensions: tuple = (0,1), title=''):\n",
    "    \"\"\"\n",
    "    Function calculates the topology of the dataset and returns it\n",
    "        requires data to be transformed by fastai first to properly encode and normalize the\n",
    "        data.\n",
    "\n",
    "    Returns a namedtuple with the following fields:\n",
    "        title: Graph title\n",
    "        persistence: Vietoris-Rips Peristence\n",
    "        fig: plotly figure\n",
    "        features: Persistence Entropy\n",
    "\n",
    "    \"\"\"\n",
    "\n",
    "    if(model_data.name != '' and title == ''):\n",
    "        title = model_data.name\n",
    "\n",
    "\n",
    "    if(samples is None):\n",
    "        X = model_data.X_train.values\n",
    "    else:\n",
    "        X = model_data.X_train.sample(samples).values\n",
    "        \n",
    "    X = np.array([X])\n",
    "\n",
    "    # calculate the topology\n",
    "    VR = VietorisRipsPersistence(homology_dimensions=dimensions)\n",
    "    topology = VR.fit_transform(X)\n",
    "\n",
    "    # calculate the persistence diagram\n",
    "    fig = plot_diagram(topology[0])\n",
    "\n",
    "    # calculate the entropy\n",
    "    PE = PersistenceEntropy()\n",
    "    entropy = PE.fit_transform(topology)\n",
    "\n",
    "    # package in topological_data named tuple. We do this so data can be accessed using [i] or . operators\n",
    "    topological_data: Topology_data = Topology_data(title, X, None, topology, fig, entropy, model_data.classes, '', None, None)\n",
    "\n",
    "    return topological_data\n",
    "\n",
    "\n",
    "def run_tda_on_dataset(df: pd.DataFrame, target_label: str = 'label',  title='Clusters by Label', n_points: int = 100, dimension: tuple = (0,1), allow_partial: bool = False, segmented: bool = True, jobs: int = None) -> Topology_data:\n",
    "    '''\n",
    "        Function takes a dataset and breaks it into n_point clouds, where n_point is the number of points in each cloud.\n",
    "            Then, the giotto-tda Topological Data Analysis toolkit is used to generate a \n",
    "            persistence module for each cloud. This module describes the topological structure of the cloud.\n",
    "            The topological diagrams have their entropy calculated to break up the feature dimensions into\n",
    "            the indicated dimensions corresponding to topological features like connectivity(0d), loopiness(1d), caviatation(2d), etc\n",
    "            for cluster analysis.\n",
    "            Allow_partial is a boolean that determines whether or not to allow clouds to be less \n",
    "            than n_points if there arent n_points remaining.\n",
    "\n",
    "        Returns the topological data for the dataset\n",
    "\n",
    "        Topology_data = namedtuple(\n",
    "           'topology_data',\n",
    "            ['title', 'clouds', 'clouds_y', 'persistence', 'fig', 'features', 'classes', 'target_label', 'clouds_y_decoded']\n",
    "        )\n",
    "    '''\n",
    "\n",
    "\n",
    "    clouds, clouds_y, classes, clouds_y_decoded = create_n_cloud_from_dataset(df, n_points=n_points, target_label=target_label, allow_partial=allow_partial, segmented=segmented)\n",
    "\n",
    "    VR = VietorisRipsPersistence(homology_dimensions=dimension, n_jobs=jobs)\n",
    "    PE = PersistenceEntropy()\n",
    "\n",
    "    topologies = VR.fit_transform(clouds)\n",
    "\n",
    "    entropies = pd.DataFrame(PE.fit_transform(topologies))\n",
    "\n",
    "    col: list = []\n",
    "    for n in dimension:\n",
    "        col.append(f'{n}d entropy')\n",
    "    entropies.columns = col\n",
    "\n",
    "    Xy = entropies.copy()\n",
    "    Xy[target_label] = clouds_y_decoded\n",
    "\n",
    "\n",
    "    entropies[target_label] = clouds_y\n",
    "\n",
    "    topology_data: Topology_data = Topology_data(title, clouds, clouds_y, topologies, None, entropies, classes, target_label, clouds_y_decoded, Xy)\n",
    "\n",
    "    return topology_data\n",
    "\n",
    "\n",
    "def show_clusters_by_label_2D_tda(df: pd.DataFrame, target_label: str = 'label',  title='Clusters by Label', n_points: int = 100, allow_partial: bool = False) -> Topology_data:\n",
    "    '''\n",
    "        Function takes a dataset and breaks it into n_point clouds, where n_point is the number of points in each cloud.\n",
    "            Then, the giotto-tda Topological Data Analysis toolkit is used to generate a \n",
    "            persistence module for each cloud. This module describes the topological structure of the cloud.\n",
    "            The topological diagrams have their entropy calculated to break up the feature dimensions into\n",
    "            two dimensions corresponding to connectivity and loopinessfor cluster analysis.\n",
    "            Allow_partial is a boolean that determines whether or not to allow clouds to be less \n",
    "            than n_points if there arent n_points remaining.\n",
    "            Displays a graph of the clusters colored by label\n",
    "\n",
    "        Returns the topological data for the dataset\n",
    "    '''\n",
    "\n",
    "\n",
    "    clouds, clouds_y, classes, clouds_y_decoded = create_n_cloud_from_dataset(df, n_points=n_points, target_label=target_label, allow_partial=allow_partial)\n",
    "\n",
    "    VR = VietorisRipsPersistence(homology_dimensions=(0,1))\n",
    "    PE = PersistenceEntropy()\n",
    "\n",
    "    topologies      = VR.fit_transform(clouds)\n",
    "\n",
    "    X               = pd.DataFrame(PE.fit_transform(topologies))\n",
    "    X.columns       = [\"Connectivity\", \"Loopiness\"]\n",
    "    X[target_label] = clouds_y\n",
    "    num_labels      = len(X.groupby(target_label).size())\n",
    "    label_colors    = get_n_color_list(num_labels, opacity=.4)\n",
    "\n",
    "\n",
    "    traces: list = []\n",
    "    for i in range(num_labels):\n",
    "        cluster = X[X[target_label] == i]\n",
    "        traces.append(\n",
    "            go.Scatter(\n",
    "                x      = cluster[\"Connectivity\"]   ,\n",
    "                y      = cluster[\"Loopiness\"]      ,\n",
    "                marker = {'color': label_colors[i]},\n",
    "                mode   = 'markers'                 ,\n",
    "                name   = classes[i]                ,\n",
    "            )\n",
    "        )\n",
    "\n",
    "\n",
    "    layout = dict(\n",
    "        title = title,\n",
    "        xaxis= dict(\n",
    "            title= 'Connectivity',\n",
    "            ticklen= 5           ,\n",
    "            zeroline= False      ,\n",
    "        ),\n",
    "        yaxis= dict(\n",
    "            title= 'Loopiness',\n",
    "            ticklen= 5        ,\n",
    "            zeroline= False   ,\n",
    "        )\n",
    "    )\n",
    "\n",
    "    fig = {'data': traces, 'layout': layout}\n",
    "\n",
    "    iplot(fig)\n",
    "\n",
    "    topology_data: Topology_data = Topology_data(title, clouds, clouds_y, topologies, fig, X, classes, target_label, clouds_y_decoded, None)\n",
    "\n",
    "    return topology_data\n",
    "\n",
    "\n",
    "def extract_topological_correlations(topology_data: Topology_data, original_dataset: pd.DataFrame, label: str):\n",
    "    '''\n",
    "        Takes a Topology_data namedtuple and returns a dictionary of lists of features ordered topological correlations \n",
    "            for each value in the topology_data.entropy dataframe with the values of the points in the point clouds\n",
    "            being used to calculate the persistence entropy\n",
    "    '''        \n",
    "\n",
    "    cols = list(original_dataset.columns)\n",
    "    if(label in cols):\n",
    "        cols.remove(label)\n",
    "\n",
    "    df = pd.DataFrame()\n",
    "    new_cols = list(topology_data.features.columns)\n",
    "    for i, x in enumerate(topology_data.clouds):\n",
    "        new_df = pd.DataFrame(x)\n",
    "        for col in new_cols:\n",
    "            new_df[col] = topology_data.features[col][i]\n",
    "        df = pd.concat([df, new_df], ignore_index=True)\n",
    "\n",
    "    df.columns = cols + new_cols\n",
    "\n",
    "    correlation = df.corr()\n",
    "\n",
    "    correlations: dict = {}\n",
    "    for col in new_cols:\n",
    "        if col != label:\n",
    "            correlations[col] = extract_correlations(correlation, col)\n",
    "\n",
    "    for cor in correlations.keys():\n",
    "        for col in new_cols:\n",
    "            if col in correlations[cor]:\n",
    "                correlations[cor].remove(col)\n",
    "\n",
    "\n",
    "    correlations['Graph'] = plt.figure(figsize=(20,15))\n",
    "    sns.heatmap(correlation, vmax=1, square=True, cmap='YlGnBu')\n",
    "    plt.title(\"Topographic Correlation Heatmap for n_clouds Generated by Traffic Type\", fontsize=16)\n",
    "\n",
    "    return correlations\n",
    "\n",
    "\n",
    "\n",
    "def top_to_model_data(topology_data: Topology_data) -> Model_data:\n",
    "    '''\n",
    "        Takes a Topology_data namedtuple and returns a model_data namedtuple\n",
    "    '''\n",
    "\n",
    "    X_train = topology_data.features.copy()\n",
    "\n",
    "    if topology_data.target_label in X_train.columns:\n",
    "        X_train.drop(topology_data.target_label, axis=1, inplace=True)\n",
    "\n",
    "    model_data: Model_data = Model_data(\n",
    "        topology_data.title,\n",
    "        None,\n",
    "        topology_data.classes,\n",
    "        X_train,   \n",
    "        topology_data.clouds_y,\n",
    "        None,\n",
    "        None,\n",
    "        None,\n",
    "        None,\n",
    "        'topology'\n",
    "    )\n",
    "\n",
    "    return model_data"
   ]
  },
  {
   "cell_type": "markdown",
   "metadata": {},
   "source": [
    "Tools to visualize the results of classification experiments"
   ]
  },
  {
   "cell_type": "code",
   "execution_count": 9,
   "metadata": {},
   "outputs": [],
   "source": [
    "def visualize_confusion_matrix(model_data: tuple, ax=None, cmap='Blues') -> yb.classifier:\n",
    "    '''\n",
    "        Takes a 10-tuple from the run_experiments function and creates a confusion matrix\n",
    "\n",
    "        model_data: tuple = (name, model, classes, X_train, y_train, X_test, y_test, to, dls, model_type)\n",
    "    '''\n",
    "\n",
    "    visualizer = yb.classifier.ConfusionMatrix(model_data[1], classes=model_data[2], title=model_data[0], ax=ax, cmap=cmap, is_fitted=True)\n",
    "    visualizer.score(model_data[5], model_data[6])\n",
    "    \n",
    "    return visualizer\n",
    "\n",
    "\n",
    "def visualize_roc(model_data: tuple, ax=None, cmap='Blues') -> yb.classifier:\n",
    "    '''\n",
    "        Takes a 10-tuple from the run_experiments function and creates a \n",
    "        Receiver Operating Characteristic (ROC) Curve\n",
    "\n",
    "        model_data: tuple = (name, model, classes, X_train, y_train, X_test, y_test, to, dls, model_type)\n",
    "    '''\n",
    "\n",
    "    visualizer = yb.classifier.ROCAUC(model_data[1], classes=model_data[2], title=model_data[0], ax=ax, cmap=cmap)\n",
    "    visualizer.score(model_data[5], model_data[6])\n",
    "    \n",
    "    return visualizer\n",
    "\n",
    "\n",
    "\n",
    "def visualize_pr_curve(model_data: tuple, ax=None, cmap='Blues') -> yb.classifier:\n",
    "    '''\n",
    "        Takes a 10-tuple from the run_experiments function and creates a \n",
    "        Precision-Recall Curve\n",
    "\n",
    "        model_data: tuple = (name, model, classes, X_train, y_train, X_test, y_test, to, dls, model_type)\n",
    "    '''\n",
    "\n",
    "    visualizer = yb.classifier.PrecisionRecallCurve(model_data[1], title=model_data[0], ax=ax, cmap=cmap)\n",
    "    visualizer.score(model_data[5], model_data[6])\n",
    "\n",
    "    return visualizer\n",
    "\n",
    "\n",
    "\n",
    "def visualize_report(model_data: tuple, ax=None, cmap='Blues') -> yb.classifier:\n",
    "    '''\n",
    "        Takes a 10-tuple from the run_experiments function and creates a report\n",
    "        detailing the Precision, Recall, f1, and Support scores for all \n",
    "        classification outcomes\n",
    "\n",
    "        model_data: tuple = (name, model, classes, X_train, y_train, X_test, y_test, to, dls, model_type)\n",
    "    '''\n",
    "\n",
    "    visualizer = yb.classifier.ClassificationReport(model_data[1], classes=model_data[2], title=model_data[0], support=True, ax=ax, cmap=cmap)\n",
    "    visualizer.score(model_data[5], model_data[6])\n",
    "\n",
    "    return visualizer\n",
    "\n",
    "\n",
    "\n",
    "def visualize_class_balance(model_data: tuple, ax=None, cmap='Blues') -> yb.classifier:\n",
    "    '''\n",
    "        Takes a 10-tuple from the run_experiments function and creates a histogram\n",
    "        detailing the balance between classification outcomes\n",
    "\n",
    "        model_data: tuple = (name, model, classes, X_train, y_train, X_test, y_test, to, dls, model_type)\n",
    "    '''\n",
    "\n",
    "    visualizer = yb.target.ClassBalance(labels=model_data[0], ax=ax, cmap=cmap)\n",
    "    visualizer.fit(model_data[4], model_data[6])\n",
    "    \n",
    "    return visualizer\n",
    "\n",
    "\n",
    "\n",
    "def confusion_matrix_from_dataset(model_data: tuple, df: pd.DataFrame, ax=None, cmap='Blues') -> yb.classifier:\n",
    "    '''\n",
    "        Takes a 10-tuple from the run_experiments function and uses the model to classify\n",
    "            the data passed in as the dataframe. Produces a confusion matrix\n",
    "            (currently only confirmed to work with fastai models)\n",
    "\n",
    "        model_data: tuple = (name, model, classes, X_train, y_train, X_test, y_test, to, dls, model_type)\n",
    "    '''\n",
    "\n",
    "    dl = model_data[1].model.dls.test_dl(df, bs=64)\n",
    "    preds, v, dec_preds = model_data[1].model.get_preds(dl=dl, with_decoded=True)\n",
    "\n",
    "    visualizer = yb.classifier.ConfusionMatrix(model_data[1], classes=model_data[2], title=model_data[0], ax=ax, cmap=cmap)\n",
    "    visualizer.score(dl.xs, dl.y)\n",
    "    acc = accuracy_score(dl.y, dec_preds)\n",
    "    print(f'Accuracy: {acc}')\n",
    "\n",
    "    return visualizer\n",
    "\n",
    "\n",
    "def show_stacked_graphs(figures: list, stack_shape: tuple = (1,1), title: str = '', individual_titles: list or str = None) -> widgets.VBox: \n",
    "    \"\"\"\n",
    "    Function takes a list of figures and stacks them in a grid.\n",
    "        stack_shape is a tuple of the number of rows and columns in the grid and\n",
    "        the product of the indices must equal the number of figures.\n",
    "        individual_titles allows one to specify titles for each figure, or a single title for all figures.\n",
    "\n",
    "    Returns a plotly figure with the input figures stacked as indicated\n",
    "    \"\"\"\n",
    "\n",
    "    if(individual_titles is not None and type(individual_titles) is not str):\n",
    "        assert len(figures) == len(individual_titles)     , \"Number of titles must match number of figures\"\n",
    "    assert len(figures) == stack_shape[0] * stack_shape[1], \"Number of figures must match stack shape\"\n",
    "\n",
    "    vertical_stack  : list = []\n",
    "    horizantal_stack: list = []\n",
    "\n",
    "    if(title != ''):\n",
    "        vertical_stack.append(widgets.Label(title))\n",
    "    \n",
    "    for i in range(stack_shape[1]):\n",
    "        for j in range(stack_shape[0]):\n",
    "                \n",
    "            temp_fig = go.FigureWidget(figures[i * stack_shape[0] + j].data)\n",
    "            if(type(individual_titles) == str):\n",
    "                temp_fig.layout.title = individual_titles\n",
    "            elif(type(individual_titles) == list):\n",
    "                temp_fig.layout.title = individual_titles[i * stack_shape[0] + j]\n",
    "                \n",
    "            horizantal_stack.append(temp_fig)\n",
    "        vertical_stack.append(widgets.HBox(horizantal_stack))\n",
    "        horizantal_stack = []\n",
    "\n",
    "    fig = widgets.VBox(vertical_stack)\n",
    "\n",
    "    return fig\n",
    "\n",
    "\n",
    "def show_clusters_by_label_2D(model_data: Model_data, x_col: str, y_col: str, target_label: str = 'label', samples=25000, title='Clusters by Label', ) -> dict:\n",
    "    '''\n",
    "        Takes a model_data tuple and displays the indicated columns of the X_train data as a scatter plot.\n",
    "    '''\n",
    "\n",
    "    X            = model_data.X_train.copy()\n",
    "    X[target_label]   = model_data.y_train.copy()\n",
    "    classes      = model_data.classes\n",
    "    num_labels   = len(X.groupby(target_label).size())\n",
    "    label_colors = get_n_color_list(num_labels, opacity=.4)\n",
    "\n",
    "\n",
    "\n",
    "    # _X            = pd.concat([X, component], axis=1, join='inner')\n",
    "    new_X         = pd.DataFrame(np.array(X.sample(samples)))\n",
    "    new_X.columns = X.columns\n",
    "\n",
    "\n",
    "    traces: list = []\n",
    "    for i in range(num_labels):\n",
    "        cluster = new_X[new_X[target_label] == i]\n",
    "        traces.append(\n",
    "            go.Scatter(\n",
    "                x      = cluster[x_col]            ,\n",
    "                y      = cluster[y_col]            ,\n",
    "                marker = {'color': label_colors[i]},\n",
    "                mode   = 'markers'                 ,\n",
    "                name   = classes[i]                ,\n",
    "            )\n",
    "        )\n",
    "\n",
    "\n",
    "    layout = dict(\n",
    "        title = title,\n",
    "        xaxis = dict(\n",
    "            title    = x_col,\n",
    "            ticklen  = 5    ,\n",
    "            zeroline = False,\n",
    "        ),\n",
    "        yaxis = dict(\n",
    "            title    = y_col,\n",
    "            ticklen  = 5    ,\n",
    "            zeroline = False,\n",
    "        )\n",
    "    )\n",
    "\n",
    "    fig: dict = {'data': traces, 'layout': layout}\n",
    "    fig = go.Figure(fig)\n",
    "\n",
    "    return fig\n",
    "\n",
    "\n",
    "def faceted_clusters_by_label_2D(model_data: Model_data, x_col: str, y_col: str, target_label: str = 'label', samples=25000, title='Clusters by Label', ) -> dict:\n",
    "    '''\n",
    "        Takes a model_data tuple and returns a list of figures that each contain a highlighted value in the label with the other values\n",
    "            serving as a grey background in a scatter plot that demonstrates the distribution\n",
    "    '''\n",
    "\n",
    "    X            = model_data.X_train.copy()\n",
    "    X[target_label]   = model_data.y_train.copy()\n",
    "    classes      = model_data.classes\n",
    "    num_labels   = len(X.groupby(target_label).size()) + 1\n",
    "    label_colors = get_n_color_list(num_labels, opacity=.7)\n",
    "\n",
    "\n",
    "\n",
    "    new_X         = pd.DataFrame(np.array(X.sample(samples)))\n",
    "    new_X.columns = X.columns\n",
    "\n",
    "    figs: list = []\n",
    "    for i, x in enumerate(classes):\n",
    "\n",
    "        cluster_1 = new_X[new_X[target_label] == i]\n",
    "        cluster_2 = new_X[new_X[target_label] != i]\n",
    "\n",
    "        traces: list = []\n",
    "\n",
    "        traces.append(\n",
    "            go.Scatter(\n",
    "                x      = cluster_2[x_col]                     ,\n",
    "                y      = cluster_2[y_col]                     ,\n",
    "                marker = {'color': 'rgba(170, 170, 170, 0.5)'},\n",
    "                mode   = 'markers'                            ,\n",
    "                name   = 'Other'                              ,\n",
    "            )\n",
    "        )\n",
    "\n",
    "        traces.append(\n",
    "            go.Scatter(\n",
    "                x      = cluster_1[x_col]          ,\n",
    "                y      = cluster_1[y_col]          ,\n",
    "                marker = {'color': label_colors[i]},\n",
    "                mode   = 'markers'                 ,\n",
    "                name   = x                         ,\n",
    "            )\n",
    "        )\n",
    "\n",
    "\n",
    "\n",
    "        layout = dict(\n",
    "            title = title,\n",
    "            xaxis = dict(\n",
    "                title    = x_col,\n",
    "                ticklen  = 5    ,\n",
    "                zeroline = False,\n",
    "            ),\n",
    "            yaxis = dict(\n",
    "                title    = y_col,\n",
    "                ticklen  = 5    ,\n",
    "                zeroline = False,\n",
    "            )\n",
    "        )\n",
    "\n",
    "        fig = go.Figure({'data': traces, 'layout': layout})\n",
    "        # a, b = fig.data\n",
    "        # fig.data = b, a\n",
    "        figs.append(fig)\n",
    "\n",
    "    return figs\n",
    "\n",
    "\n",
    "def visualize_side_by_side(\n",
    "    model_datum: list,\n",
    "    results: dict,\n",
    "    title: str = \"Confusion Matrices\",\n",
    "    model_descriptions: list or None = None,\n",
    "    plotting_function: callable = visualize_confusion_matrix,\n",
    "    shape: tuple = (2,5),\n",
    "    size: tuple = (20,10),\n",
    "    x_label: str = 'Predicted',\n",
    "    y_label: str = 'True',\n",
    ") -> tuple:\n",
    "    '''\n",
    "        Function will take the plotting function and execute it on each Model_data tuple passed in through the model_datum list\n",
    "            The plots will be oriented in a subplot grid with the number of rows and columns specified by the shape tuple\n",
    "            average accuracy will be calculated and displayed in the subtitle of the figure\n",
    "            \n",
    "    '''\n",
    "\n",
    "    print('Ignore yellowbrick warnings, this is a side-effect of using the sklearn wrapper on the fastai model')\n",
    "    rows = shape[0]\n",
    "    cols = shape[1]\n",
    "\n",
    "    fig, ax = plt.subplots(nrows=rows, ncols=cols, figsize=size)\n",
    "    fig.suptitle(title)\n",
    "    fig.text(0.5, .001, f'    Average Accuracy: {np.average(results[\"accuracy\"]) * 100: .4f}', ha='center')\n",
    "\n",
    "    viz: list = [0] * len(model_datum)\n",
    "    for i in range(rows*cols):\n",
    "        row = i // cols\n",
    "        col = i % cols\n",
    "        if i < len(model_datum):\n",
    "            if(rows == 1):\n",
    "                current_ax = ax[col]\n",
    "            else:\n",
    "                current_ax = ax[row][col]\n",
    "            viz[i] = plotting_function(model_datum[i], ax=current_ax)\n",
    "            viz[i].finalize()\n",
    "            if model_descriptions is not None:\n",
    "                current_ax.set_title(model_descriptions[i])\n",
    "\n",
    "        if(row == rows-1):\n",
    "            current_ax.set_xlabel(x_label)\n",
    "        else:\n",
    "            current_ax.set_xlabel('')\n",
    "            current_ax.xaxis.set_ticklabels([])\n",
    "\n",
    "        if(col == 0):\n",
    "            current_ax.set_ylabel(y_label)\n",
    "        else:\n",
    "            current_ax.set_ylabel('')\n",
    "            current_ax.yaxis.set_ticklabels([])\n",
    "\n",
    "    plt.tight_layout()\n",
    "\n",
    "    return (fig, ax)\n",
    "\n",
    "\n",
    "def show_feature_importance_TA(model: Learner, df: pd.DataFrame, ax = None, figsize = (15,5), title='Feature Importances') -> tuple:\n",
    "    '''\n",
    "        Function shows the feature importance calculated by the attention layer of the TabNet model.\n",
    "\n",
    "    '''\n",
    "\n",
    "    dl = model.dls.test_dl(df, bs=64)\n",
    "    feature_importances = tabnet_feature_importances(model.model, dl)\n",
    "    \n",
    "    if ax is None:\n",
    "        fig, ax = plt.subplots(figsize=figsize)\n",
    "\n",
    "    ax.bar(dl.x_names, feature_importances, color='g')\n",
    "    ax.set_xticks(range(len(feature_importances)))\n",
    "    ax.set_xticklabels(dl.x_names, rotation=90)\n",
    "    ax.set_title(title)\n",
    "\n",
    "    return (fig, ax)\n",
    "\n",
    "\n",
    "def plot_point_clouds(clouds: list, shape: tuple = (1, 4), titles: list or None = None, homology_dimensions: list or None = None, color='magma'):\n",
    "\n",
    "\n",
    "    specs = np.zeros(shape).astype(object)\n",
    "    cols = shape[1]\n",
    "\n",
    "    for i in range(specs.shape[0]):\n",
    "        for j in range(specs.shape[1]):\n",
    "            specs[i, j] = {'type': 'scene'}\n",
    "\n",
    "\n",
    "    fig = make_subplots(rows=shape[0], cols=shape[1], specs=specs.tolist(), column_titles=titles)\n",
    "\n",
    "    for i, cloud in enumerate(clouds):\n",
    "        row = (i // cols) + 1\n",
    "        col = (i % cols) + 1\n",
    "\n",
    "        fig.add_trace(go.Scatter3d(\n",
    "            # x=cloud[0, :],\n",
    "            # y=cloud[1, :],\n",
    "            # z=cloud[2, :],\n",
    "            x=cloud[:, 0],\n",
    "            y=cloud[:, 1],\n",
    "            z=cloud[:, 2],\n",
    "            showlegend=False,\n",
    "            mode=\"markers\",\n",
    "            marker={\"size\": 4,\n",
    "                    \"color\": list(range(cloud.shape[0])),\n",
    "                    \"colorscale\": color,\n",
    "                    \"opacity\": 0.8}\n",
    "            ),\n",
    "            row=row, col=col\n",
    "        )\n",
    "\n",
    "    fig.show()\n",
    "\n",
    "    return fig\n",
    "\n",
    "\n",
    "def plot_persistence_diagrams(diagrams: list, shape: tuple = (1, 4), titles: list or None = None, homology_dimensions: list or None = None, colors: list or None = None):\n",
    "    '''\n",
    "        Function plots a set of persistence diagrams\n",
    "    '''\n",
    "\n",
    "\n",
    "    cols = shape[1]\n",
    "    fig = make_subplots(rows=shape[0], cols=cols, column_titles=titles)\n",
    "\n",
    "    if homology_dimensions is None:\n",
    "        homology_dimensions = np.unique(diagrams[0][:, 2])\n",
    "\n",
    "    if colors is None:\n",
    "        colors = get_n_color_list(len(homology_dimensions), opacity=.8)\n",
    "\n",
    "    for i, diagram in enumerate(diagrams):\n",
    "        row = (i // cols) + 1\n",
    "        col = (i % cols) + 1\n",
    "\n",
    "\n",
    "        diagram = diagram[diagram[:, 0] != diagram[:, 1]]\n",
    "        diagram_no_dims = diagram[:, :2]\n",
    "        posinfinite_mask = np.isposinf(diagram_no_dims)\n",
    "        neginfinite_mask = np.isneginf(diagram_no_dims)\n",
    "        max_val = np.max(np.where(posinfinite_mask, -np.inf, diagram_no_dims))\n",
    "        min_val = np.min(np.where(neginfinite_mask, np.inf, diagram_no_dims))\n",
    "        parameter_range = max_val - min_val\n",
    "        extra_space_factor = 0.02\n",
    "        has_posinfinite_death = np.any(posinfinite_mask[:, 1])\n",
    "\n",
    "        if has_posinfinite_death:\n",
    "            posinfinity_val = max_val + 0.1 * parameter_range\n",
    "            extra_space_factor += 0.1\n",
    "\n",
    "        extra_space = extra_space_factor * parameter_range\n",
    "        min_val_display = min_val - extra_space\n",
    "        max_val_display = max_val + extra_space\n",
    "\n",
    "        fig.add_trace(\n",
    "            go.Scatter(\n",
    "                x = [min_val_display, max_val_display],\n",
    "                y = [min_val_display, max_val_display],\n",
    "                mode       = \"lines\",\n",
    "                line       = {\"dash\": \"dash\", \"width\": 1, \"color\": \"black\"},\n",
    "                showlegend = False,\n",
    "                hoverinfo  = \"none\"\n",
    "            ), \n",
    "            row = row, \n",
    "            col = col\n",
    "        )\n",
    "\n",
    "        for k, dim in enumerate(homology_dimensions):\n",
    "            name = f\"{int(dim)}d Persistence\" if dim != np.inf else \"Persistence\"\n",
    "            subdiagram = diagram[diagram[:, 2] == dim]\n",
    "            unique, inverse, counts = np.unique(subdiagram, axis=0, return_inverse=True, return_counts=True)\n",
    "            \n",
    "            hovertext = [\n",
    "                f\"{tuple(unique[unique_row_index][:2])}\" + (\n",
    "                    f\", multiplicity: {counts[unique_row_index]}\" if counts[unique_row_index] > 1 else \"\"\n",
    "                ) for unique_row_index in inverse\n",
    "            ]\n",
    "\n",
    "            y = subdiagram[:, 1]\n",
    "            if has_posinfinite_death:\n",
    "                y[np.isposinf(y)] = posinfinity_val\n",
    "\n",
    "            fig.add_trace(\n",
    "                go.Scatter(\n",
    "                    x = subdiagram[:, 0], \n",
    "                    y = y, \n",
    "                    hoverinfo  = \"text\", hovertext=hovertext, name=name,\n",
    "                    marker     = {'color': colors[k]},\n",
    "                    mode       = \"markers\", \n",
    "                    showlegend = (i==0),\n",
    "                ), \n",
    "                row=row, \n",
    "                col=col\n",
    "            )\n",
    "\n",
    "\n",
    "        if(row == (len(diagrams)//cols)):\n",
    "            fig.update_xaxes(title_text=\"Feature Birth\", row=row, col=col)\n",
    "        \n",
    "        if(col == 1):\n",
    "            fig.update_yaxes(title_text=\"Feature Death\", row=row, col=col)\n",
    "\n",
    "\n",
    "        if has_posinfinite_death:\n",
    "            fig.add_trace(\n",
    "                go.Scatter(\n",
    "                    x = [min_val_display, max_val_display],\n",
    "                    y = [posinfinity_val, posinfinity_val],\n",
    "                    line = {\"dash\": \"dash\", \"width\": 0.5, \"color\": \"black\"},\n",
    "                    hoverinfo = \"none\",\n",
    "                    showlegend = True,\n",
    "                    name = u\"\\u221E\",\n",
    "                    mode = \"lines\",\n",
    "                ), \n",
    "                row=row, \n",
    "                col=col\n",
    "            )\n",
    "\n",
    "    fig.show()\n",
    "\n",
    "    return fig\n",
    "\n",
    "\n",
    "def plot_point_clouds_and_persistence_diagram(point_clouds: list, persistence_diagrams: list, rows: int, columns: int, homology_dimensions: list or None = None, color='magma', column_titles: list or None = None):\n",
    "\n",
    "\n",
    "\n",
    "    cols = columns\n",
    "\n",
    "    ri1 = {'type': 'scene'}\n",
    "    ri2 = {'type': 'xy'}\n",
    "    specs = np.zeros((2,4)).astype(object)\n",
    "\n",
    "    for i in range(specs.shape[0]):\n",
    "        for j in range(specs.shape[1]):\n",
    "            if(i == 0):\n",
    "                specs[i, j] = ri1\n",
    "            else:\n",
    "                specs[i, j] = ri2\n",
    "\n",
    "\n",
    "    if homology_dimensions is None:\n",
    "        homology_dimensions = np.unique(persistence_diagrams[0][:, 2])\n",
    "\n",
    "    label_colors = get_n_color_list(len(homology_dimensions), opacity=.8)\n",
    "\n",
    "\n",
    "    fig = make_subplots(rows=rows, cols=cols, specs=specs.tolist(), column_titles=column_titles)\n",
    "\n",
    "\n",
    "\n",
    "    for i, diagram in enumerate(persistence_diagrams):\n",
    "        row = (i // cols) + 1\n",
    "        col = (i % cols) + 1\n",
    "\n",
    "        if(i >= rows*cols):\n",
    "            break\n",
    "\n",
    "        fig.add_trace(go.Scatter3d(\n",
    "            x=point_clouds[i][0, :],\n",
    "            y=point_clouds[i][1, :],\n",
    "            z=point_clouds[i][2, :],\n",
    "            # x=point_clouds[i][:, 0],\n",
    "            # y=point_clouds[i][:, 1],\n",
    "            # z=point_clouds[i][:, 2],\n",
    "            showlegend=False,\n",
    "            mode=\"markers\",\n",
    "            marker={\"size\": 4,\n",
    "                    \"color\": list(range(point_clouds[j].shape[0])),\n",
    "                    \"colorscale\": color,\n",
    "                    \"opacity\": 0.8}\n",
    "            ),\n",
    "            row=row, col=col\n",
    "        )\n",
    "\n",
    "\n",
    "        row += 1\n",
    "\n",
    "        diagram = diagram[diagram[:, 0] != diagram[:, 1]]\n",
    "        diagram_num_dims = diagram[:, :2]\n",
    "        posinfinite_mask = np.isposinf(diagram_num_dims)\n",
    "        neginfinite_mask = np.isneginf(diagram_num_dims)\n",
    "        max_val = np.max(np.where(posinfinite_mask, -np.inf, diagram_num_dims))\n",
    "        min_val = np.min(np.where(neginfinite_mask, np.inf, diagram_num_dims))\n",
    "        parameter_range = max_val - min_val\n",
    "        extra_space_factor = 0.02\n",
    "        has_posinfinite_death = np.any(posinfinite_mask[:, 1])\n",
    "\n",
    "        if has_posinfinite_death:\n",
    "            posinfinity_val     = max_val + 0.1 * parameter_range\n",
    "            extra_space_factor += 0.1\n",
    "\n",
    "\n",
    "        extra_space     = extra_space_factor * parameter_range\n",
    "        min_val_display = min_val - extra_space\n",
    "        max_val_display = max_val + extra_space\n",
    "\n",
    "        fig.add_trace(\n",
    "            go.Scatter(\n",
    "                x = [min_val_display, max_val_display],\n",
    "                y = [min_val_display, max_val_display],\n",
    "                mode = \"lines\",\n",
    "                line = {\"dash\": \"dash\", \"width\": 1, \"color\": \"black\"},\n",
    "                showlegend = False,\n",
    "                hoverinfo = \"none\"\n",
    "            ), \n",
    "            row = row, \n",
    "            col = col\n",
    "        )\n",
    "\n",
    "        for k, dim in enumerate(homology_dimensions):\n",
    "\n",
    "            name = f\"{int(dim)}d Persistence\" if dim != np.inf else \"Persistence\"\n",
    "            subdiagram = diagram[diagram[:, 2] == dim]\n",
    "            unique, inverse, counts = np.unique(subdiagram, axis=0, return_inverse=True, return_counts=True)\n",
    "            \n",
    "            hovertext = [\n",
    "                f\"{tuple(unique[unique_row_index][:2])}\" + (\n",
    "                    f\", multiplicity: {counts[unique_row_index]}\"\n",
    "                    if counts[unique_row_index] > 1 else \"\"\n",
    "                ) for unique_row_index in inverse\n",
    "            ]\n",
    "\n",
    "            y = subdiagram[:, 1]\n",
    "            if has_posinfinite_death:\n",
    "                y[np.isposinf(y)] = posinfinity_val\n",
    "\n",
    "            fig.add_trace(\n",
    "                go.Scatter(\n",
    "                    x = subdiagram[:, 0], \n",
    "                    y = y, \n",
    "                    name       = name     , \n",
    "                    mode       = \"markers\", \n",
    "                    hoverinfo  = \"text\"   , \n",
    "                    hovertext  = hovertext, \n",
    "                    showlegend = (i==0)   ,\n",
    "                    marker     = {'color': label_colors[k]},\n",
    "                ), \n",
    "                row = row, \n",
    "                col = col\n",
    "            )\n",
    "\n",
    "\n",
    "        if(row == 2):\n",
    "            fig.update_xaxes(title_text=\"Feature Birth\", row=row, col=col)\n",
    "        \n",
    "        if(col == 1):\n",
    "            fig.update_yaxes(title_text=\"Feature Death\", row=row, col=col)\n",
    "\n",
    "        # Add a horizontal dashed line for points with infinite death\n",
    "        if has_posinfinite_death:\n",
    "            fig.add_trace(go.Scatter(\n",
    "                x=[min_val_display, max_val_display],\n",
    "                y=[posinfinity_val, posinfinity_val],\n",
    "                mode=\"lines\",\n",
    "                line={\"dash\": \"dash\", \"width\": 0.5, \"color\": \"black\"},\n",
    "                showlegend=True,\n",
    "                name=u\"\\u221E\",\n",
    "                hoverinfo=\"none\"\n",
    "            ), row=row, col=col)\n",
    "\n",
    "    fig.show()\n",
    "\n",
    "    return fig"
   ]
  },
  {
   "cell_type": "code",
   "execution_count": 10,
   "metadata": {},
   "outputs": [
    {
     "name": "stdout",
     "output_type": "stream",
     "text": [
      "We will be looking at 1 files:\n",
      "[   './Darknet_experiments_base.csv']\n"
     ]
    }
   ],
   "source": [
    "print(f'We will be looking at {len(file_set)} files:')\n",
    "pretty(file_set)"
   ]
  },
  {
   "cell_type": "markdown",
   "metadata": {},
   "source": [
    "## Loading Datasets\n",
    "\n",
    "We load the data and separate the dataset by label, giving us a traffic dataset and an application dataset. We will show correlations in both datasets, extract the correlations to labels or features, and use these to construct images from the data."
   ]
  },
  {
   "cell_type": "code",
   "execution_count": 12,
   "metadata": {},
   "outputs": [
    {
     "name": "stdout",
     "output_type": "stream",
     "text": [
      "Dataset 1/1: We now look at ./Darknet_experiments_base.csv\n",
      "\n",
      "\n",
      "Loading Dataset: ./Darknet_experiments_base.csv\n",
      "\tTo Dataset Cache: ./cache/Darknet_experiments_base.csv.pickle\n",
      "\n",
      "\n",
      "        File:\t\t\t\t./Darknet_experiments_base.csv  \n",
      "        Job Number:\t\t\t1\n",
      "        Shape:\t\t\t\t(117620, 64)\n",
      "        Samples:\t\t\t117620 \n",
      "        Features:\t\t\t64\n",
      "    \n"
     ]
    }
   ],
   "source": [
    "base_dataset                 : dict = examine_dataset(1)"
   ]
  },
  {
   "cell_type": "code",
   "execution_count": 15,
   "metadata": {},
   "outputs": [
    {
     "name": "stdout",
     "output_type": "stream",
     "text": [
      "Dataset 1/1: We now look at ./Darknet_experiments_base.csv\n",
      "\n",
      "\n",
      "Loading Dataset: ./Darknet_experiments_base.csv\n",
      "\tTo Dataset Cache: ./cache/Darknet_experiments_base.csv.pickle\n",
      "\n",
      "\n",
      "        File:\t\t\t\t./Darknet_experiments_base.csv  \n",
      "        Job Number:\t\t\t1\n",
      "        Shape:\t\t\t\t(117620, 64)\n",
      "        Samples:\t\t\t117620 \n",
      "        Features:\t\t\t64\n",
      "    \n",
      "\n",
      "    Packaging Data Traffic_Dataset:\n",
      "\n",
      "    Dataset statistics:\n",
      "        Shape:\t\t\t\t(117620, 63)\n",
      "        Samples:\t\t\t117620 \n",
      "        Features:\t\t\t63\n",
      "    \n",
      "\n",
      "    Packaging Data Application_Dataset:\n",
      "\n",
      "    Dataset statistics:\n",
      "        Shape:\t\t\t\t(117620, 63)\n",
      "        Samples:\t\t\t117620 \n",
      "        Features:\t\t\t63\n",
      "    \n"
     ]
    }
   ],
   "source": [
    "dataset_1            : dict = examine_dataset(1)\n",
    "traffic_dataset_1    : dict = package_data_for_inspection_with_label(prune_dataset(dataset_1, ['Application Type']), 'Traffic_Dataset')\n",
    "application_dataset_1: dict = package_data_for_inspection_with_label(prune_dataset(dataset_1, ['Traffic Type']), 'Application_Dataset')\n"
   ]
  },
  {
   "cell_type": "code",
   "execution_count": null,
   "metadata": {},
   "outputs": [],
   "source": []
  },
  {
   "cell_type": "code",
   "execution_count": null,
   "metadata": {},
   "outputs": [],
   "source": [
    "application_dataset_1['Data']"
   ]
  },
  {
   "cell_type": "code",
   "execution_count": 20,
   "metadata": {},
   "outputs": [
    {
     "name": "stdout",
     "output_type": "stream",
     "text": [
      "(117620, 63)\n",
      "(117620, 63)\n"
     ]
    }
   ],
   "source": [
    "traffic_dataset_1['n_100_TDA_0_1_2']     = run_tda_on_dataset(traffic_dataset_1['Dataset']    , target_label='Traffic Type'    , n_points=100, dimension=(0,1,2), segmented=False)\n",
    "application_dataset_1['n_100_TDA_0_1_2'] = run_tda_on_dataset(application_dataset_1['Dataset'], target_label='Application Type', n_points=100, dimension=(0,1,2), segmented=False)"
   ]
  },
  {
   "cell_type": "code",
   "execution_count": 46,
   "metadata": {},
   "outputs": [
    {
     "data": {
      "text/plain": [
       "(117320, 132, 3)"
      ]
     },
     "execution_count": 46,
     "metadata": {},
     "output_type": "execute_result"
    }
   ],
   "source": [
    "traffic_dataset_1['n_100_TDA_0_1_2'].persistence.shape"
   ]
  },
  {
   "cell_type": "code",
   "execution_count": 56,
   "metadata": {},
   "outputs": [
    {
     "data": {
      "application/vnd.plotly.v1+json": {
       "config": {
        "plotlyServerURL": "https://plot.ly"
       },
       "data": [
        {
         "hoverinfo": "none",
         "line": {
          "color": "black",
          "dash": "dash",
          "width": 1
         },
         "mode": "lines",
         "showlegend": false,
         "type": "scatter",
         "x": [
          -0.4486764144897461,
          22.88249713897705
         ],
         "y": [
          -0.4486764144897461,
          22.88249713897705
         ]
        },
        {
         "hoverinfo": "text",
         "hovertext": [
          "(0.0, 0.000806794676464051)",
          "(0.0, 0.0008354787132702768)",
          "(0.0, 0.002119983546435833)",
          "(0.0, 0.0025187828578054905)",
          "(0.0, 0.0026291413232684135)",
          "(0.0, 0.003775738412514329)",
          "(0.0, 0.00386056792922318)",
          "(0.0, 0.004168790299445391)",
          "(0.0, 0.005269073881208897)",
          "(0.0, 0.005338504910469055)",
          "(0.0, 0.009034101851284504)",
          "(0.0, 0.009909499436616898)",
          "(0.0, 0.013254674151539803)",
          "(0.0, 0.015086359344422817)",
          "(0.0, 0.017133714631199837)",
          "(0.0, 0.019495470449328423)",
          "(0.0, 0.020576750859618187)",
          "(0.0, 0.02654687687754631)",
          "(0.0, 0.027483725920319557)",
          "(0.0, 0.02763410657644272)",
          "(0.0, 0.02950214594602585)",
          "(0.0, 0.03342978656291962)",
          "(0.0, 0.03723367676138878)",
          "(0.0, 0.042224347591400146)",
          "(0.0, 0.054038554430007935)",
          "(0.0, 0.05807892233133316)",
          "(0.0, 0.06366029381752014)",
          "(0.0, 0.07617402076721191)",
          "(0.0, 0.1277742087841034)",
          "(0.0, 0.1286257654428482)",
          "(0.0, 0.14660969376564026)",
          "(0.0, 0.15148654580116272)",
          "(0.0, 0.18962791562080383)",
          "(0.0, 0.19124041497707367)",
          "(0.0, 0.19249121844768524)",
          "(0.0, 0.19791732728481293)",
          "(0.0, 0.2026972472667694)",
          "(0.0, 0.20507365465164185)",
          "(0.0, 0.22392268478870392)",
          "(0.0, 0.25554144382476807)",
          "(0.0, 0.25855007767677307)",
          "(0.0, 0.32121139764785767)",
          "(0.0, 0.39710718393325806)",
          "(0.0, 0.7806960940361023)",
          "(0.0, 0.9967188239097595)",
          "(0.0, 1.0037907361984253)",
          "(0.0, 1.02897047996521)",
          "(0.0, 1.120052695274353)",
          "(0.0, 1.1236119270324707)",
          "(0.0, 1.2407413721084595)",
          "(0.0, 1.4815095663070679)",
          "(0.0, 1.7752150297164917)",
          "(0.0, 1.8419554233551025)",
          "(0.0, 1.881105661392212)",
          "(0.0, 2.2872066497802734)",
          "(0.0, 2.3562963008880615)",
          "(0.0, 2.4848928451538086)",
          "(0.0, 2.5323684215545654)",
          "(0.0, 2.6161155700683594)",
          "(0.0, 2.7603683471679688)",
          "(0.0, 3.059476375579834)",
          "(0.0, 3.0781519412994385)",
          "(0.0, 3.169614791870117)",
          "(0.0, 3.1999382972717285)",
          "(0.0, 3.2452404499053955)",
          "(0.0, 3.445237874984741)",
          "(0.0, 3.522106409072876)",
          "(0.0, 3.5356035232543945)",
          "(0.0, 3.579059600830078)",
          "(0.0, 3.58945369720459)",
          "(0.0, 3.6497602462768555)",
          "(0.0, 3.793281316757202)",
          "(0.0, 3.848538875579834)",
          "(0.0, 3.9417502880096436)",
          "(0.0, 3.9828784465789795)",
          "(0.0, 4.003063678741455)",
          "(0.0, 4.140411376953125)",
          "(0.0, 4.197039604187012)",
          "(0.0, 4.237746715545654)",
          "(0.0, 4.244205951690674)",
          "(0.0, 4.522282600402832)",
          "(0.0, 4.646162033081055)",
          "(0.0, 4.80549430847168)",
          "(0.0, 5.040870189666748)",
          "(0.0, 5.101670742034912)",
          "(0.0, 5.2294020652771)",
          "(0.0, 5.248112201690674)",
          "(0.0, 5.422045707702637)",
          "(0.0, 5.478244781494141)",
          "(0.0, 5.485583782196045)",
          "(0.0, 5.780643463134766)",
          "(0.0, 6.210594654083252)",
          "(0.0, 7.325597763061523)",
          "(0.0, 8.112998008728027)",
          "(0.0, 8.910689353942871)",
          "(0.0, 11.412405014038086)",
          "(0.0, 11.418305397033691)",
          "(0.0, 22.433820724487305)"
         ],
         "mode": "markers",
         "name": "H0",
         "type": "scatter",
         "x": [
          0,
          0,
          0,
          0,
          0,
          0,
          0,
          0,
          0,
          0,
          0,
          0,
          0,
          0,
          0,
          0,
          0,
          0,
          0,
          0,
          0,
          0,
          0,
          0,
          0,
          0,
          0,
          0,
          0,
          0,
          0,
          0,
          0,
          0,
          0,
          0,
          0,
          0,
          0,
          0,
          0,
          0,
          0,
          0,
          0,
          0,
          0,
          0,
          0,
          0,
          0,
          0,
          0,
          0,
          0,
          0,
          0,
          0,
          0,
          0,
          0,
          0,
          0,
          0,
          0,
          0,
          0,
          0,
          0,
          0,
          0,
          0,
          0,
          0,
          0,
          0,
          0,
          0,
          0,
          0,
          0,
          0,
          0,
          0,
          0,
          0,
          0,
          0,
          0,
          0,
          0,
          0,
          0,
          0,
          0,
          0,
          0,
          0
         ],
         "y": [
          0.000806794676464051,
          0.0008354787132702768,
          0.002119983546435833,
          0.0025187828578054905,
          0.0026291413232684135,
          0.003775738412514329,
          0.00386056792922318,
          0.004168790299445391,
          0.005269073881208897,
          0.005338504910469055,
          0.009034101851284504,
          0.009909499436616898,
          0.013254674151539803,
          0.015086359344422817,
          0.017133714631199837,
          0.019495470449328423,
          0.020576750859618187,
          0.02654687687754631,
          0.027483725920319557,
          0.02763410657644272,
          0.02950214594602585,
          0.03342978656291962,
          0.03723367676138878,
          0.042224347591400146,
          0.054038554430007935,
          0.05807892233133316,
          0.06366029381752014,
          0.07617402076721191,
          0.1277742087841034,
          0.1286257654428482,
          0.14660969376564026,
          0.15148654580116272,
          0.18962791562080383,
          0.19124041497707367,
          0.19249121844768524,
          0.19791732728481293,
          0.2026972472667694,
          0.20507365465164185,
          0.22392268478870392,
          0.25554144382476807,
          0.25855007767677307,
          0.32121139764785767,
          0.39710718393325806,
          0.7806960940361023,
          0.9967188239097595,
          1.0037907361984253,
          1.02897047996521,
          1.120052695274353,
          1.1236119270324707,
          1.2407413721084595,
          1.4815095663070679,
          1.7752150297164917,
          1.8419554233551025,
          1.881105661392212,
          2.2872066497802734,
          2.3562963008880615,
          2.4848928451538086,
          2.5323684215545654,
          2.6161155700683594,
          2.7603683471679688,
          3.059476375579834,
          3.0781519412994385,
          3.169614791870117,
          3.1999382972717285,
          3.2452404499053955,
          3.445237874984741,
          3.522106409072876,
          3.5356035232543945,
          3.579059600830078,
          3.58945369720459,
          3.6497602462768555,
          3.793281316757202,
          3.848538875579834,
          3.9417502880096436,
          3.9828784465789795,
          4.003063678741455,
          4.140411376953125,
          4.197039604187012,
          4.237746715545654,
          4.244205951690674,
          4.522282600402832,
          4.646162033081055,
          4.80549430847168,
          5.040870189666748,
          5.101670742034912,
          5.2294020652771,
          5.248112201690674,
          5.422045707702637,
          5.478244781494141,
          5.485583782196045,
          5.780643463134766,
          6.210594654083252,
          7.325597763061523,
          8.112998008728027,
          8.910689353942871,
          11.412405014038086,
          11.418305397033691,
          22.433820724487305
         ]
        },
        {
         "hoverinfo": "text",
         "hovertext": [
          "(7.720710754394531, 7.731745719909668)",
          "(7.233944416046143, 7.574927806854248)",
          "(6.43099308013916, 6.478196144104004)",
          "(6.367190361022949, 6.481915473937988)",
          "(6.083000659942627, 6.091084957122803)",
          "(5.838747501373291, 6.00835657119751)",
          "(5.669738292694092, 6.538571834564209)",
          "(5.492056369781494, 5.826280117034912)",
          "(4.756535530090332, 4.787863254547119)",
          "(4.521763324737549, 4.625274181365967)",
          "(4.475699424743652, 4.529694557189941)",
          "(4.453617095947266, 4.891277313232422)",
          "(4.170940399169922, 4.320282936096191)",
          "(3.7886741161346436, 3.9477834701538086)",
          "(3.5276477336883545, 3.5325465202331543)",
          "(3.5274956226348877, 3.534986972808838)"
         ],
         "mode": "markers",
         "name": "H1",
         "type": "scatter",
         "x": [
          7.720710754394531,
          7.233944416046143,
          6.43099308013916,
          6.367190361022949,
          6.083000659942627,
          5.838747501373291,
          5.669738292694092,
          5.492056369781494,
          4.756535530090332,
          4.521763324737549,
          4.475699424743652,
          4.453617095947266,
          4.170940399169922,
          3.7886741161346436,
          3.5276477336883545,
          3.5274956226348877
         ],
         "y": [
          7.731745719909668,
          7.574927806854248,
          6.478196144104004,
          6.481915473937988,
          6.091084957122803,
          6.00835657119751,
          6.538571834564209,
          5.826280117034912,
          4.787863254547119,
          4.625274181365967,
          4.529694557189941,
          4.891277313232422,
          4.320282936096191,
          3.9477834701538086,
          3.5325465202331543,
          3.534986972808838
         ]
        },
        {
         "hoverinfo": "text",
         "hovertext": [
          "(7.768138885498047, 7.89643669128418)",
          "(5.273897171020508, 5.281866550445557)",
          "(5.27388334274292, 5.282896518707275)"
         ],
         "mode": "markers",
         "name": "H2",
         "type": "scatter",
         "x": [
          7.768138885498047,
          5.273897171020508,
          5.27388334274292
         ],
         "y": [
          7.89643669128418,
          5.281866550445557,
          5.282896518707275
         ]
        }
       ],
       "layout": {
        "height": 500,
        "plot_bgcolor": "white",
        "template": {
         "data": {
          "bar": [
           {
            "error_x": {
             "color": "#2a3f5f"
            },
            "error_y": {
             "color": "#2a3f5f"
            },
            "marker": {
             "line": {
              "color": "#E5ECF6",
              "width": 0.5
             },
             "pattern": {
              "fillmode": "overlay",
              "size": 10,
              "solidity": 0.2
             }
            },
            "type": "bar"
           }
          ],
          "barpolar": [
           {
            "marker": {
             "line": {
              "color": "#E5ECF6",
              "width": 0.5
             },
             "pattern": {
              "fillmode": "overlay",
              "size": 10,
              "solidity": 0.2
             }
            },
            "type": "barpolar"
           }
          ],
          "carpet": [
           {
            "aaxis": {
             "endlinecolor": "#2a3f5f",
             "gridcolor": "white",
             "linecolor": "white",
             "minorgridcolor": "white",
             "startlinecolor": "#2a3f5f"
            },
            "baxis": {
             "endlinecolor": "#2a3f5f",
             "gridcolor": "white",
             "linecolor": "white",
             "minorgridcolor": "white",
             "startlinecolor": "#2a3f5f"
            },
            "type": "carpet"
           }
          ],
          "choropleth": [
           {
            "colorbar": {
             "outlinewidth": 0,
             "ticks": ""
            },
            "type": "choropleth"
           }
          ],
          "contour": [
           {
            "colorbar": {
             "outlinewidth": 0,
             "ticks": ""
            },
            "colorscale": [
             [
              0,
              "#0d0887"
             ],
             [
              0.1111111111111111,
              "#46039f"
             ],
             [
              0.2222222222222222,
              "#7201a8"
             ],
             [
              0.3333333333333333,
              "#9c179e"
             ],
             [
              0.4444444444444444,
              "#bd3786"
             ],
             [
              0.5555555555555556,
              "#d8576b"
             ],
             [
              0.6666666666666666,
              "#ed7953"
             ],
             [
              0.7777777777777778,
              "#fb9f3a"
             ],
             [
              0.8888888888888888,
              "#fdca26"
             ],
             [
              1,
              "#f0f921"
             ]
            ],
            "type": "contour"
           }
          ],
          "contourcarpet": [
           {
            "colorbar": {
             "outlinewidth": 0,
             "ticks": ""
            },
            "type": "contourcarpet"
           }
          ],
          "heatmap": [
           {
            "colorbar": {
             "outlinewidth": 0,
             "ticks": ""
            },
            "colorscale": [
             [
              0,
              "#0d0887"
             ],
             [
              0.1111111111111111,
              "#46039f"
             ],
             [
              0.2222222222222222,
              "#7201a8"
             ],
             [
              0.3333333333333333,
              "#9c179e"
             ],
             [
              0.4444444444444444,
              "#bd3786"
             ],
             [
              0.5555555555555556,
              "#d8576b"
             ],
             [
              0.6666666666666666,
              "#ed7953"
             ],
             [
              0.7777777777777778,
              "#fb9f3a"
             ],
             [
              0.8888888888888888,
              "#fdca26"
             ],
             [
              1,
              "#f0f921"
             ]
            ],
            "type": "heatmap"
           }
          ],
          "heatmapgl": [
           {
            "colorbar": {
             "outlinewidth": 0,
             "ticks": ""
            },
            "colorscale": [
             [
              0,
              "#0d0887"
             ],
             [
              0.1111111111111111,
              "#46039f"
             ],
             [
              0.2222222222222222,
              "#7201a8"
             ],
             [
              0.3333333333333333,
              "#9c179e"
             ],
             [
              0.4444444444444444,
              "#bd3786"
             ],
             [
              0.5555555555555556,
              "#d8576b"
             ],
             [
              0.6666666666666666,
              "#ed7953"
             ],
             [
              0.7777777777777778,
              "#fb9f3a"
             ],
             [
              0.8888888888888888,
              "#fdca26"
             ],
             [
              1,
              "#f0f921"
             ]
            ],
            "type": "heatmapgl"
           }
          ],
          "histogram": [
           {
            "marker": {
             "pattern": {
              "fillmode": "overlay",
              "size": 10,
              "solidity": 0.2
             }
            },
            "type": "histogram"
           }
          ],
          "histogram2d": [
           {
            "colorbar": {
             "outlinewidth": 0,
             "ticks": ""
            },
            "colorscale": [
             [
              0,
              "#0d0887"
             ],
             [
              0.1111111111111111,
              "#46039f"
             ],
             [
              0.2222222222222222,
              "#7201a8"
             ],
             [
              0.3333333333333333,
              "#9c179e"
             ],
             [
              0.4444444444444444,
              "#bd3786"
             ],
             [
              0.5555555555555556,
              "#d8576b"
             ],
             [
              0.6666666666666666,
              "#ed7953"
             ],
             [
              0.7777777777777778,
              "#fb9f3a"
             ],
             [
              0.8888888888888888,
              "#fdca26"
             ],
             [
              1,
              "#f0f921"
             ]
            ],
            "type": "histogram2d"
           }
          ],
          "histogram2dcontour": [
           {
            "colorbar": {
             "outlinewidth": 0,
             "ticks": ""
            },
            "colorscale": [
             [
              0,
              "#0d0887"
             ],
             [
              0.1111111111111111,
              "#46039f"
             ],
             [
              0.2222222222222222,
              "#7201a8"
             ],
             [
              0.3333333333333333,
              "#9c179e"
             ],
             [
              0.4444444444444444,
              "#bd3786"
             ],
             [
              0.5555555555555556,
              "#d8576b"
             ],
             [
              0.6666666666666666,
              "#ed7953"
             ],
             [
              0.7777777777777778,
              "#fb9f3a"
             ],
             [
              0.8888888888888888,
              "#fdca26"
             ],
             [
              1,
              "#f0f921"
             ]
            ],
            "type": "histogram2dcontour"
           }
          ],
          "mesh3d": [
           {
            "colorbar": {
             "outlinewidth": 0,
             "ticks": ""
            },
            "type": "mesh3d"
           }
          ],
          "parcoords": [
           {
            "line": {
             "colorbar": {
              "outlinewidth": 0,
              "ticks": ""
             }
            },
            "type": "parcoords"
           }
          ],
          "pie": [
           {
            "automargin": true,
            "type": "pie"
           }
          ],
          "scatter": [
           {
            "marker": {
             "colorbar": {
              "outlinewidth": 0,
              "ticks": ""
             }
            },
            "type": "scatter"
           }
          ],
          "scatter3d": [
           {
            "line": {
             "colorbar": {
              "outlinewidth": 0,
              "ticks": ""
             }
            },
            "marker": {
             "colorbar": {
              "outlinewidth": 0,
              "ticks": ""
             }
            },
            "type": "scatter3d"
           }
          ],
          "scattercarpet": [
           {
            "marker": {
             "colorbar": {
              "outlinewidth": 0,
              "ticks": ""
             }
            },
            "type": "scattercarpet"
           }
          ],
          "scattergeo": [
           {
            "marker": {
             "colorbar": {
              "outlinewidth": 0,
              "ticks": ""
             }
            },
            "type": "scattergeo"
           }
          ],
          "scattergl": [
           {
            "marker": {
             "colorbar": {
              "outlinewidth": 0,
              "ticks": ""
             }
            },
            "type": "scattergl"
           }
          ],
          "scattermapbox": [
           {
            "marker": {
             "colorbar": {
              "outlinewidth": 0,
              "ticks": ""
             }
            },
            "type": "scattermapbox"
           }
          ],
          "scatterpolar": [
           {
            "marker": {
             "colorbar": {
              "outlinewidth": 0,
              "ticks": ""
             }
            },
            "type": "scatterpolar"
           }
          ],
          "scatterpolargl": [
           {
            "marker": {
             "colorbar": {
              "outlinewidth": 0,
              "ticks": ""
             }
            },
            "type": "scatterpolargl"
           }
          ],
          "scatterternary": [
           {
            "marker": {
             "colorbar": {
              "outlinewidth": 0,
              "ticks": ""
             }
            },
            "type": "scatterternary"
           }
          ],
          "surface": [
           {
            "colorbar": {
             "outlinewidth": 0,
             "ticks": ""
            },
            "colorscale": [
             [
              0,
              "#0d0887"
             ],
             [
              0.1111111111111111,
              "#46039f"
             ],
             [
              0.2222222222222222,
              "#7201a8"
             ],
             [
              0.3333333333333333,
              "#9c179e"
             ],
             [
              0.4444444444444444,
              "#bd3786"
             ],
             [
              0.5555555555555556,
              "#d8576b"
             ],
             [
              0.6666666666666666,
              "#ed7953"
             ],
             [
              0.7777777777777778,
              "#fb9f3a"
             ],
             [
              0.8888888888888888,
              "#fdca26"
             ],
             [
              1,
              "#f0f921"
             ]
            ],
            "type": "surface"
           }
          ],
          "table": [
           {
            "cells": {
             "fill": {
              "color": "#EBF0F8"
             },
             "line": {
              "color": "white"
             }
            },
            "header": {
             "fill": {
              "color": "#C8D4E3"
             },
             "line": {
              "color": "white"
             }
            },
            "type": "table"
           }
          ]
         },
         "layout": {
          "annotationdefaults": {
           "arrowcolor": "#2a3f5f",
           "arrowhead": 0,
           "arrowwidth": 1
          },
          "autotypenumbers": "strict",
          "coloraxis": {
           "colorbar": {
            "outlinewidth": 0,
            "ticks": ""
           }
          },
          "colorscale": {
           "diverging": [
            [
             0,
             "#8e0152"
            ],
            [
             0.1,
             "#c51b7d"
            ],
            [
             0.2,
             "#de77ae"
            ],
            [
             0.3,
             "#f1b6da"
            ],
            [
             0.4,
             "#fde0ef"
            ],
            [
             0.5,
             "#f7f7f7"
            ],
            [
             0.6,
             "#e6f5d0"
            ],
            [
             0.7,
             "#b8e186"
            ],
            [
             0.8,
             "#7fbc41"
            ],
            [
             0.9,
             "#4d9221"
            ],
            [
             1,
             "#276419"
            ]
           ],
           "sequential": [
            [
             0,
             "#0d0887"
            ],
            [
             0.1111111111111111,
             "#46039f"
            ],
            [
             0.2222222222222222,
             "#7201a8"
            ],
            [
             0.3333333333333333,
             "#9c179e"
            ],
            [
             0.4444444444444444,
             "#bd3786"
            ],
            [
             0.5555555555555556,
             "#d8576b"
            ],
            [
             0.6666666666666666,
             "#ed7953"
            ],
            [
             0.7777777777777778,
             "#fb9f3a"
            ],
            [
             0.8888888888888888,
             "#fdca26"
            ],
            [
             1,
             "#f0f921"
            ]
           ],
           "sequentialminus": [
            [
             0,
             "#0d0887"
            ],
            [
             0.1111111111111111,
             "#46039f"
            ],
            [
             0.2222222222222222,
             "#7201a8"
            ],
            [
             0.3333333333333333,
             "#9c179e"
            ],
            [
             0.4444444444444444,
             "#bd3786"
            ],
            [
             0.5555555555555556,
             "#d8576b"
            ],
            [
             0.6666666666666666,
             "#ed7953"
            ],
            [
             0.7777777777777778,
             "#fb9f3a"
            ],
            [
             0.8888888888888888,
             "#fdca26"
            ],
            [
             1,
             "#f0f921"
            ]
           ]
          },
          "colorway": [
           "#636efa",
           "#EF553B",
           "#00cc96",
           "#ab63fa",
           "#FFA15A",
           "#19d3f3",
           "#FF6692",
           "#B6E880",
           "#FF97FF",
           "#FECB52"
          ],
          "font": {
           "color": "#2a3f5f"
          },
          "geo": {
           "bgcolor": "white",
           "lakecolor": "white",
           "landcolor": "#E5ECF6",
           "showlakes": true,
           "showland": true,
           "subunitcolor": "white"
          },
          "hoverlabel": {
           "align": "left"
          },
          "hovermode": "closest",
          "mapbox": {
           "style": "light"
          },
          "paper_bgcolor": "white",
          "plot_bgcolor": "#E5ECF6",
          "polar": {
           "angularaxis": {
            "gridcolor": "white",
            "linecolor": "white",
            "ticks": ""
           },
           "bgcolor": "#E5ECF6",
           "radialaxis": {
            "gridcolor": "white",
            "linecolor": "white",
            "ticks": ""
           }
          },
          "scene": {
           "xaxis": {
            "backgroundcolor": "#E5ECF6",
            "gridcolor": "white",
            "gridwidth": 2,
            "linecolor": "white",
            "showbackground": true,
            "ticks": "",
            "zerolinecolor": "white"
           },
           "yaxis": {
            "backgroundcolor": "#E5ECF6",
            "gridcolor": "white",
            "gridwidth": 2,
            "linecolor": "white",
            "showbackground": true,
            "ticks": "",
            "zerolinecolor": "white"
           },
           "zaxis": {
            "backgroundcolor": "#E5ECF6",
            "gridcolor": "white",
            "gridwidth": 2,
            "linecolor": "white",
            "showbackground": true,
            "ticks": "",
            "zerolinecolor": "white"
           }
          },
          "shapedefaults": {
           "line": {
            "color": "#2a3f5f"
           }
          },
          "ternary": {
           "aaxis": {
            "gridcolor": "white",
            "linecolor": "white",
            "ticks": ""
           },
           "baxis": {
            "gridcolor": "white",
            "linecolor": "white",
            "ticks": ""
           },
           "bgcolor": "#E5ECF6",
           "caxis": {
            "gridcolor": "white",
            "linecolor": "white",
            "ticks": ""
           }
          },
          "title": {
           "x": 0.05
          },
          "xaxis": {
           "automargin": true,
           "gridcolor": "white",
           "linecolor": "white",
           "ticks": "",
           "title": {
            "standoff": 15
           },
           "zerolinecolor": "white",
           "zerolinewidth": 2
          },
          "yaxis": {
           "automargin": true,
           "gridcolor": "white",
           "linecolor": "white",
           "ticks": "",
           "title": {
            "standoff": 15
           },
           "zerolinecolor": "white",
           "zerolinewidth": 2
          }
         }
        },
        "width": 500,
        "xaxis": {
         "autorange": false,
         "exponentformat": "e",
         "linecolor": "black",
         "linewidth": 1,
         "mirror": false,
         "range": [
          -0.4486764144897461,
          22.88249713897705
         ],
         "showexponent": "all",
         "showline": true,
         "side": "bottom",
         "ticks": "outside",
         "title": {
          "text": "Birth"
         },
         "type": "linear",
         "zeroline": true
        },
        "yaxis": {
         "autorange": false,
         "exponentformat": "e",
         "linecolor": "black",
         "linewidth": 1,
         "mirror": false,
         "range": [
          -0.4486764144897461,
          22.88249713897705
         ],
         "scaleanchor": "x",
         "scaleratio": 1,
         "showexponent": "all",
         "showline": true,
         "side": "left",
         "ticks": "outside",
         "title": {
          "text": "Death"
         },
         "type": "linear",
         "zeroline": true
        }
       }
      },
      "text/html": [
       "<div>                            <div id=\"f025d4ec-d485-4a10-b930-8a28eaa50047\" class=\"plotly-graph-div\" style=\"height:500px; width:500px;\"></div>            <script type=\"text/javascript\">                require([\"plotly\"], function(Plotly) {                    window.PLOTLYENV=window.PLOTLYENV || {};                                    if (document.getElementById(\"f025d4ec-d485-4a10-b930-8a28eaa50047\")) {                    Plotly.newPlot(                        \"f025d4ec-d485-4a10-b930-8a28eaa50047\",                        [{\"hoverinfo\":\"none\",\"line\":{\"color\":\"black\",\"dash\":\"dash\",\"width\":1},\"mode\":\"lines\",\"showlegend\":false,\"x\":[-0.4486764144897461,22.88249713897705],\"y\":[-0.4486764144897461,22.88249713897705],\"type\":\"scatter\"},{\"hoverinfo\":\"text\",\"hovertext\":[\"(0.0, 0.000806794676464051)\",\"(0.0, 0.0008354787132702768)\",\"(0.0, 0.002119983546435833)\",\"(0.0, 0.0025187828578054905)\",\"(0.0, 0.0026291413232684135)\",\"(0.0, 0.003775738412514329)\",\"(0.0, 0.00386056792922318)\",\"(0.0, 0.004168790299445391)\",\"(0.0, 0.005269073881208897)\",\"(0.0, 0.005338504910469055)\",\"(0.0, 0.009034101851284504)\",\"(0.0, 0.009909499436616898)\",\"(0.0, 0.013254674151539803)\",\"(0.0, 0.015086359344422817)\",\"(0.0, 0.017133714631199837)\",\"(0.0, 0.019495470449328423)\",\"(0.0, 0.020576750859618187)\",\"(0.0, 0.02654687687754631)\",\"(0.0, 0.027483725920319557)\",\"(0.0, 0.02763410657644272)\",\"(0.0, 0.02950214594602585)\",\"(0.0, 0.03342978656291962)\",\"(0.0, 0.03723367676138878)\",\"(0.0, 0.042224347591400146)\",\"(0.0, 0.054038554430007935)\",\"(0.0, 0.05807892233133316)\",\"(0.0, 0.06366029381752014)\",\"(0.0, 0.07617402076721191)\",\"(0.0, 0.1277742087841034)\",\"(0.0, 0.1286257654428482)\",\"(0.0, 0.14660969376564026)\",\"(0.0, 0.15148654580116272)\",\"(0.0, 0.18962791562080383)\",\"(0.0, 0.19124041497707367)\",\"(0.0, 0.19249121844768524)\",\"(0.0, 0.19791732728481293)\",\"(0.0, 0.2026972472667694)\",\"(0.0, 0.20507365465164185)\",\"(0.0, 0.22392268478870392)\",\"(0.0, 0.25554144382476807)\",\"(0.0, 0.25855007767677307)\",\"(0.0, 0.32121139764785767)\",\"(0.0, 0.39710718393325806)\",\"(0.0, 0.7806960940361023)\",\"(0.0, 0.9967188239097595)\",\"(0.0, 1.0037907361984253)\",\"(0.0, 1.02897047996521)\",\"(0.0, 1.120052695274353)\",\"(0.0, 1.1236119270324707)\",\"(0.0, 1.2407413721084595)\",\"(0.0, 1.4815095663070679)\",\"(0.0, 1.7752150297164917)\",\"(0.0, 1.8419554233551025)\",\"(0.0, 1.881105661392212)\",\"(0.0, 2.2872066497802734)\",\"(0.0, 2.3562963008880615)\",\"(0.0, 2.4848928451538086)\",\"(0.0, 2.5323684215545654)\",\"(0.0, 2.6161155700683594)\",\"(0.0, 2.7603683471679688)\",\"(0.0, 3.059476375579834)\",\"(0.0, 3.0781519412994385)\",\"(0.0, 3.169614791870117)\",\"(0.0, 3.1999382972717285)\",\"(0.0, 3.2452404499053955)\",\"(0.0, 3.445237874984741)\",\"(0.0, 3.522106409072876)\",\"(0.0, 3.5356035232543945)\",\"(0.0, 3.579059600830078)\",\"(0.0, 3.58945369720459)\",\"(0.0, 3.6497602462768555)\",\"(0.0, 3.793281316757202)\",\"(0.0, 3.848538875579834)\",\"(0.0, 3.9417502880096436)\",\"(0.0, 3.9828784465789795)\",\"(0.0, 4.003063678741455)\",\"(0.0, 4.140411376953125)\",\"(0.0, 4.197039604187012)\",\"(0.0, 4.237746715545654)\",\"(0.0, 4.244205951690674)\",\"(0.0, 4.522282600402832)\",\"(0.0, 4.646162033081055)\",\"(0.0, 4.80549430847168)\",\"(0.0, 5.040870189666748)\",\"(0.0, 5.101670742034912)\",\"(0.0, 5.2294020652771)\",\"(0.0, 5.248112201690674)\",\"(0.0, 5.422045707702637)\",\"(0.0, 5.478244781494141)\",\"(0.0, 5.485583782196045)\",\"(0.0, 5.780643463134766)\",\"(0.0, 6.210594654083252)\",\"(0.0, 7.325597763061523)\",\"(0.0, 8.112998008728027)\",\"(0.0, 8.910689353942871)\",\"(0.0, 11.412405014038086)\",\"(0.0, 11.418305397033691)\",\"(0.0, 22.433820724487305)\"],\"mode\":\"markers\",\"name\":\"H0\",\"x\":[0.0,0.0,0.0,0.0,0.0,0.0,0.0,0.0,0.0,0.0,0.0,0.0,0.0,0.0,0.0,0.0,0.0,0.0,0.0,0.0,0.0,0.0,0.0,0.0,0.0,0.0,0.0,0.0,0.0,0.0,0.0,0.0,0.0,0.0,0.0,0.0,0.0,0.0,0.0,0.0,0.0,0.0,0.0,0.0,0.0,0.0,0.0,0.0,0.0,0.0,0.0,0.0,0.0,0.0,0.0,0.0,0.0,0.0,0.0,0.0,0.0,0.0,0.0,0.0,0.0,0.0,0.0,0.0,0.0,0.0,0.0,0.0,0.0,0.0,0.0,0.0,0.0,0.0,0.0,0.0,0.0,0.0,0.0,0.0,0.0,0.0,0.0,0.0,0.0,0.0,0.0,0.0,0.0,0.0,0.0,0.0,0.0,0.0],\"y\":[0.000806794676464051,0.0008354787132702768,0.002119983546435833,0.0025187828578054905,0.0026291413232684135,0.003775738412514329,0.00386056792922318,0.004168790299445391,0.005269073881208897,0.005338504910469055,0.009034101851284504,0.009909499436616898,0.013254674151539803,0.015086359344422817,0.017133714631199837,0.019495470449328423,0.020576750859618187,0.02654687687754631,0.027483725920319557,0.02763410657644272,0.02950214594602585,0.03342978656291962,0.03723367676138878,0.042224347591400146,0.054038554430007935,0.05807892233133316,0.06366029381752014,0.07617402076721191,0.1277742087841034,0.1286257654428482,0.14660969376564026,0.15148654580116272,0.18962791562080383,0.19124041497707367,0.19249121844768524,0.19791732728481293,0.2026972472667694,0.20507365465164185,0.22392268478870392,0.25554144382476807,0.25855007767677307,0.32121139764785767,0.39710718393325806,0.7806960940361023,0.9967188239097595,1.0037907361984253,1.02897047996521,1.120052695274353,1.1236119270324707,1.2407413721084595,1.4815095663070679,1.7752150297164917,1.8419554233551025,1.881105661392212,2.2872066497802734,2.3562963008880615,2.4848928451538086,2.5323684215545654,2.6161155700683594,2.7603683471679688,3.059476375579834,3.0781519412994385,3.169614791870117,3.1999382972717285,3.2452404499053955,3.445237874984741,3.522106409072876,3.5356035232543945,3.579059600830078,3.58945369720459,3.6497602462768555,3.793281316757202,3.848538875579834,3.9417502880096436,3.9828784465789795,4.003063678741455,4.140411376953125,4.197039604187012,4.237746715545654,4.244205951690674,4.522282600402832,4.646162033081055,4.80549430847168,5.040870189666748,5.101670742034912,5.2294020652771,5.248112201690674,5.422045707702637,5.478244781494141,5.485583782196045,5.780643463134766,6.210594654083252,7.325597763061523,8.112998008728027,8.910689353942871,11.412405014038086,11.418305397033691,22.433820724487305],\"type\":\"scatter\"},{\"hoverinfo\":\"text\",\"hovertext\":[\"(7.720710754394531, 7.731745719909668)\",\"(7.233944416046143, 7.574927806854248)\",\"(6.43099308013916, 6.478196144104004)\",\"(6.367190361022949, 6.481915473937988)\",\"(6.083000659942627, 6.091084957122803)\",\"(5.838747501373291, 6.00835657119751)\",\"(5.669738292694092, 6.538571834564209)\",\"(5.492056369781494, 5.826280117034912)\",\"(4.756535530090332, 4.787863254547119)\",\"(4.521763324737549, 4.625274181365967)\",\"(4.475699424743652, 4.529694557189941)\",\"(4.453617095947266, 4.891277313232422)\",\"(4.170940399169922, 4.320282936096191)\",\"(3.7886741161346436, 3.9477834701538086)\",\"(3.5276477336883545, 3.5325465202331543)\",\"(3.5274956226348877, 3.534986972808838)\"],\"mode\":\"markers\",\"name\":\"H1\",\"x\":[7.720710754394531,7.233944416046143,6.43099308013916,6.367190361022949,6.083000659942627,5.838747501373291,5.669738292694092,5.492056369781494,4.756535530090332,4.521763324737549,4.475699424743652,4.453617095947266,4.170940399169922,3.7886741161346436,3.5276477336883545,3.5274956226348877],\"y\":[7.731745719909668,7.574927806854248,6.478196144104004,6.481915473937988,6.091084957122803,6.00835657119751,6.538571834564209,5.826280117034912,4.787863254547119,4.625274181365967,4.529694557189941,4.891277313232422,4.320282936096191,3.9477834701538086,3.5325465202331543,3.534986972808838],\"type\":\"scatter\"},{\"hoverinfo\":\"text\",\"hovertext\":[\"(7.768138885498047, 7.89643669128418)\",\"(5.273897171020508, 5.281866550445557)\",\"(5.27388334274292, 5.282896518707275)\"],\"mode\":\"markers\",\"name\":\"H2\",\"x\":[7.768138885498047,5.273897171020508,5.27388334274292],\"y\":[7.89643669128418,5.281866550445557,5.282896518707275],\"type\":\"scatter\"}],                        {\"template\":{\"data\":{\"bar\":[{\"error_x\":{\"color\":\"#2a3f5f\"},\"error_y\":{\"color\":\"#2a3f5f\"},\"marker\":{\"line\":{\"color\":\"#E5ECF6\",\"width\":0.5},\"pattern\":{\"fillmode\":\"overlay\",\"size\":10,\"solidity\":0.2}},\"type\":\"bar\"}],\"barpolar\":[{\"marker\":{\"line\":{\"color\":\"#E5ECF6\",\"width\":0.5},\"pattern\":{\"fillmode\":\"overlay\",\"size\":10,\"solidity\":0.2}},\"type\":\"barpolar\"}],\"carpet\":[{\"aaxis\":{\"endlinecolor\":\"#2a3f5f\",\"gridcolor\":\"white\",\"linecolor\":\"white\",\"minorgridcolor\":\"white\",\"startlinecolor\":\"#2a3f5f\"},\"baxis\":{\"endlinecolor\":\"#2a3f5f\",\"gridcolor\":\"white\",\"linecolor\":\"white\",\"minorgridcolor\":\"white\",\"startlinecolor\":\"#2a3f5f\"},\"type\":\"carpet\"}],\"choropleth\":[{\"colorbar\":{\"outlinewidth\":0,\"ticks\":\"\"},\"type\":\"choropleth\"}],\"contour\":[{\"colorbar\":{\"outlinewidth\":0,\"ticks\":\"\"},\"colorscale\":[[0.0,\"#0d0887\"],[0.1111111111111111,\"#46039f\"],[0.2222222222222222,\"#7201a8\"],[0.3333333333333333,\"#9c179e\"],[0.4444444444444444,\"#bd3786\"],[0.5555555555555556,\"#d8576b\"],[0.6666666666666666,\"#ed7953\"],[0.7777777777777778,\"#fb9f3a\"],[0.8888888888888888,\"#fdca26\"],[1.0,\"#f0f921\"]],\"type\":\"contour\"}],\"contourcarpet\":[{\"colorbar\":{\"outlinewidth\":0,\"ticks\":\"\"},\"type\":\"contourcarpet\"}],\"heatmap\":[{\"colorbar\":{\"outlinewidth\":0,\"ticks\":\"\"},\"colorscale\":[[0.0,\"#0d0887\"],[0.1111111111111111,\"#46039f\"],[0.2222222222222222,\"#7201a8\"],[0.3333333333333333,\"#9c179e\"],[0.4444444444444444,\"#bd3786\"],[0.5555555555555556,\"#d8576b\"],[0.6666666666666666,\"#ed7953\"],[0.7777777777777778,\"#fb9f3a\"],[0.8888888888888888,\"#fdca26\"],[1.0,\"#f0f921\"]],\"type\":\"heatmap\"}],\"heatmapgl\":[{\"colorbar\":{\"outlinewidth\":0,\"ticks\":\"\"},\"colorscale\":[[0.0,\"#0d0887\"],[0.1111111111111111,\"#46039f\"],[0.2222222222222222,\"#7201a8\"],[0.3333333333333333,\"#9c179e\"],[0.4444444444444444,\"#bd3786\"],[0.5555555555555556,\"#d8576b\"],[0.6666666666666666,\"#ed7953\"],[0.7777777777777778,\"#fb9f3a\"],[0.8888888888888888,\"#fdca26\"],[1.0,\"#f0f921\"]],\"type\":\"heatmapgl\"}],\"histogram\":[{\"marker\":{\"pattern\":{\"fillmode\":\"overlay\",\"size\":10,\"solidity\":0.2}},\"type\":\"histogram\"}],\"histogram2d\":[{\"colorbar\":{\"outlinewidth\":0,\"ticks\":\"\"},\"colorscale\":[[0.0,\"#0d0887\"],[0.1111111111111111,\"#46039f\"],[0.2222222222222222,\"#7201a8\"],[0.3333333333333333,\"#9c179e\"],[0.4444444444444444,\"#bd3786\"],[0.5555555555555556,\"#d8576b\"],[0.6666666666666666,\"#ed7953\"],[0.7777777777777778,\"#fb9f3a\"],[0.8888888888888888,\"#fdca26\"],[1.0,\"#f0f921\"]],\"type\":\"histogram2d\"}],\"histogram2dcontour\":[{\"colorbar\":{\"outlinewidth\":0,\"ticks\":\"\"},\"colorscale\":[[0.0,\"#0d0887\"],[0.1111111111111111,\"#46039f\"],[0.2222222222222222,\"#7201a8\"],[0.3333333333333333,\"#9c179e\"],[0.4444444444444444,\"#bd3786\"],[0.5555555555555556,\"#d8576b\"],[0.6666666666666666,\"#ed7953\"],[0.7777777777777778,\"#fb9f3a\"],[0.8888888888888888,\"#fdca26\"],[1.0,\"#f0f921\"]],\"type\":\"histogram2dcontour\"}],\"mesh3d\":[{\"colorbar\":{\"outlinewidth\":0,\"ticks\":\"\"},\"type\":\"mesh3d\"}],\"parcoords\":[{\"line\":{\"colorbar\":{\"outlinewidth\":0,\"ticks\":\"\"}},\"type\":\"parcoords\"}],\"pie\":[{\"automargin\":true,\"type\":\"pie\"}],\"scatter\":[{\"marker\":{\"colorbar\":{\"outlinewidth\":0,\"ticks\":\"\"}},\"type\":\"scatter\"}],\"scatter3d\":[{\"line\":{\"colorbar\":{\"outlinewidth\":0,\"ticks\":\"\"}},\"marker\":{\"colorbar\":{\"outlinewidth\":0,\"ticks\":\"\"}},\"type\":\"scatter3d\"}],\"scattercarpet\":[{\"marker\":{\"colorbar\":{\"outlinewidth\":0,\"ticks\":\"\"}},\"type\":\"scattercarpet\"}],\"scattergeo\":[{\"marker\":{\"colorbar\":{\"outlinewidth\":0,\"ticks\":\"\"}},\"type\":\"scattergeo\"}],\"scattergl\":[{\"marker\":{\"colorbar\":{\"outlinewidth\":0,\"ticks\":\"\"}},\"type\":\"scattergl\"}],\"scattermapbox\":[{\"marker\":{\"colorbar\":{\"outlinewidth\":0,\"ticks\":\"\"}},\"type\":\"scattermapbox\"}],\"scatterpolar\":[{\"marker\":{\"colorbar\":{\"outlinewidth\":0,\"ticks\":\"\"}},\"type\":\"scatterpolar\"}],\"scatterpolargl\":[{\"marker\":{\"colorbar\":{\"outlinewidth\":0,\"ticks\":\"\"}},\"type\":\"scatterpolargl\"}],\"scatterternary\":[{\"marker\":{\"colorbar\":{\"outlinewidth\":0,\"ticks\":\"\"}},\"type\":\"scatterternary\"}],\"surface\":[{\"colorbar\":{\"outlinewidth\":0,\"ticks\":\"\"},\"colorscale\":[[0.0,\"#0d0887\"],[0.1111111111111111,\"#46039f\"],[0.2222222222222222,\"#7201a8\"],[0.3333333333333333,\"#9c179e\"],[0.4444444444444444,\"#bd3786\"],[0.5555555555555556,\"#d8576b\"],[0.6666666666666666,\"#ed7953\"],[0.7777777777777778,\"#fb9f3a\"],[0.8888888888888888,\"#fdca26\"],[1.0,\"#f0f921\"]],\"type\":\"surface\"}],\"table\":[{\"cells\":{\"fill\":{\"color\":\"#EBF0F8\"},\"line\":{\"color\":\"white\"}},\"header\":{\"fill\":{\"color\":\"#C8D4E3\"},\"line\":{\"color\":\"white\"}},\"type\":\"table\"}]},\"layout\":{\"annotationdefaults\":{\"arrowcolor\":\"#2a3f5f\",\"arrowhead\":0,\"arrowwidth\":1},\"autotypenumbers\":\"strict\",\"coloraxis\":{\"colorbar\":{\"outlinewidth\":0,\"ticks\":\"\"}},\"colorscale\":{\"diverging\":[[0,\"#8e0152\"],[0.1,\"#c51b7d\"],[0.2,\"#de77ae\"],[0.3,\"#f1b6da\"],[0.4,\"#fde0ef\"],[0.5,\"#f7f7f7\"],[0.6,\"#e6f5d0\"],[0.7,\"#b8e186\"],[0.8,\"#7fbc41\"],[0.9,\"#4d9221\"],[1,\"#276419\"]],\"sequential\":[[0.0,\"#0d0887\"],[0.1111111111111111,\"#46039f\"],[0.2222222222222222,\"#7201a8\"],[0.3333333333333333,\"#9c179e\"],[0.4444444444444444,\"#bd3786\"],[0.5555555555555556,\"#d8576b\"],[0.6666666666666666,\"#ed7953\"],[0.7777777777777778,\"#fb9f3a\"],[0.8888888888888888,\"#fdca26\"],[1.0,\"#f0f921\"]],\"sequentialminus\":[[0.0,\"#0d0887\"],[0.1111111111111111,\"#46039f\"],[0.2222222222222222,\"#7201a8\"],[0.3333333333333333,\"#9c179e\"],[0.4444444444444444,\"#bd3786\"],[0.5555555555555556,\"#d8576b\"],[0.6666666666666666,\"#ed7953\"],[0.7777777777777778,\"#fb9f3a\"],[0.8888888888888888,\"#fdca26\"],[1.0,\"#f0f921\"]]},\"colorway\":[\"#636efa\",\"#EF553B\",\"#00cc96\",\"#ab63fa\",\"#FFA15A\",\"#19d3f3\",\"#FF6692\",\"#B6E880\",\"#FF97FF\",\"#FECB52\"],\"font\":{\"color\":\"#2a3f5f\"},\"geo\":{\"bgcolor\":\"white\",\"lakecolor\":\"white\",\"landcolor\":\"#E5ECF6\",\"showlakes\":true,\"showland\":true,\"subunitcolor\":\"white\"},\"hoverlabel\":{\"align\":\"left\"},\"hovermode\":\"closest\",\"mapbox\":{\"style\":\"light\"},\"paper_bgcolor\":\"white\",\"plot_bgcolor\":\"#E5ECF6\",\"polar\":{\"angularaxis\":{\"gridcolor\":\"white\",\"linecolor\":\"white\",\"ticks\":\"\"},\"bgcolor\":\"#E5ECF6\",\"radialaxis\":{\"gridcolor\":\"white\",\"linecolor\":\"white\",\"ticks\":\"\"}},\"scene\":{\"xaxis\":{\"backgroundcolor\":\"#E5ECF6\",\"gridcolor\":\"white\",\"gridwidth\":2,\"linecolor\":\"white\",\"showbackground\":true,\"ticks\":\"\",\"zerolinecolor\":\"white\"},\"yaxis\":{\"backgroundcolor\":\"#E5ECF6\",\"gridcolor\":\"white\",\"gridwidth\":2,\"linecolor\":\"white\",\"showbackground\":true,\"ticks\":\"\",\"zerolinecolor\":\"white\"},\"zaxis\":{\"backgroundcolor\":\"#E5ECF6\",\"gridcolor\":\"white\",\"gridwidth\":2,\"linecolor\":\"white\",\"showbackground\":true,\"ticks\":\"\",\"zerolinecolor\":\"white\"}},\"shapedefaults\":{\"line\":{\"color\":\"#2a3f5f\"}},\"ternary\":{\"aaxis\":{\"gridcolor\":\"white\",\"linecolor\":\"white\",\"ticks\":\"\"},\"baxis\":{\"gridcolor\":\"white\",\"linecolor\":\"white\",\"ticks\":\"\"},\"bgcolor\":\"#E5ECF6\",\"caxis\":{\"gridcolor\":\"white\",\"linecolor\":\"white\",\"ticks\":\"\"}},\"title\":{\"x\":0.05},\"xaxis\":{\"automargin\":true,\"gridcolor\":\"white\",\"linecolor\":\"white\",\"ticks\":\"\",\"title\":{\"standoff\":15},\"zerolinecolor\":\"white\",\"zerolinewidth\":2},\"yaxis\":{\"automargin\":true,\"gridcolor\":\"white\",\"linecolor\":\"white\",\"ticks\":\"\",\"title\":{\"standoff\":15},\"zerolinecolor\":\"white\",\"zerolinewidth\":2}}},\"xaxis\":{\"title\":{\"text\":\"Birth\"},\"side\":\"bottom\",\"type\":\"linear\",\"range\":[-0.4486764144897461,22.88249713897705],\"autorange\":false,\"ticks\":\"outside\",\"showline\":true,\"zeroline\":true,\"linewidth\":1,\"linecolor\":\"black\",\"mirror\":false,\"showexponent\":\"all\",\"exponentformat\":\"e\"},\"yaxis\":{\"title\":{\"text\":\"Death\"},\"side\":\"left\",\"type\":\"linear\",\"range\":[-0.4486764144897461,22.88249713897705],\"autorange\":false,\"scaleanchor\":\"x\",\"scaleratio\":1,\"ticks\":\"outside\",\"showline\":true,\"zeroline\":true,\"linewidth\":1,\"linecolor\":\"black\",\"mirror\":false,\"showexponent\":\"all\",\"exponentformat\":\"e\"},\"width\":500,\"height\":500,\"plot_bgcolor\":\"white\"},                        {\"responsive\": true}                    ).then(function(){\n",
       "                            \n",
       "var gd = document.getElementById('f025d4ec-d485-4a10-b930-8a28eaa50047');\n",
       "var x = new MutationObserver(function (mutations, observer) {{\n",
       "        var display = window.getComputedStyle(gd).display;\n",
       "        if (!display || display === 'none') {{\n",
       "            console.log([gd, 'removed!']);\n",
       "            Plotly.purge(gd);\n",
       "            observer.disconnect();\n",
       "        }}\n",
       "}});\n",
       "\n",
       "// Listen for the removal of the full notebook cells\n",
       "var notebookContainer = gd.closest('#notebook-container');\n",
       "if (notebookContainer) {{\n",
       "    x.observe(notebookContainer, {childList: true});\n",
       "}}\n",
       "\n",
       "// Listen for the clearing of the current output cell\n",
       "var outputEl = gd.closest('.output');\n",
       "if (outputEl) {{\n",
       "    x.observe(outputEl, {childList: true});\n",
       "}}\n",
       "\n",
       "                        })                };                });            </script>        </div>"
      ]
     },
     "metadata": {},
     "output_type": "display_data"
    }
   ],
   "source": [
    "plot_diagram(traffic_dataset_1['n_100_TDA_0_1_2'].persistence[200])"
   ]
  },
  {
   "cell_type": "code",
   "execution_count": 50,
   "metadata": {},
   "outputs": [],
   "source": [
    "from gtda.diagrams.preprocessing import Scaler"
   ]
  },
  {
   "cell_type": "code",
   "execution_count": 51,
   "metadata": {},
   "outputs": [],
   "source": [
    "s = Scaler()"
   ]
  },
  {
   "cell_type": "code",
   "execution_count": 52,
   "metadata": {},
   "outputs": [],
   "source": [
    "new_persistence = s.fit_transform(traffic_dataset_1['n_100_TDA_0_1_2'].persistence)"
   ]
  },
  {
   "cell_type": "code",
   "execution_count": 57,
   "metadata": {},
   "outputs": [
    {
     "data": {
      "application/vnd.plotly.v1+json": {
       "config": {
        "plotlyServerURL": "https://plot.ly"
       },
       "data": [
        {
         "hoverinfo": "none",
         "line": {
          "color": "black",
          "dash": "dash",
          "width": 1
         },
         "mode": "lines",
         "showlegend": false,
         "type": "scatter",
         "x": [
          -0.0029644613107190736,
          0.15118752684667275
         ],
         "y": [
          -0.0029644613107190736,
          0.15118752684667275
         ]
        },
        {
         "hoverinfo": "text",
         "hovertext": [
          "(0.0, 5.497501073556185e-06)",
          "(0.0, 2.797903466900987e-05)",
          "(0.0, 5.3092035068739124e-05)",
          "(0.0, 5.845369621934823e-05)",
          "(0.0, 6.309808856752508e-05)",
          "(0.0, 6.346598552177369e-05)",
          "(0.0, 9.513526300159868e-05)",
          "(0.0, 0.00010077643489342331)",
          "(0.0, 0.0001055035436637972)",
          "(0.0, 0.00016879491194315586)",
          "(0.0, 0.00018824800693163145)",
          "(0.0, 0.00019561996655200446)",
          "(0.0, 0.00021647687712081438)",
          "(0.0, 0.00022295485708936474)",
          "(0.0, 0.0002271107711421792)",
          "(0.0, 0.00023249450516270976)",
          "(0.0, 0.00024350755993331742)",
          "(0.0, 0.0002460184104635574)",
          "(0.0, 0.00024872831470314905)",
          "(0.0, 0.0002964026064796761)",
          "(0.0, 0.0003362829963069455)",
          "(0.0, 0.00034568581153344703)",
          "(0.0, 0.00035725176801225004)",
          "(0.0, 0.0004169848191402468)",
          "(0.0, 0.000456446942292507)",
          "(0.0, 0.0005057873283947096)",
          "(0.0, 0.0005464886395163622)",
          "(0.0, 0.0006719858455950115)",
          "(0.0, 0.0006827824915070417)",
          "(0.0, 0.000725317537085756)",
          "(0.0, 0.0007323460693754887)",
          "(0.0, 0.0007714963303484296)",
          "(0.0, 0.0009656126892120514)",
          "(0.0, 0.0010835442628151029)",
          "(0.0, 0.0013051749750692145)",
          "(0.0, 0.001321813182322618)",
          "(0.0, 0.0014761413837459038)",
          "(0.0, 0.0019457182164011586)",
          "(0.0, 0.001954938120480689)",
          "(0.0, 0.0019676204147241025)",
          "(0.0, 0.0021104184309805266)",
          "(0.0, 0.0026018218268542394)",
          "(0.0, 0.0030537805305115955)",
          "(0.0, 0.0037551192385148623)",
          "(0.0, 0.00390628546816523)",
          "(0.0, 0.004080513583882878)",
          "(0.0, 0.0051045710643796306)",
          "(0.0, 0.005328089622778784)",
          "(0.0, 0.0055308165608320865)",
          "(0.0, 0.005587033905868339)",
          "(0.0, 0.00811632576000093)",
          "(0.0, 0.011487694911209542)",
          "(0.0, 0.011757386351510496)",
          "(0.0, 0.015056521098041042)",
          "(0.0, 0.015672975998541016)",
          "(0.0, 0.016440709596121275)",
          "(0.0, 0.016489644750857055)",
          "(0.0, 0.017266327239356883)",
          "(0.0, 0.01761040360710634)",
          "(0.0, 0.01783917751689376)",
          "(0.0, 0.018052047137615997)",
          "(0.0, 0.01833087178203703)",
          "(0.0, 0.01979334609944764)",
          "(0.0, 0.022862725953432785)",
          "(0.0, 0.023089928350668476)",
          "(0.0, 0.02310413501815)",
          "(0.0, 0.023169541952594644)",
          "(0.0, 0.024404590756790003)",
          "(0.0, 0.025044526188965653)",
          "(0.0, 0.0265156098729791)",
          "(0.0, 0.027968279213157247)",
          "(0.0, 0.02864401748453224)",
          "(0.0, 0.029928942410855464)",
          "(0.0, 0.030941115327679767)",
          "(0.0, 0.03177564669681643)",
          "(0.0, 0.03199461077902399)",
          "(0.0, 0.032457348470297444)",
          "(0.0, 0.03296870361855316)",
          "(0.0, 0.03352004503062509)",
          "(0.0, 0.03396159640453449)",
          "(0.0, 0.03538696071412634)",
          "(0.0, 0.038287419945016464)",
          "(0.0, 0.03834337355241382)",
          "(0.0, 0.040292585079943426)",
          "(0.0, 0.04282252384915808)",
          "(0.0, 0.043918770262326184)",
          "(0.0, 0.048899771451631366)",
          "(0.0, 0.050329770268146605)",
          "(0.0, 0.05287881698087217)",
          "(0.0, 0.05372776843277516)",
          "(0.0, 0.05548084403805)",
          "(0.0, 0.07168161058695023)",
          "(0.0, 0.07605813723378868)",
          "(0.0, 0.07786578894780444)",
          "(0.0, 0.09008638468687127)",
          "(0.0, 0.10698279290762805)",
          "(0.0, 0.10982432041782833)",
          "(0.0, 0.13939985681774528)",
          "(0.0, 0.14822306553595369)"
         ],
         "mode": "markers",
         "name": "H0",
         "type": "scatter",
         "x": [
          0,
          0,
          0,
          0,
          0,
          0,
          0,
          0,
          0,
          0,
          0,
          0,
          0,
          0,
          0,
          0,
          0,
          0,
          0,
          0,
          0,
          0,
          0,
          0,
          0,
          0,
          0,
          0,
          0,
          0,
          0,
          0,
          0,
          0,
          0,
          0,
          0,
          0,
          0,
          0,
          0,
          0,
          0,
          0,
          0,
          0,
          0,
          0,
          0,
          0,
          0,
          0,
          0,
          0,
          0,
          0,
          0,
          0,
          0,
          0,
          0,
          0,
          0,
          0,
          0,
          0,
          0,
          0,
          0,
          0,
          0,
          0,
          0,
          0,
          0,
          0,
          0,
          0,
          0,
          0,
          0,
          0,
          0,
          0,
          0,
          0,
          0,
          0,
          0,
          0,
          0,
          0,
          0,
          0,
          0,
          0,
          0,
          0,
          0
         ],
         "y": [
          0.000005497501073556185,
          0.00002797903466900987,
          0.000053092035068739124,
          0.00005845369621934823,
          0.00006309808856752508,
          0.00006346598552177369,
          0.00009513526300159868,
          0.00010077643489342331,
          0.0001055035436637972,
          0.00016879491194315586,
          0.00018824800693163145,
          0.00019561996655200446,
          0.00021647687712081438,
          0.00022295485708936474,
          0.0002271107711421792,
          0.00023249450516270976,
          0.00024350755993331742,
          0.0002460184104635574,
          0.00024872831470314905,
          0.0002964026064796761,
          0.0003362829963069455,
          0.00034568581153344703,
          0.00035725176801225004,
          0.0004169848191402468,
          0.000456446942292507,
          0.0005057873283947096,
          0.0005464886395163622,
          0.0006719858455950115,
          0.0006827824915070417,
          0.000725317537085756,
          0.0007323460693754887,
          0.0007714963303484296,
          0.0009656126892120514,
          0.0010835442628151029,
          0.0013051749750692145,
          0.001321813182322618,
          0.0014761413837459038,
          0.0019457182164011586,
          0.001954938120480689,
          0.0019676204147241025,
          0.0021104184309805266,
          0.0026018218268542394,
          0.0030537805305115955,
          0.0037551192385148623,
          0.00390628546816523,
          0.004080513583882878,
          0.0051045710643796306,
          0.005328089622778784,
          0.0055308165608320865,
          0.005587033905868339,
          0.00811632576000093,
          0.011487694911209542,
          0.011757386351510496,
          0.015056521098041042,
          0.015672975998541016,
          0.016440709596121275,
          0.016489644750857055,
          0.017266327239356883,
          0.01761040360710634,
          0.01783917751689376,
          0.018052047137615997,
          0.01833087178203703,
          0.01979334609944764,
          0.022862725953432785,
          0.023089928350668476,
          0.02310413501815,
          0.023169541952594644,
          0.024404590756790003,
          0.025044526188965653,
          0.0265156098729791,
          0.027968279213157247,
          0.02864401748453224,
          0.029928942410855464,
          0.030941115327679767,
          0.03177564669681643,
          0.03199461077902399,
          0.032457348470297444,
          0.03296870361855316,
          0.03352004503062509,
          0.03396159640453449,
          0.03538696071412634,
          0.038287419945016464,
          0.03834337355241382,
          0.040292585079943426,
          0.04282252384915808,
          0.043918770262326184,
          0.048899771451631366,
          0.050329770268146605,
          0.05287881698087217,
          0.05372776843277516,
          0.05548084403805,
          0.07168161058695023,
          0.07605813723378868,
          0.07786578894780444,
          0.09008638468687127,
          0.10698279290762805,
          0.10982432041782833,
          0.13939985681774528,
          0.14822306553595369
         ]
        },
        {
         "hoverinfo": "text",
         "hovertext": [
          "(0.05782090868347991, 0.06157966598567789)",
          "(0.05386036722950098, 0.05775801907932646)",
          "(0.05069318254573393, 0.05699926468733691)",
          "(0.047772633175988066, 0.047970653458200674)",
          "(0.04512080760224047, 0.0493403236539801)",
          "(0.03845867843554955, 0.04735922836793571)",
          "(0.03587660328232708, 0.03590774978803982)",
          "(0.031839081965050336, 0.038400925349273515)"
         ],
         "mode": "markers",
         "name": "H1",
         "type": "scatter",
         "x": [
          0.05782090868347991,
          0.05386036722950098,
          0.05069318254573393,
          0.047772633175988066,
          0.04512080760224047,
          0.03845867843554955,
          0.03587660328232708,
          0.031839081965050336
         ],
         "y": [
          0.06157966598567789,
          0.05775801907932646,
          0.05699926468733691,
          0.047970653458200674,
          0.0493403236539801,
          0.04735922836793571,
          0.03590774978803982,
          0.038400925349273515
         ]
        },
        {
         "hoverinfo": "text",
         "hovertext": [
          "(0.05068086266338395, 0.05555857085484463)"
         ],
         "mode": "markers",
         "name": "H2",
         "type": "scatter",
         "x": [
          0.05068086266338395
         ],
         "y": [
          0.05555857085484463
         ]
        }
       ],
       "layout": {
        "height": 500,
        "plot_bgcolor": "white",
        "template": {
         "data": {
          "bar": [
           {
            "error_x": {
             "color": "#2a3f5f"
            },
            "error_y": {
             "color": "#2a3f5f"
            },
            "marker": {
             "line": {
              "color": "#E5ECF6",
              "width": 0.5
             },
             "pattern": {
              "fillmode": "overlay",
              "size": 10,
              "solidity": 0.2
             }
            },
            "type": "bar"
           }
          ],
          "barpolar": [
           {
            "marker": {
             "line": {
              "color": "#E5ECF6",
              "width": 0.5
             },
             "pattern": {
              "fillmode": "overlay",
              "size": 10,
              "solidity": 0.2
             }
            },
            "type": "barpolar"
           }
          ],
          "carpet": [
           {
            "aaxis": {
             "endlinecolor": "#2a3f5f",
             "gridcolor": "white",
             "linecolor": "white",
             "minorgridcolor": "white",
             "startlinecolor": "#2a3f5f"
            },
            "baxis": {
             "endlinecolor": "#2a3f5f",
             "gridcolor": "white",
             "linecolor": "white",
             "minorgridcolor": "white",
             "startlinecolor": "#2a3f5f"
            },
            "type": "carpet"
           }
          ],
          "choropleth": [
           {
            "colorbar": {
             "outlinewidth": 0,
             "ticks": ""
            },
            "type": "choropleth"
           }
          ],
          "contour": [
           {
            "colorbar": {
             "outlinewidth": 0,
             "ticks": ""
            },
            "colorscale": [
             [
              0,
              "#0d0887"
             ],
             [
              0.1111111111111111,
              "#46039f"
             ],
             [
              0.2222222222222222,
              "#7201a8"
             ],
             [
              0.3333333333333333,
              "#9c179e"
             ],
             [
              0.4444444444444444,
              "#bd3786"
             ],
             [
              0.5555555555555556,
              "#d8576b"
             ],
             [
              0.6666666666666666,
              "#ed7953"
             ],
             [
              0.7777777777777778,
              "#fb9f3a"
             ],
             [
              0.8888888888888888,
              "#fdca26"
             ],
             [
              1,
              "#f0f921"
             ]
            ],
            "type": "contour"
           }
          ],
          "contourcarpet": [
           {
            "colorbar": {
             "outlinewidth": 0,
             "ticks": ""
            },
            "type": "contourcarpet"
           }
          ],
          "heatmap": [
           {
            "colorbar": {
             "outlinewidth": 0,
             "ticks": ""
            },
            "colorscale": [
             [
              0,
              "#0d0887"
             ],
             [
              0.1111111111111111,
              "#46039f"
             ],
             [
              0.2222222222222222,
              "#7201a8"
             ],
             [
              0.3333333333333333,
              "#9c179e"
             ],
             [
              0.4444444444444444,
              "#bd3786"
             ],
             [
              0.5555555555555556,
              "#d8576b"
             ],
             [
              0.6666666666666666,
              "#ed7953"
             ],
             [
              0.7777777777777778,
              "#fb9f3a"
             ],
             [
              0.8888888888888888,
              "#fdca26"
             ],
             [
              1,
              "#f0f921"
             ]
            ],
            "type": "heatmap"
           }
          ],
          "heatmapgl": [
           {
            "colorbar": {
             "outlinewidth": 0,
             "ticks": ""
            },
            "colorscale": [
             [
              0,
              "#0d0887"
             ],
             [
              0.1111111111111111,
              "#46039f"
             ],
             [
              0.2222222222222222,
              "#7201a8"
             ],
             [
              0.3333333333333333,
              "#9c179e"
             ],
             [
              0.4444444444444444,
              "#bd3786"
             ],
             [
              0.5555555555555556,
              "#d8576b"
             ],
             [
              0.6666666666666666,
              "#ed7953"
             ],
             [
              0.7777777777777778,
              "#fb9f3a"
             ],
             [
              0.8888888888888888,
              "#fdca26"
             ],
             [
              1,
              "#f0f921"
             ]
            ],
            "type": "heatmapgl"
           }
          ],
          "histogram": [
           {
            "marker": {
             "pattern": {
              "fillmode": "overlay",
              "size": 10,
              "solidity": 0.2
             }
            },
            "type": "histogram"
           }
          ],
          "histogram2d": [
           {
            "colorbar": {
             "outlinewidth": 0,
             "ticks": ""
            },
            "colorscale": [
             [
              0,
              "#0d0887"
             ],
             [
              0.1111111111111111,
              "#46039f"
             ],
             [
              0.2222222222222222,
              "#7201a8"
             ],
             [
              0.3333333333333333,
              "#9c179e"
             ],
             [
              0.4444444444444444,
              "#bd3786"
             ],
             [
              0.5555555555555556,
              "#d8576b"
             ],
             [
              0.6666666666666666,
              "#ed7953"
             ],
             [
              0.7777777777777778,
              "#fb9f3a"
             ],
             [
              0.8888888888888888,
              "#fdca26"
             ],
             [
              1,
              "#f0f921"
             ]
            ],
            "type": "histogram2d"
           }
          ],
          "histogram2dcontour": [
           {
            "colorbar": {
             "outlinewidth": 0,
             "ticks": ""
            },
            "colorscale": [
             [
              0,
              "#0d0887"
             ],
             [
              0.1111111111111111,
              "#46039f"
             ],
             [
              0.2222222222222222,
              "#7201a8"
             ],
             [
              0.3333333333333333,
              "#9c179e"
             ],
             [
              0.4444444444444444,
              "#bd3786"
             ],
             [
              0.5555555555555556,
              "#d8576b"
             ],
             [
              0.6666666666666666,
              "#ed7953"
             ],
             [
              0.7777777777777778,
              "#fb9f3a"
             ],
             [
              0.8888888888888888,
              "#fdca26"
             ],
             [
              1,
              "#f0f921"
             ]
            ],
            "type": "histogram2dcontour"
           }
          ],
          "mesh3d": [
           {
            "colorbar": {
             "outlinewidth": 0,
             "ticks": ""
            },
            "type": "mesh3d"
           }
          ],
          "parcoords": [
           {
            "line": {
             "colorbar": {
              "outlinewidth": 0,
              "ticks": ""
             }
            },
            "type": "parcoords"
           }
          ],
          "pie": [
           {
            "automargin": true,
            "type": "pie"
           }
          ],
          "scatter": [
           {
            "marker": {
             "colorbar": {
              "outlinewidth": 0,
              "ticks": ""
             }
            },
            "type": "scatter"
           }
          ],
          "scatter3d": [
           {
            "line": {
             "colorbar": {
              "outlinewidth": 0,
              "ticks": ""
             }
            },
            "marker": {
             "colorbar": {
              "outlinewidth": 0,
              "ticks": ""
             }
            },
            "type": "scatter3d"
           }
          ],
          "scattercarpet": [
           {
            "marker": {
             "colorbar": {
              "outlinewidth": 0,
              "ticks": ""
             }
            },
            "type": "scattercarpet"
           }
          ],
          "scattergeo": [
           {
            "marker": {
             "colorbar": {
              "outlinewidth": 0,
              "ticks": ""
             }
            },
            "type": "scattergeo"
           }
          ],
          "scattergl": [
           {
            "marker": {
             "colorbar": {
              "outlinewidth": 0,
              "ticks": ""
             }
            },
            "type": "scattergl"
           }
          ],
          "scattermapbox": [
           {
            "marker": {
             "colorbar": {
              "outlinewidth": 0,
              "ticks": ""
             }
            },
            "type": "scattermapbox"
           }
          ],
          "scatterpolar": [
           {
            "marker": {
             "colorbar": {
              "outlinewidth": 0,
              "ticks": ""
             }
            },
            "type": "scatterpolar"
           }
          ],
          "scatterpolargl": [
           {
            "marker": {
             "colorbar": {
              "outlinewidth": 0,
              "ticks": ""
             }
            },
            "type": "scatterpolargl"
           }
          ],
          "scatterternary": [
           {
            "marker": {
             "colorbar": {
              "outlinewidth": 0,
              "ticks": ""
             }
            },
            "type": "scatterternary"
           }
          ],
          "surface": [
           {
            "colorbar": {
             "outlinewidth": 0,
             "ticks": ""
            },
            "colorscale": [
             [
              0,
              "#0d0887"
             ],
             [
              0.1111111111111111,
              "#46039f"
             ],
             [
              0.2222222222222222,
              "#7201a8"
             ],
             [
              0.3333333333333333,
              "#9c179e"
             ],
             [
              0.4444444444444444,
              "#bd3786"
             ],
             [
              0.5555555555555556,
              "#d8576b"
             ],
             [
              0.6666666666666666,
              "#ed7953"
             ],
             [
              0.7777777777777778,
              "#fb9f3a"
             ],
             [
              0.8888888888888888,
              "#fdca26"
             ],
             [
              1,
              "#f0f921"
             ]
            ],
            "type": "surface"
           }
          ],
          "table": [
           {
            "cells": {
             "fill": {
              "color": "#EBF0F8"
             },
             "line": {
              "color": "white"
             }
            },
            "header": {
             "fill": {
              "color": "#C8D4E3"
             },
             "line": {
              "color": "white"
             }
            },
            "type": "table"
           }
          ]
         },
         "layout": {
          "annotationdefaults": {
           "arrowcolor": "#2a3f5f",
           "arrowhead": 0,
           "arrowwidth": 1
          },
          "autotypenumbers": "strict",
          "coloraxis": {
           "colorbar": {
            "outlinewidth": 0,
            "ticks": ""
           }
          },
          "colorscale": {
           "diverging": [
            [
             0,
             "#8e0152"
            ],
            [
             0.1,
             "#c51b7d"
            ],
            [
             0.2,
             "#de77ae"
            ],
            [
             0.3,
             "#f1b6da"
            ],
            [
             0.4,
             "#fde0ef"
            ],
            [
             0.5,
             "#f7f7f7"
            ],
            [
             0.6,
             "#e6f5d0"
            ],
            [
             0.7,
             "#b8e186"
            ],
            [
             0.8,
             "#7fbc41"
            ],
            [
             0.9,
             "#4d9221"
            ],
            [
             1,
             "#276419"
            ]
           ],
           "sequential": [
            [
             0,
             "#0d0887"
            ],
            [
             0.1111111111111111,
             "#46039f"
            ],
            [
             0.2222222222222222,
             "#7201a8"
            ],
            [
             0.3333333333333333,
             "#9c179e"
            ],
            [
             0.4444444444444444,
             "#bd3786"
            ],
            [
             0.5555555555555556,
             "#d8576b"
            ],
            [
             0.6666666666666666,
             "#ed7953"
            ],
            [
             0.7777777777777778,
             "#fb9f3a"
            ],
            [
             0.8888888888888888,
             "#fdca26"
            ],
            [
             1,
             "#f0f921"
            ]
           ],
           "sequentialminus": [
            [
             0,
             "#0d0887"
            ],
            [
             0.1111111111111111,
             "#46039f"
            ],
            [
             0.2222222222222222,
             "#7201a8"
            ],
            [
             0.3333333333333333,
             "#9c179e"
            ],
            [
             0.4444444444444444,
             "#bd3786"
            ],
            [
             0.5555555555555556,
             "#d8576b"
            ],
            [
             0.6666666666666666,
             "#ed7953"
            ],
            [
             0.7777777777777778,
             "#fb9f3a"
            ],
            [
             0.8888888888888888,
             "#fdca26"
            ],
            [
             1,
             "#f0f921"
            ]
           ]
          },
          "colorway": [
           "#636efa",
           "#EF553B",
           "#00cc96",
           "#ab63fa",
           "#FFA15A",
           "#19d3f3",
           "#FF6692",
           "#B6E880",
           "#FF97FF",
           "#FECB52"
          ],
          "font": {
           "color": "#2a3f5f"
          },
          "geo": {
           "bgcolor": "white",
           "lakecolor": "white",
           "landcolor": "#E5ECF6",
           "showlakes": true,
           "showland": true,
           "subunitcolor": "white"
          },
          "hoverlabel": {
           "align": "left"
          },
          "hovermode": "closest",
          "mapbox": {
           "style": "light"
          },
          "paper_bgcolor": "white",
          "plot_bgcolor": "#E5ECF6",
          "polar": {
           "angularaxis": {
            "gridcolor": "white",
            "linecolor": "white",
            "ticks": ""
           },
           "bgcolor": "#E5ECF6",
           "radialaxis": {
            "gridcolor": "white",
            "linecolor": "white",
            "ticks": ""
           }
          },
          "scene": {
           "xaxis": {
            "backgroundcolor": "#E5ECF6",
            "gridcolor": "white",
            "gridwidth": 2,
            "linecolor": "white",
            "showbackground": true,
            "ticks": "",
            "zerolinecolor": "white"
           },
           "yaxis": {
            "backgroundcolor": "#E5ECF6",
            "gridcolor": "white",
            "gridwidth": 2,
            "linecolor": "white",
            "showbackground": true,
            "ticks": "",
            "zerolinecolor": "white"
           },
           "zaxis": {
            "backgroundcolor": "#E5ECF6",
            "gridcolor": "white",
            "gridwidth": 2,
            "linecolor": "white",
            "showbackground": true,
            "ticks": "",
            "zerolinecolor": "white"
           }
          },
          "shapedefaults": {
           "line": {
            "color": "#2a3f5f"
           }
          },
          "ternary": {
           "aaxis": {
            "gridcolor": "white",
            "linecolor": "white",
            "ticks": ""
           },
           "baxis": {
            "gridcolor": "white",
            "linecolor": "white",
            "ticks": ""
           },
           "bgcolor": "#E5ECF6",
           "caxis": {
            "gridcolor": "white",
            "linecolor": "white",
            "ticks": ""
           }
          },
          "title": {
           "x": 0.05
          },
          "xaxis": {
           "automargin": true,
           "gridcolor": "white",
           "linecolor": "white",
           "ticks": "",
           "title": {
            "standoff": 15
           },
           "zerolinecolor": "white",
           "zerolinewidth": 2
          },
          "yaxis": {
           "automargin": true,
           "gridcolor": "white",
           "linecolor": "white",
           "ticks": "",
           "title": {
            "standoff": 15
           },
           "zerolinecolor": "white",
           "zerolinewidth": 2
          }
         }
        },
        "width": 500,
        "xaxis": {
         "autorange": false,
         "exponentformat": "e",
         "linecolor": "black",
         "linewidth": 1,
         "mirror": false,
         "range": [
          -0.0029644613107190736,
          0.15118752684667275
         ],
         "showexponent": "all",
         "showline": true,
         "side": "bottom",
         "ticks": "outside",
         "title": {
          "text": "Birth"
         },
         "type": "linear",
         "zeroline": true
        },
        "yaxis": {
         "autorange": false,
         "exponentformat": "e",
         "linecolor": "black",
         "linewidth": 1,
         "mirror": false,
         "range": [
          -0.0029644613107190736,
          0.15118752684667275
         ],
         "scaleanchor": "x",
         "scaleratio": 1,
         "showexponent": "all",
         "showline": true,
         "side": "left",
         "ticks": "outside",
         "title": {
          "text": "Death"
         },
         "type": "linear",
         "zeroline": true
        }
       }
      },
      "text/html": [
       "<div>                            <div id=\"ee8df324-abeb-46be-a221-517b4c4851ab\" class=\"plotly-graph-div\" style=\"height:500px; width:500px;\"></div>            <script type=\"text/javascript\">                require([\"plotly\"], function(Plotly) {                    window.PLOTLYENV=window.PLOTLYENV || {};                                    if (document.getElementById(\"ee8df324-abeb-46be-a221-517b4c4851ab\")) {                    Plotly.newPlot(                        \"ee8df324-abeb-46be-a221-517b4c4851ab\",                        [{\"hoverinfo\":\"none\",\"line\":{\"color\":\"black\",\"dash\":\"dash\",\"width\":1},\"mode\":\"lines\",\"showlegend\":false,\"x\":[-0.0029644613107190736,0.15118752684667275],\"y\":[-0.0029644613107190736,0.15118752684667275],\"type\":\"scatter\"},{\"hoverinfo\":\"text\",\"hovertext\":[\"(0.0, 5.497501073556185e-06)\",\"(0.0, 2.797903466900987e-05)\",\"(0.0, 5.3092035068739124e-05)\",\"(0.0, 5.845369621934823e-05)\",\"(0.0, 6.309808856752508e-05)\",\"(0.0, 6.346598552177369e-05)\",\"(0.0, 9.513526300159868e-05)\",\"(0.0, 0.00010077643489342331)\",\"(0.0, 0.0001055035436637972)\",\"(0.0, 0.00016879491194315586)\",\"(0.0, 0.00018824800693163145)\",\"(0.0, 0.00019561996655200446)\",\"(0.0, 0.00021647687712081438)\",\"(0.0, 0.00022295485708936474)\",\"(0.0, 0.0002271107711421792)\",\"(0.0, 0.00023249450516270976)\",\"(0.0, 0.00024350755993331742)\",\"(0.0, 0.0002460184104635574)\",\"(0.0, 0.00024872831470314905)\",\"(0.0, 0.0002964026064796761)\",\"(0.0, 0.0003362829963069455)\",\"(0.0, 0.00034568581153344703)\",\"(0.0, 0.00035725176801225004)\",\"(0.0, 0.0004169848191402468)\",\"(0.0, 0.000456446942292507)\",\"(0.0, 0.0005057873283947096)\",\"(0.0, 0.0005464886395163622)\",\"(0.0, 0.0006719858455950115)\",\"(0.0, 0.0006827824915070417)\",\"(0.0, 0.000725317537085756)\",\"(0.0, 0.0007323460693754887)\",\"(0.0, 0.0007714963303484296)\",\"(0.0, 0.0009656126892120514)\",\"(0.0, 0.0010835442628151029)\",\"(0.0, 0.0013051749750692145)\",\"(0.0, 0.001321813182322618)\",\"(0.0, 0.0014761413837459038)\",\"(0.0, 0.0019457182164011586)\",\"(0.0, 0.001954938120480689)\",\"(0.0, 0.0019676204147241025)\",\"(0.0, 0.0021104184309805266)\",\"(0.0, 0.0026018218268542394)\",\"(0.0, 0.0030537805305115955)\",\"(0.0, 0.0037551192385148623)\",\"(0.0, 0.00390628546816523)\",\"(0.0, 0.004080513583882878)\",\"(0.0, 0.0051045710643796306)\",\"(0.0, 0.005328089622778784)\",\"(0.0, 0.0055308165608320865)\",\"(0.0, 0.005587033905868339)\",\"(0.0, 0.00811632576000093)\",\"(0.0, 0.011487694911209542)\",\"(0.0, 0.011757386351510496)\",\"(0.0, 0.015056521098041042)\",\"(0.0, 0.015672975998541016)\",\"(0.0, 0.016440709596121275)\",\"(0.0, 0.016489644750857055)\",\"(0.0, 0.017266327239356883)\",\"(0.0, 0.01761040360710634)\",\"(0.0, 0.01783917751689376)\",\"(0.0, 0.018052047137615997)\",\"(0.0, 0.01833087178203703)\",\"(0.0, 0.01979334609944764)\",\"(0.0, 0.022862725953432785)\",\"(0.0, 0.023089928350668476)\",\"(0.0, 0.02310413501815)\",\"(0.0, 0.023169541952594644)\",\"(0.0, 0.024404590756790003)\",\"(0.0, 0.025044526188965653)\",\"(0.0, 0.0265156098729791)\",\"(0.0, 0.027968279213157247)\",\"(0.0, 0.02864401748453224)\",\"(0.0, 0.029928942410855464)\",\"(0.0, 0.030941115327679767)\",\"(0.0, 0.03177564669681643)\",\"(0.0, 0.03199461077902399)\",\"(0.0, 0.032457348470297444)\",\"(0.0, 0.03296870361855316)\",\"(0.0, 0.03352004503062509)\",\"(0.0, 0.03396159640453449)\",\"(0.0, 0.03538696071412634)\",\"(0.0, 0.038287419945016464)\",\"(0.0, 0.03834337355241382)\",\"(0.0, 0.040292585079943426)\",\"(0.0, 0.04282252384915808)\",\"(0.0, 0.043918770262326184)\",\"(0.0, 0.048899771451631366)\",\"(0.0, 0.050329770268146605)\",\"(0.0, 0.05287881698087217)\",\"(0.0, 0.05372776843277516)\",\"(0.0, 0.05548084403805)\",\"(0.0, 0.07168161058695023)\",\"(0.0, 0.07605813723378868)\",\"(0.0, 0.07786578894780444)\",\"(0.0, 0.09008638468687127)\",\"(0.0, 0.10698279290762805)\",\"(0.0, 0.10982432041782833)\",\"(0.0, 0.13939985681774528)\",\"(0.0, 0.14822306553595369)\"],\"mode\":\"markers\",\"name\":\"H0\",\"x\":[0.0,0.0,0.0,0.0,0.0,0.0,0.0,0.0,0.0,0.0,0.0,0.0,0.0,0.0,0.0,0.0,0.0,0.0,0.0,0.0,0.0,0.0,0.0,0.0,0.0,0.0,0.0,0.0,0.0,0.0,0.0,0.0,0.0,0.0,0.0,0.0,0.0,0.0,0.0,0.0,0.0,0.0,0.0,0.0,0.0,0.0,0.0,0.0,0.0,0.0,0.0,0.0,0.0,0.0,0.0,0.0,0.0,0.0,0.0,0.0,0.0,0.0,0.0,0.0,0.0,0.0,0.0,0.0,0.0,0.0,0.0,0.0,0.0,0.0,0.0,0.0,0.0,0.0,0.0,0.0,0.0,0.0,0.0,0.0,0.0,0.0,0.0,0.0,0.0,0.0,0.0,0.0,0.0,0.0,0.0,0.0,0.0,0.0,0.0],\"y\":[5.497501073556185e-06,2.797903466900987e-05,5.3092035068739124e-05,5.845369621934823e-05,6.309808856752508e-05,6.346598552177369e-05,9.513526300159868e-05,0.00010077643489342331,0.0001055035436637972,0.00016879491194315586,0.00018824800693163145,0.00019561996655200446,0.00021647687712081438,0.00022295485708936474,0.0002271107711421792,0.00023249450516270976,0.00024350755993331742,0.0002460184104635574,0.00024872831470314905,0.0002964026064796761,0.0003362829963069455,0.00034568581153344703,0.00035725176801225004,0.0004169848191402468,0.000456446942292507,0.0005057873283947096,0.0005464886395163622,0.0006719858455950115,0.0006827824915070417,0.000725317537085756,0.0007323460693754887,0.0007714963303484296,0.0009656126892120514,0.0010835442628151029,0.0013051749750692145,0.001321813182322618,0.0014761413837459038,0.0019457182164011586,0.001954938120480689,0.0019676204147241025,0.0021104184309805266,0.0026018218268542394,0.0030537805305115955,0.0037551192385148623,0.00390628546816523,0.004080513583882878,0.0051045710643796306,0.005328089622778784,0.0055308165608320865,0.005587033905868339,0.00811632576000093,0.011487694911209542,0.011757386351510496,0.015056521098041042,0.015672975998541016,0.016440709596121275,0.016489644750857055,0.017266327239356883,0.01761040360710634,0.01783917751689376,0.018052047137615997,0.01833087178203703,0.01979334609944764,0.022862725953432785,0.023089928350668476,0.02310413501815,0.023169541952594644,0.024404590756790003,0.025044526188965653,0.0265156098729791,0.027968279213157247,0.02864401748453224,0.029928942410855464,0.030941115327679767,0.03177564669681643,0.03199461077902399,0.032457348470297444,0.03296870361855316,0.03352004503062509,0.03396159640453449,0.03538696071412634,0.038287419945016464,0.03834337355241382,0.040292585079943426,0.04282252384915808,0.043918770262326184,0.048899771451631366,0.050329770268146605,0.05287881698087217,0.05372776843277516,0.05548084403805,0.07168161058695023,0.07605813723378868,0.07786578894780444,0.09008638468687127,0.10698279290762805,0.10982432041782833,0.13939985681774528,0.14822306553595369],\"type\":\"scatter\"},{\"hoverinfo\":\"text\",\"hovertext\":[\"(0.05782090868347991, 0.06157966598567789)\",\"(0.05386036722950098, 0.05775801907932646)\",\"(0.05069318254573393, 0.05699926468733691)\",\"(0.047772633175988066, 0.047970653458200674)\",\"(0.04512080760224047, 0.0493403236539801)\",\"(0.03845867843554955, 0.04735922836793571)\",\"(0.03587660328232708, 0.03590774978803982)\",\"(0.031839081965050336, 0.038400925349273515)\"],\"mode\":\"markers\",\"name\":\"H1\",\"x\":[0.05782090868347991,0.05386036722950098,0.05069318254573393,0.047772633175988066,0.04512080760224047,0.03845867843554955,0.03587660328232708,0.031839081965050336],\"y\":[0.06157966598567789,0.05775801907932646,0.05699926468733691,0.047970653458200674,0.0493403236539801,0.04735922836793571,0.03590774978803982,0.038400925349273515],\"type\":\"scatter\"},{\"hoverinfo\":\"text\",\"hovertext\":[\"(0.05068086266338395, 0.05555857085484463)\"],\"mode\":\"markers\",\"name\":\"H2\",\"x\":[0.05068086266338395],\"y\":[0.05555857085484463],\"type\":\"scatter\"}],                        {\"template\":{\"data\":{\"bar\":[{\"error_x\":{\"color\":\"#2a3f5f\"},\"error_y\":{\"color\":\"#2a3f5f\"},\"marker\":{\"line\":{\"color\":\"#E5ECF6\",\"width\":0.5},\"pattern\":{\"fillmode\":\"overlay\",\"size\":10,\"solidity\":0.2}},\"type\":\"bar\"}],\"barpolar\":[{\"marker\":{\"line\":{\"color\":\"#E5ECF6\",\"width\":0.5},\"pattern\":{\"fillmode\":\"overlay\",\"size\":10,\"solidity\":0.2}},\"type\":\"barpolar\"}],\"carpet\":[{\"aaxis\":{\"endlinecolor\":\"#2a3f5f\",\"gridcolor\":\"white\",\"linecolor\":\"white\",\"minorgridcolor\":\"white\",\"startlinecolor\":\"#2a3f5f\"},\"baxis\":{\"endlinecolor\":\"#2a3f5f\",\"gridcolor\":\"white\",\"linecolor\":\"white\",\"minorgridcolor\":\"white\",\"startlinecolor\":\"#2a3f5f\"},\"type\":\"carpet\"}],\"choropleth\":[{\"colorbar\":{\"outlinewidth\":0,\"ticks\":\"\"},\"type\":\"choropleth\"}],\"contour\":[{\"colorbar\":{\"outlinewidth\":0,\"ticks\":\"\"},\"colorscale\":[[0.0,\"#0d0887\"],[0.1111111111111111,\"#46039f\"],[0.2222222222222222,\"#7201a8\"],[0.3333333333333333,\"#9c179e\"],[0.4444444444444444,\"#bd3786\"],[0.5555555555555556,\"#d8576b\"],[0.6666666666666666,\"#ed7953\"],[0.7777777777777778,\"#fb9f3a\"],[0.8888888888888888,\"#fdca26\"],[1.0,\"#f0f921\"]],\"type\":\"contour\"}],\"contourcarpet\":[{\"colorbar\":{\"outlinewidth\":0,\"ticks\":\"\"},\"type\":\"contourcarpet\"}],\"heatmap\":[{\"colorbar\":{\"outlinewidth\":0,\"ticks\":\"\"},\"colorscale\":[[0.0,\"#0d0887\"],[0.1111111111111111,\"#46039f\"],[0.2222222222222222,\"#7201a8\"],[0.3333333333333333,\"#9c179e\"],[0.4444444444444444,\"#bd3786\"],[0.5555555555555556,\"#d8576b\"],[0.6666666666666666,\"#ed7953\"],[0.7777777777777778,\"#fb9f3a\"],[0.8888888888888888,\"#fdca26\"],[1.0,\"#f0f921\"]],\"type\":\"heatmap\"}],\"heatmapgl\":[{\"colorbar\":{\"outlinewidth\":0,\"ticks\":\"\"},\"colorscale\":[[0.0,\"#0d0887\"],[0.1111111111111111,\"#46039f\"],[0.2222222222222222,\"#7201a8\"],[0.3333333333333333,\"#9c179e\"],[0.4444444444444444,\"#bd3786\"],[0.5555555555555556,\"#d8576b\"],[0.6666666666666666,\"#ed7953\"],[0.7777777777777778,\"#fb9f3a\"],[0.8888888888888888,\"#fdca26\"],[1.0,\"#f0f921\"]],\"type\":\"heatmapgl\"}],\"histogram\":[{\"marker\":{\"pattern\":{\"fillmode\":\"overlay\",\"size\":10,\"solidity\":0.2}},\"type\":\"histogram\"}],\"histogram2d\":[{\"colorbar\":{\"outlinewidth\":0,\"ticks\":\"\"},\"colorscale\":[[0.0,\"#0d0887\"],[0.1111111111111111,\"#46039f\"],[0.2222222222222222,\"#7201a8\"],[0.3333333333333333,\"#9c179e\"],[0.4444444444444444,\"#bd3786\"],[0.5555555555555556,\"#d8576b\"],[0.6666666666666666,\"#ed7953\"],[0.7777777777777778,\"#fb9f3a\"],[0.8888888888888888,\"#fdca26\"],[1.0,\"#f0f921\"]],\"type\":\"histogram2d\"}],\"histogram2dcontour\":[{\"colorbar\":{\"outlinewidth\":0,\"ticks\":\"\"},\"colorscale\":[[0.0,\"#0d0887\"],[0.1111111111111111,\"#46039f\"],[0.2222222222222222,\"#7201a8\"],[0.3333333333333333,\"#9c179e\"],[0.4444444444444444,\"#bd3786\"],[0.5555555555555556,\"#d8576b\"],[0.6666666666666666,\"#ed7953\"],[0.7777777777777778,\"#fb9f3a\"],[0.8888888888888888,\"#fdca26\"],[1.0,\"#f0f921\"]],\"type\":\"histogram2dcontour\"}],\"mesh3d\":[{\"colorbar\":{\"outlinewidth\":0,\"ticks\":\"\"},\"type\":\"mesh3d\"}],\"parcoords\":[{\"line\":{\"colorbar\":{\"outlinewidth\":0,\"ticks\":\"\"}},\"type\":\"parcoords\"}],\"pie\":[{\"automargin\":true,\"type\":\"pie\"}],\"scatter\":[{\"marker\":{\"colorbar\":{\"outlinewidth\":0,\"ticks\":\"\"}},\"type\":\"scatter\"}],\"scatter3d\":[{\"line\":{\"colorbar\":{\"outlinewidth\":0,\"ticks\":\"\"}},\"marker\":{\"colorbar\":{\"outlinewidth\":0,\"ticks\":\"\"}},\"type\":\"scatter3d\"}],\"scattercarpet\":[{\"marker\":{\"colorbar\":{\"outlinewidth\":0,\"ticks\":\"\"}},\"type\":\"scattercarpet\"}],\"scattergeo\":[{\"marker\":{\"colorbar\":{\"outlinewidth\":0,\"ticks\":\"\"}},\"type\":\"scattergeo\"}],\"scattergl\":[{\"marker\":{\"colorbar\":{\"outlinewidth\":0,\"ticks\":\"\"}},\"type\":\"scattergl\"}],\"scattermapbox\":[{\"marker\":{\"colorbar\":{\"outlinewidth\":0,\"ticks\":\"\"}},\"type\":\"scattermapbox\"}],\"scatterpolar\":[{\"marker\":{\"colorbar\":{\"outlinewidth\":0,\"ticks\":\"\"}},\"type\":\"scatterpolar\"}],\"scatterpolargl\":[{\"marker\":{\"colorbar\":{\"outlinewidth\":0,\"ticks\":\"\"}},\"type\":\"scatterpolargl\"}],\"scatterternary\":[{\"marker\":{\"colorbar\":{\"outlinewidth\":0,\"ticks\":\"\"}},\"type\":\"scatterternary\"}],\"surface\":[{\"colorbar\":{\"outlinewidth\":0,\"ticks\":\"\"},\"colorscale\":[[0.0,\"#0d0887\"],[0.1111111111111111,\"#46039f\"],[0.2222222222222222,\"#7201a8\"],[0.3333333333333333,\"#9c179e\"],[0.4444444444444444,\"#bd3786\"],[0.5555555555555556,\"#d8576b\"],[0.6666666666666666,\"#ed7953\"],[0.7777777777777778,\"#fb9f3a\"],[0.8888888888888888,\"#fdca26\"],[1.0,\"#f0f921\"]],\"type\":\"surface\"}],\"table\":[{\"cells\":{\"fill\":{\"color\":\"#EBF0F8\"},\"line\":{\"color\":\"white\"}},\"header\":{\"fill\":{\"color\":\"#C8D4E3\"},\"line\":{\"color\":\"white\"}},\"type\":\"table\"}]},\"layout\":{\"annotationdefaults\":{\"arrowcolor\":\"#2a3f5f\",\"arrowhead\":0,\"arrowwidth\":1},\"autotypenumbers\":\"strict\",\"coloraxis\":{\"colorbar\":{\"outlinewidth\":0,\"ticks\":\"\"}},\"colorscale\":{\"diverging\":[[0,\"#8e0152\"],[0.1,\"#c51b7d\"],[0.2,\"#de77ae\"],[0.3,\"#f1b6da\"],[0.4,\"#fde0ef\"],[0.5,\"#f7f7f7\"],[0.6,\"#e6f5d0\"],[0.7,\"#b8e186\"],[0.8,\"#7fbc41\"],[0.9,\"#4d9221\"],[1,\"#276419\"]],\"sequential\":[[0.0,\"#0d0887\"],[0.1111111111111111,\"#46039f\"],[0.2222222222222222,\"#7201a8\"],[0.3333333333333333,\"#9c179e\"],[0.4444444444444444,\"#bd3786\"],[0.5555555555555556,\"#d8576b\"],[0.6666666666666666,\"#ed7953\"],[0.7777777777777778,\"#fb9f3a\"],[0.8888888888888888,\"#fdca26\"],[1.0,\"#f0f921\"]],\"sequentialminus\":[[0.0,\"#0d0887\"],[0.1111111111111111,\"#46039f\"],[0.2222222222222222,\"#7201a8\"],[0.3333333333333333,\"#9c179e\"],[0.4444444444444444,\"#bd3786\"],[0.5555555555555556,\"#d8576b\"],[0.6666666666666666,\"#ed7953\"],[0.7777777777777778,\"#fb9f3a\"],[0.8888888888888888,\"#fdca26\"],[1.0,\"#f0f921\"]]},\"colorway\":[\"#636efa\",\"#EF553B\",\"#00cc96\",\"#ab63fa\",\"#FFA15A\",\"#19d3f3\",\"#FF6692\",\"#B6E880\",\"#FF97FF\",\"#FECB52\"],\"font\":{\"color\":\"#2a3f5f\"},\"geo\":{\"bgcolor\":\"white\",\"lakecolor\":\"white\",\"landcolor\":\"#E5ECF6\",\"showlakes\":true,\"showland\":true,\"subunitcolor\":\"white\"},\"hoverlabel\":{\"align\":\"left\"},\"hovermode\":\"closest\",\"mapbox\":{\"style\":\"light\"},\"paper_bgcolor\":\"white\",\"plot_bgcolor\":\"#E5ECF6\",\"polar\":{\"angularaxis\":{\"gridcolor\":\"white\",\"linecolor\":\"white\",\"ticks\":\"\"},\"bgcolor\":\"#E5ECF6\",\"radialaxis\":{\"gridcolor\":\"white\",\"linecolor\":\"white\",\"ticks\":\"\"}},\"scene\":{\"xaxis\":{\"backgroundcolor\":\"#E5ECF6\",\"gridcolor\":\"white\",\"gridwidth\":2,\"linecolor\":\"white\",\"showbackground\":true,\"ticks\":\"\",\"zerolinecolor\":\"white\"},\"yaxis\":{\"backgroundcolor\":\"#E5ECF6\",\"gridcolor\":\"white\",\"gridwidth\":2,\"linecolor\":\"white\",\"showbackground\":true,\"ticks\":\"\",\"zerolinecolor\":\"white\"},\"zaxis\":{\"backgroundcolor\":\"#E5ECF6\",\"gridcolor\":\"white\",\"gridwidth\":2,\"linecolor\":\"white\",\"showbackground\":true,\"ticks\":\"\",\"zerolinecolor\":\"white\"}},\"shapedefaults\":{\"line\":{\"color\":\"#2a3f5f\"}},\"ternary\":{\"aaxis\":{\"gridcolor\":\"white\",\"linecolor\":\"white\",\"ticks\":\"\"},\"baxis\":{\"gridcolor\":\"white\",\"linecolor\":\"white\",\"ticks\":\"\"},\"bgcolor\":\"#E5ECF6\",\"caxis\":{\"gridcolor\":\"white\",\"linecolor\":\"white\",\"ticks\":\"\"}},\"title\":{\"x\":0.05},\"xaxis\":{\"automargin\":true,\"gridcolor\":\"white\",\"linecolor\":\"white\",\"ticks\":\"\",\"title\":{\"standoff\":15},\"zerolinecolor\":\"white\",\"zerolinewidth\":2},\"yaxis\":{\"automargin\":true,\"gridcolor\":\"white\",\"linecolor\":\"white\",\"ticks\":\"\",\"title\":{\"standoff\":15},\"zerolinecolor\":\"white\",\"zerolinewidth\":2}}},\"xaxis\":{\"title\":{\"text\":\"Birth\"},\"side\":\"bottom\",\"type\":\"linear\",\"range\":[-0.0029644613107190736,0.15118752684667275],\"autorange\":false,\"ticks\":\"outside\",\"showline\":true,\"zeroline\":true,\"linewidth\":1,\"linecolor\":\"black\",\"mirror\":false,\"showexponent\":\"all\",\"exponentformat\":\"e\"},\"yaxis\":{\"title\":{\"text\":\"Death\"},\"side\":\"left\",\"type\":\"linear\",\"range\":[-0.0029644613107190736,0.15118752684667275],\"autorange\":false,\"scaleanchor\":\"x\",\"scaleratio\":1,\"ticks\":\"outside\",\"showline\":true,\"zeroline\":true,\"linewidth\":1,\"linecolor\":\"black\",\"mirror\":false,\"showexponent\":\"all\",\"exponentformat\":\"e\"},\"width\":500,\"height\":500,\"plot_bgcolor\":\"white\"},                        {\"responsive\": true}                    ).then(function(){\n",
       "                            \n",
       "var gd = document.getElementById('ee8df324-abeb-46be-a221-517b4c4851ab');\n",
       "var x = new MutationObserver(function (mutations, observer) {{\n",
       "        var display = window.getComputedStyle(gd).display;\n",
       "        if (!display || display === 'none') {{\n",
       "            console.log([gd, 'removed!']);\n",
       "            Plotly.purge(gd);\n",
       "            observer.disconnect();\n",
       "        }}\n",
       "}});\n",
       "\n",
       "// Listen for the removal of the full notebook cells\n",
       "var notebookContainer = gd.closest('#notebook-container');\n",
       "if (notebookContainer) {{\n",
       "    x.observe(notebookContainer, {childList: true});\n",
       "}}\n",
       "\n",
       "// Listen for the clearing of the current output cell\n",
       "var outputEl = gd.closest('.output');\n",
       "if (outputEl) {{\n",
       "    x.observe(outputEl, {childList: true});\n",
       "}}\n",
       "\n",
       "                        })                };                });            </script>        </div>"
      ]
     },
     "metadata": {},
     "output_type": "display_data"
    }
   ],
   "source": [
    "plot_diagram(new_persistence[2])"
   ]
  },
  {
   "cell_type": "code",
   "execution_count": 93,
   "metadata": {},
   "outputs": [],
   "source": [
    "persistence = traffic_dataset_1['n_100_TDA_0_1_2'].persistence"
   ]
  },
  {
   "cell_type": "code",
   "execution_count": 114,
   "metadata": {},
   "outputs": [],
   "source": [
    "def visualize_side_by_side(\n",
    "    model_datum: list,\n",
    "    results: dict,\n",
    "    title: str = \"Confusion Matrices\",\n",
    "    model_descriptions: list or None = None,\n",
    "    plotting_function: callable = visualize_confusion_matrix,\n",
    "    shape: tuple = (2,5),\n",
    "    size: tuple = (20,10),\n",
    "    x_label: str = 'Predicted',\n",
    "    y_label: str = 'True',\n",
    ") -> tuple:\n",
    "    '''\n",
    "        Function will take the plotting function and execute it on each Model_data tuple passed in through the model_datum list\n",
    "            The plots will be oriented in a subplot grid with the number of rows and columns specified by the shape tuple\n",
    "            average accuracy will be calculated and displayed in the subtitle of the figure\n",
    "            \n",
    "    '''\n",
    "\n",
    "    # print('Ignore yellowbrick warnings, this is a side-effect of using the sklearn wrapper on the fastai model')\n",
    "    rows = shape[0]\n",
    "    cols = shape[1]\n",
    "\n",
    "    fig, ax = plt.subplots(nrows=rows, ncols=cols, figsize=size)\n",
    "    fig.suptitle(title)\n",
    "    fig.text(0.5, .001, f'    Average Accuracy: {np.average(results[\"accuracy\"]) * 100: .4f}', ha='center')\n",
    "\n",
    "    viz: list = [0] * len(model_datum)\n",
    "    for i in range(rows*cols):\n",
    "        row = i // cols\n",
    "        col = i % cols\n",
    "        if i < len(model_datum):\n",
    "            print('we are at ', i)\n",
    "            if(rows == 1):\n",
    "                current_ax = ax[col]\n",
    "            else:\n",
    "                current_ax = ax[row][col]\n",
    "            viz[i] = plotting_function(model_datum[i], ax=current_ax)\n",
    "            # viz[i].finalize()\n",
    "            if model_descriptions is not None:\n",
    "                current_ax.set_title(model_descriptions[i])\n",
    "\n",
    "        if(row == rows-1):\n",
    "            current_ax.set_xlabel(x_label)\n",
    "        else:\n",
    "            current_ax.set_xlabel('')\n",
    "            current_ax.xaxis.set_ticklabels([])\n",
    "\n",
    "        if(col == 0):\n",
    "            current_ax.set_ylabel(y_label)\n",
    "        else:\n",
    "            current_ax.set_ylabel('')\n",
    "            current_ax.yaxis.set_ticklabels([])\n",
    "\n",
    "    plt.tight_layout()\n",
    "\n",
    "    return (fig, ax)\n"
   ]
  },
  {
   "cell_type": "code",
   "execution_count": 115,
   "metadata": {},
   "outputs": [],
   "source": [
    "def plot_persistence(diagram, homology_dimensions=None, ax=None, figsize=(10, 10)):\n",
    "\n",
    "    if ax is None:\n",
    "        fig, ax = plt.subplots(figsize=figsize)\n",
    "\n",
    "    if homology_dimensions is None:\n",
    "        homology_dimensions = np.unique(diagram[:, 2])\n",
    "\n",
    "    diagram = diagram[diagram[:, 0] != diagram[:, 1]]\n",
    "    diagram_no_dims = diagram[:, :2]\n",
    "    posinfinite_mask = np.isposinf(diagram_no_dims)\n",
    "    neginfinite_mask = np.isneginf(diagram_no_dims)\n",
    "    max_val = np.max(np.where(posinfinite_mask, -np.inf, diagram_no_dims))\n",
    "    min_val = np.min(np.where(neginfinite_mask, np.inf, diagram_no_dims))\n",
    "    parameter_range = max_val - min_val\n",
    "    extra_space_factor = 0.02\n",
    "    has_posinfinite_death = np.any(posinfinite_mask[:, 1])\n",
    "    if has_posinfinite_death:\n",
    "        posinfinity_val = max_val + 0.1 * parameter_range\n",
    "        extra_space_factor += 0.1\n",
    "    extra_space = extra_space_factor * parameter_range\n",
    "    min_val_display = min_val - extra_space\n",
    "    max_val_display = max_val + extra_space\n",
    "\n",
    "    ax.plot([min_val_display, max_val_display], [min_val_display, max_val_display], 'k--')\n",
    "    colors = ['r', 'g', 'purple', 'orange', 'b', 'c', 'm', 'y', 'k']\n",
    "\n",
    "    ax.set_xlabel('Birth')\n",
    "    ax.set_ylabel('Death')\n",
    "\n",
    "    for i, dim in enumerate(homology_dimensions):\n",
    "        name = f\"H{int(dim)}\" if dim != np.inf else \"Any homology dimension\"\n",
    "        subdiagram = diagram[diagram[:, 2] == dim]\n",
    "        y = subdiagram[:, 1]\n",
    "        if has_posinfinite_death:\n",
    "            y[np.isposinf(y)] = posinfinity_val\n",
    "\n",
    "        ax.scatter(subdiagram[:, 0], y, label=name, color=colors[i])\n",
    "        ax.legend()\n",
    "\n",
    "    fig.finalize()\n",
    "    return ax"
   ]
  },
  {
   "cell_type": "code",
   "execution_count": 124,
   "metadata": {},
   "outputs": [
    {
     "name": "stdout",
     "output_type": "stream",
     "text": [
      "we are at  0\n",
      "we are at  1\n",
      "we are at  2\n",
      "we are at  3\n"
     ]
    },
    {
     "data": {
      "text/plain": [
       "(<Figure size 2000x1000 with 4 Axes>,\n",
       " array([<AxesSubplot:title={'center':'Traffic'}, xlabel='Predicted', ylabel='True'>,\n",
       "        <AxesSubplot:title={'center':'Application'}, xlabel='Predicted'>,\n",
       "        <AxesSubplot:title={'center':'Traffic'}, xlabel='Predicted'>,\n",
       "        <AxesSubplot:title={'center':'Application'}, xlabel='Predicted'>],\n",
       "       dtype=object))"
      ]
     },
     "execution_count": 124,
     "metadata": {},
     "output_type": "execute_result"
    },
    {
     "data": {
      "image/png": "[encoded data removed]",
      "text/plain": [
       "<Figure size 2000x1000 with 4 Axes>"
      ]
     },
     "metadata": {},
     "output_type": "display_data"
    }
   ],
   "source": [
    "visualize_side_by_side(list(persistence[1:5]), {'accuracy': [0.9, 0.8, 0.7, 0.6]}, title='Persistence Diagrams', model_descriptions=['Traffic', 'Application', 'Traffic', 'Application'], plotting_function=plot_persistence, shape=(1,4))"
   ]
  },
  {
   "cell_type": "code",
   "execution_count": 121,
   "metadata": {},
   "outputs": [
    {
     "data": {
      "text/plain": [
       "<AxesSubplot:xlabel='Birth', ylabel='Death'>"
      ]
     },
     "execution_count": 121,
     "metadata": {},
     "output_type": "execute_result"
    },
    {
     "data": {
      "image/png": "[encoded data removed]",
      "text/plain": [
       "<Figure size 1000x1000 with 2 Axes>"
      ]
     },
     "metadata": {},
     "output_type": "display_data"
    }
   ],
   "source": [
    "fig, ax = plt.subplots(1, 2, figsize=(10, 10))\n",
    "plot_persistence(persistence[0], ax=ax[0])\n",
    "plot_persistence(persistence[2], ax=ax[1])"
   ]
  },
  {
   "cell_type": "code",
   "execution_count": 122,
   "metadata": {},
   "outputs": [
    {
     "ename": "IndentationError",
     "evalue": "expected an indented block (<ipython-input-122-075ed030b40a>, line 3)",
     "output_type": "error",
     "traceback": [
      "\u001b[1;36m  File \u001b[1;32m\"<ipython-input-122-075ed030b40a>\"\u001b[1;36m, line \u001b[1;32m3\u001b[0m\n\u001b[1;33m    fig = go.Figure()\u001b[0m\n\u001b[1;37m      ^\u001b[0m\n\u001b[1;31mIndentationError\u001b[0m\u001b[1;31m:\u001b[0m expected an indented block\n"
     ]
    }
   ],
   "source": [
    "\n",
    "if ax == None:\n",
    "\n",
    "fig = go.Figure()\n",
    "fig.add_trace(go.Scatter(\n",
    "    x=[min_val_display, max_val_display]\n",
    "    y=[min_val_display, max_val_display],\n",
    "    mode=\"lines\",\n",
    "    line={\"dash\": \"dash\", \"width\": 1, \"color\": \"black\"},\n",
    "    showlegend=False,\n",
    "    hoverinfo=\"none\"\n",
    "    ))\n",
    "\n",
    "for dim in homology_dimensions:\n",
    "    name = f\"H{int(dim)}\" if dim != np.inf else \"Any homology dimension\"\n",
    "    subdiagram = diagram[diagram[:, 2] == dim]\n",
    "    unique, inverse, counts = np.unique(\n",
    "        subdiagram, axis=0, return_inverse=True, return_counts=True\n",
    "        )\n",
    "    hovertext = [\n",
    "        f\"{tuple(unique[unique_row_index][:2])}\" +\n",
    "        (\n",
    "            f\", multiplicity: {counts[unique_row_index]}\"\n",
    "            if counts[unique_row_index] > 1 else \"\"\n",
    "        )\n",
    "        for unique_row_index in inverse\n",
    "        ]\n",
    "    y = subdiagram[:, 1]\n",
    "    if has_posinfinite_death:\n",
    "        y[np.isposinf(y)] = posinfinity_val\n",
    "    fig.add_trace(gobj.Scatter(\n",
    "        x=subdiagram[:, 0], y=y, mode=\"markers\",\n",
    "        hoverinfo=\"text\", hovertext=hovertext, name=name\n",
    "    ))\n",
    "\n",
    "fig.update_layout(\n",
    "    width=500,\n",
    "    height=500,\n",
    "    xaxis1={\n",
    "        \"title\": \"Birth\",\n",
    "        \"side\": \"bottom\",\n",
    "        \"type\": \"linear\",\n",
    "        \"range\": [min_val_display, max_val_display],\n",
    "        \"autorange\": False,\n",
    "        \"ticks\": \"outside\",\n",
    "        \"showline\": True,\n",
    "        \"zeroline\": True,\n",
    "        \"linewidth\": 1,\n",
    "        \"linecolor\": \"black\",\n",
    "        \"mirror\": False,\n",
    "        \"showexponent\": \"all\",\n",
    "        \"exponentformat\": \"e\"\n",
    "        },\n",
    "    yaxis1={\n",
    "        \"title\": \"Death\",\n",
    "        \"side\": \"left\",\n",
    "        \"type\": \"linear\",\n",
    "        \"range\": [min_val_display, max_val_display],\n",
    "        \"autorange\": False, \"scaleanchor\": \"x\", \"scaleratio\": 1,\n",
    "        \"ticks\": \"outside\",\n",
    "        \"showline\": True,\n",
    "        \"zeroline\": True,\n",
    "        \"linewidth\": 1,\n",
    "        \"linecolor\": \"black\",\n",
    "        \"mirror\": False,\n",
    "        \"showexponent\": \"all\",\n",
    "        \"exponentformat\": \"e\"\n",
    "        },\n",
    "    plot_bgcolor=\"white\"\n",
    "    )\n",
    "\n",
    "# Add a horizontal dashed line for points with infinite death\n",
    "if has_posinfinite_death:\n",
    "    fig.add_trace(gobj.Scatter(\n",
    "        x=[min_val_display, max_val_display],\n",
    "        y=[posinfinity_val, posinfinity_val],\n",
    "        mode=\"lines\",\n",
    "        line={\"dash\": \"dash\", \"width\": 0.5, \"color\": \"black\"},\n",
    "        showlegend=True,\n",
    "        name=u\"\\u221E\",\n",
    "        hoverinfo=\"none\"\n",
    "    ))\n",
    "\n",
    "# Update traces and layout according to user input\n",
    "if plotly_params:\n",
    "    fig.update_traces(plotly_params.get(\"traces\", None))\n",
    "    fig.update_layout(plotly_params.get(\"layout\", None))\n",
    "\n"
   ]
  },
  {
   "cell_type": "code",
   "execution_count": 71,
   "metadata": {},
   "outputs": [
    {
     "data": {
      "text/plain": [
       "Text(0, 0.5, 'Death')"
      ]
     },
     "execution_count": 71,
     "metadata": {},
     "output_type": "execute_result"
    },
    {
     "data": {
      "image/png": "[encoded data removed]",
      "text/plain": [
       "<Figure size 1000x1000 with 1 Axes>"
      ]
     },
     "metadata": {},
     "output_type": "display_data"
    }
   ],
   "source": [
    "fig, ax = plt.subplots(figsize=(10, 10))\n",
    "\n",
    "ax.set_xlabel('Birth')\n",
    "ax.set_ylabel('Death')\n",
    "ax.scatter()"
   ]
  },
  {
   "cell_type": "code",
   "execution_count": 59,
   "metadata": {},
   "outputs": [
    {
     "name": "stdout",
     "output_type": "stream",
     "text": [
      "Collecting persim\n",
      "  Using cached persim-0.3.1-py3-none-any.whl (47 kB)\n",
      "Requirement already satisfied: scikit-learn in c:\\programdata\\anaconda3\\lib\\site-packages (from persim) (1.0.2)\n",
      "Collecting hopcroftkarp\n",
      "  Using cached hopcroftkarp-1.2.5.tar.gz (16 kB)\n",
      "Requirement already satisfied: numpy in c:\\programdata\\anaconda3\\lib\\site-packages (from persim) (1.20.3)\n",
      "Requirement already satisfied: scipy in c:\\programdata\\anaconda3\\lib\\site-packages (from persim) (1.7.3)\n",
      "Requirement already satisfied: matplotlib in c:\\programdata\\anaconda3\\lib\\site-packages (from persim) (3.5.1)\n",
      "Collecting deprecated\n",
      "  Using cached Deprecated-1.2.13-py2.py3-none-any.whl (9.6 kB)\n",
      "Requirement already satisfied: joblib in c:\\programdata\\anaconda3\\lib\\site-packages (from persim) (1.1.0)\n",
      "Requirement already satisfied: wrapt<2,>=1.10 in c:\\programdata\\anaconda3\\lib\\site-packages (from deprecated->persim) (1.13.3)\n",
      "Requirement already satisfied: pillow>=6.2.0 in c:\\programdata\\anaconda3\\lib\\site-packages (from matplotlib->persim) (8.4.0)\n",
      "Requirement already satisfied: kiwisolver>=1.0.1 in c:\\programdata\\anaconda3\\lib\\site-packages (from matplotlib->persim) (1.3.2)\n",
      "Requirement already satisfied: cycler>=0.10 in c:\\programdata\\anaconda3\\lib\\site-packages (from matplotlib->persim) (0.11.0)\n",
      "Requirement already satisfied: python-dateutil>=2.7 in c:\\programdata\\anaconda3\\lib\\site-packages (from matplotlib->persim) (2.8.2)\n",
      "Requirement already satisfied: pyparsing>=2.2.1 in c:\\programdata\\anaconda3\\lib\\site-packages (from matplotlib->persim) (3.0.4)\n",
      "Requirement already satisfied: fonttools>=4.22.0 in c:\\programdata\\anaconda3\\lib\\site-packages (from matplotlib->persim) (4.25.0)\n",
      "Requirement already satisfied: packaging>=20.0 in c:\\programdata\\anaconda3\\lib\\site-packages (from matplotlib->persim) (21.3)\n",
      "Requirement already satisfied: six>=1.5 in c:\\programdata\\anaconda3\\lib\\site-packages (from python-dateutil>=2.7->matplotlib->persim) (1.16.0)\n",
      "Requirement already satisfied: threadpoolctl>=2.0.0 in c:\\programdata\\anaconda3\\lib\\site-packages (from scikit-learn->persim) (2.2.0)\n",
      "Building wheels for collected packages: hopcroftkarp\n",
      "  Building wheel for hopcroftkarp (setup.py): started\n",
      "  Building wheel for hopcroftkarp (setup.py): finished with status 'done'\n",
      "  Created wheel for hopcroftkarp: filename=hopcroftkarp-1.2.5-py2.py3-none-any.whl size=18091 sha256=b03fd529e47af7169d32e7387ff395d9f2eddaee0b0bab31f21807c81ff8b23d\n",
      "  Stored in directory: c:\\users\\nitro\\appdata\\local\\pip\\cache\\wheels\\d2\\9f\\a8\\67f1b86e47cd17338d3d07939f4660378e65b758c4594f96e3\n",
      "Successfully built hopcroftkarp\n",
      "Installing collected packages: hopcroftkarp, deprecated, persim\n",
      "Successfully installed deprecated-1.2.13 hopcroftkarp-1.2.5 persim-0.3.1\n",
      "Note: you may need to restart the kernel to use updated packages.\n"
     ]
    },
    {
     "name": "stderr",
     "output_type": "stream",
     "text": [
      "WARNING: Ignoring invalid distribution -rso (c:\\programdata\\anaconda3\\lib\\site-packages)\n",
      "WARNING: Ignoring invalid distribution - (c:\\programdata\\anaconda3\\lib\\site-packages)\n",
      "WARNING: Ignoring invalid distribution -cikit-learn (c:\\programdata\\anaconda3\\lib\\site-packages)\n",
      "WARNING: Ignoring invalid distribution -arso (c:\\programdata\\anaconda3\\lib\\site-packages)\n",
      "WARNING: Ignoring invalid distribution -rso (c:\\programdata\\anaconda3\\lib\\site-packages)\n",
      "WARNING: Ignoring invalid distribution - (c:\\programdata\\anaconda3\\lib\\site-packages)\n",
      "WARNING: Ignoring invalid distribution -cikit-learn (c:\\programdata\\anaconda3\\lib\\site-packages)\n",
      "WARNING: Ignoring invalid distribution -arso (c:\\programdata\\anaconda3\\lib\\site-packages)\n",
      "WARNING: Ignoring invalid distribution -rso (c:\\programdata\\anaconda3\\lib\\site-packages)\n",
      "WARNING: Ignoring invalid distribution - (c:\\programdata\\anaconda3\\lib\\site-packages)\n",
      "WARNING: Ignoring invalid distribution -cikit-learn (c:\\programdata\\anaconda3\\lib\\site-packages)\n",
      "WARNING: Ignoring invalid distribution -arso (c:\\programdata\\anaconda3\\lib\\site-packages)\n",
      "WARNING: Ignoring invalid distribution -rso (c:\\programdata\\anaconda3\\lib\\site-packages)\n",
      "WARNING: Ignoring invalid distribution - (c:\\programdata\\anaconda3\\lib\\site-packages)\n",
      "WARNING: Ignoring invalid distribution -cikit-learn (c:\\programdata\\anaconda3\\lib\\site-packages)\n",
      "WARNING: Ignoring invalid distribution -arso (c:\\programdata\\anaconda3\\lib\\site-packages)\n",
      "WARNING: Ignoring invalid distribution -rso (c:\\programdata\\anaconda3\\lib\\site-packages)\n",
      "WARNING: Ignoring invalid distribution - (c:\\programdata\\anaconda3\\lib\\site-packages)\n",
      "WARNING: Ignoring invalid distribution -cikit-learn (c:\\programdata\\anaconda3\\lib\\site-packages)\n",
      "WARNING: Ignoring invalid distribution -arso (c:\\programdata\\anaconda3\\lib\\site-packages)\n",
      "WARNING: Ignoring invalid distribution -rso (c:\\programdata\\anaconda3\\lib\\site-packages)\n",
      "WARNING: Ignoring invalid distribution - (c:\\programdata\\anaconda3\\lib\\site-packages)\n",
      "WARNING: Ignoring invalid distribution -cikit-learn (c:\\programdata\\anaconda3\\lib\\site-packages)\n",
      "WARNING: Ignoring invalid distribution -arso (c:\\programdata\\anaconda3\\lib\\site-packages)\n",
      "WARNING: Ignoring invalid distribution -rso (c:\\programdata\\anaconda3\\lib\\site-packages)\n",
      "WARNING: Ignoring invalid distribution - (c:\\programdata\\anaconda3\\lib\\site-packages)\n",
      "WARNING: Ignoring invalid distribution -cikit-learn (c:\\programdata\\anaconda3\\lib\\site-packages)\n",
      "WARNING: Ignoring invalid distribution -arso (c:\\programdata\\anaconda3\\lib\\site-packages)\n",
      "WARNING: Ignoring invalid distribution -rso (c:\\programdata\\anaconda3\\lib\\site-packages)\n",
      "WARNING: Ignoring invalid distribution - (c:\\programdata\\anaconda3\\lib\\site-packages)\n",
      "WARNING: Ignoring invalid distribution -cikit-learn (c:\\programdata\\anaconda3\\lib\\site-packages)\n",
      "WARNING: Ignoring invalid distribution -arso (c:\\programdata\\anaconda3\\lib\\site-packages)\n",
      "WARNING: Ignoring invalid distribution -rso (c:\\programdata\\anaconda3\\lib\\site-packages)\n",
      "WARNING: Ignoring invalid distribution - (c:\\programdata\\anaconda3\\lib\\site-packages)\n",
      "WARNING: Ignoring invalid distribution -cikit-learn (c:\\programdata\\anaconda3\\lib\\site-packages)\n",
      "WARNING: Ignoring invalid distribution -arso (c:\\programdata\\anaconda3\\lib\\site-packages)\n"
     ]
    }
   ],
   "source": [
    "pip install persim"
   ]
  },
  {
   "cell_type": "code",
   "execution_count": 60,
   "metadata": {},
   "outputs": [],
   "source": [
    "import persim"
   ]
  },
  {
   "cell_type": "code",
   "execution_count": 61,
   "metadata": {},
   "outputs": [],
   "source": [
    "imger = persim.PersistenceImager()"
   ]
  },
  {
   "cell_type": "code",
   "execution_count": null,
   "metadata": {},
   "outputs": [],
   "source": [
    "  pers_dgm = np.copy(pers_dgm)\n",
    "\n",
    "if skew:\n",
    "    pers_dgm[:, 1] = pers_dgm[:, 1] - pers_dgm[:, 0]\n",
    "    ylabel = 'persistence'\n",
    "else:\n",
    "    ylabel = 'death'\n",
    "\n",
    "# setup plot range\n",
    "plot_buff_frac = 0.05\n",
    "bmin = np.min((np.min(pers_dgm[:, 0]), np.min(self._bpnts)))\n",
    "bmax = np.max((np.max(pers_dgm[:, 0]), np.max(self._bpnts)))\n",
    "b_plot_buff = (bmax - bmin) * plot_buff_frac\n",
    "bmin -= b_plot_buff\n",
    "bmax += b_plot_buff\n",
    "\n",
    "pmin = np.min((np.min(pers_dgm[:, 1]), np.min(self._ppnts)))\n",
    "pmax = np.max((np.max(pers_dgm[:, 1]), np.max(self._ppnts)))\n",
    "p_plot_buff = (pmax - pmin) * plot_buff_frac\n",
    "pmin -= p_plot_buff\n",
    "pmax += p_plot_buff\n",
    "\n",
    "ax = ax or plt.gca()\n",
    "ax.set_xlim(bmin, bmax)\n",
    "ax.set_ylim(pmin, pmax)\n",
    "\n",
    "# compute reasonable line width for pixel overlay (initially 1/50th of the width of a pixel)\n",
    "linewidth = (1/50 * self.pixel_size) * 72 * plt.gcf().bbox_inches.width * ax.get_position().width / \\\n",
    "            np.min((bmax - bmin, pmax - pmin))\n",
    "\n",
    "# plot the persistence image grid\n",
    "if skew:\n",
    "    hlines = np.column_stack(np.broadcast_arrays(self._bpnts[0], self._ppnts, self._bpnts[-1], self._ppnts))\n",
    "    vlines = np.column_stack(np.broadcast_arrays(self._bpnts, self._ppnts[0], self._bpnts, self._ppnts[-1]))\n",
    "    lines = np.concatenate([hlines, vlines]).reshape(-1, 2, 2)\n",
    "    line_collection = LineCollection(lines, color='black', linewidths=linewidth)\n",
    "    ax.add_collection(line_collection)       \n",
    "\n",
    "# plot persistence diagram\n",
    "ax.scatter(pers_dgm[:, 0], pers_dgm[:, 1])\n",
    "\n",
    "# plot diagonal if necessary\n",
    "if not skew:\n",
    "    min_diag = np.min((np.min(ax.get_xlim()), np.min(ax.get_ylim())))\n",
    "    max_diag = np.min((np.max(ax.get_xlim()), np.max(ax.get_ylim())))\n",
    "    ax.plot([min_diag, max_diag], [min_diag, max_diag])\n",
    "\n",
    "# fix and label axes\n",
    "ax.set_aspect('equal')\n",
    "ax.set_xlabel('birth')\n",
    "ax.set_ylabel(ylabel)\n"
   ]
  },
  {
   "cell_type": "code",
   "execution_count": null,
   "metadata": {},
   "outputs": [],
   "source": []
  },
  {
   "cell_type": "code",
   "execution_count": null,
   "metadata": {},
   "outputs": [],
   "source": []
  },
  {
   "cell_type": "code",
   "execution_count": null,
   "metadata": {},
   "outputs": [],
   "source": []
  },
  {
   "cell_type": "code",
   "execution_count": null,
   "metadata": {},
   "outputs": [],
   "source": []
  },
  {
   "cell_type": "code",
   "execution_count": 37,
   "metadata": {},
   "outputs": [
    {
     "name": "stdout",
     "output_type": "stream",
     "text": [
      "Last Execution: 2022-05-13 18:33:05.741780\n"
     ]
    },
    {
     "ename": "AssertionError",
     "evalue": "Nothing after this point is included in the study",
     "output_type": "error",
     "traceback": [
      "\u001b[1;31m---------------------------------------------------------------------------\u001b[0m",
      "\u001b[1;31mAssertionError\u001b[0m                            Traceback (most recent call last)",
      "\u001b[1;32m<ipython-input-37-9f027f49fe6a>\u001b[0m in \u001b[0;36m<module>\u001b[1;34m\u001b[0m\n\u001b[0;32m      1\u001b[0m \u001b[0mprint\u001b[0m\u001b[1;33m(\u001b[0m\u001b[1;34mf'Last Execution: {datetime.datetime.now()}'\u001b[0m\u001b[1;33m)\u001b[0m\u001b[1;33m\u001b[0m\u001b[1;33m\u001b[0m\u001b[0m\n\u001b[1;32m----> 2\u001b[1;33m \u001b[1;32massert\u001b[0m \u001b[1;32mFalse\u001b[0m\u001b[1;33m,\u001b[0m \u001b[1;34m'Nothing after this point is included in the study'\u001b[0m\u001b[1;33m\u001b[0m\u001b[1;33m\u001b[0m\u001b[0m\n\u001b[0m",
      "\u001b[1;31mAssertionError\u001b[0m: Nothing after this point is included in the study"
     ]
    }
   ],
   "source": [
    "print(f'Last Execution: {datetime.datetime.now()}')\n",
    "assert False, 'Nothing after this point is included in the study'"
   ]
  },
  {
   "cell_type": "code",
   "execution_count": null,
   "metadata": {},
   "outputs": [],
   "source": []
  }
 ],
 "metadata": {
  "interpreter": {
   "hash": "ad2bdc8ecc057115af97d19610ffacc2b4e99fae6737bb82f5d7fb13d2f2c186"
  },
  "kernelspec": {
   "display_name": "Python 3.7.10 ('base')",
   "language": "python",
   "name": "python3"
  },
  "language_info": {
   "codemirror_mode": {
    "name": "ipython",
    "version": 3
   },
   "file_extension": ".py",
   "mimetype": "text/x-python",
   "name": "python",
   "nbconvert_exporter": "python",
   "pygments_lexer": "ipython3",
   "version": "3.7.10"
  }
 },
 "nbformat": 4,
 "nbformat_minor": 2
}
